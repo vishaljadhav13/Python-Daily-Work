{
 "cells": [
  {
   "cell_type": "code",
   "execution_count": null,
   "id": "cadcf7b5-d9a4-432f-8b16-10f0fd495654",
   "metadata": {},
   "outputs": [],
   "source": [
    "#file handling in python\n",
    "#Basics type of file\n",
    "#1.Text\n",
    "#2.Binary file-image file,audio,video file etc\n",
    "\n",
    "#Basics operation in file:-open,close,Read,write\n",
    "#use inbuilt function os-rename(),remove()\n",
    "\n",
    "#function-open(\"file name\",\"mode\")\n",
    "\n",
    "#Mode-read,write,append in short from r,w,a,r+,w+,ab+\n"
   ]
  },
  {
   "cell_type": "code",
   "execution_count": 8,
   "id": "094bb563-bb0a-4afe-90f0-e7e58dc531ad",
   "metadata": {},
   "outputs": [],
   "source": [
    "#making file and write\n",
    "f=open(\"my_file.txt\",\"w\")\n",
    "f.write(\"Welcome to python\")\n",
    "f.close()"
   ]
  },
  {
   "cell_type": "code",
   "execution_count": 3,
   "id": "2911c136-e5d7-40a8-860f-b51a703643f0",
   "metadata": {},
   "outputs": [
    {
     "data": {
      "text/plain": [
       "'C:\\\\Users\\\\Admin'"
      ]
     },
     "execution_count": 3,
     "metadata": {},
     "output_type": "execute_result"
    }
   ],
   "source": [
    "pwd #postion workspace dictionary"
   ]
  },
  {
   "cell_type": "code",
   "execution_count": 9,
   "id": "ed9ec91e-b959-4ad5-ac42-d095e1bac417",
   "metadata": {},
   "outputs": [
    {
     "name": "stdout",
     "output_type": "stream",
     "text": [
      "Welcome to python\n",
      "Vishal Jadhav\n",
      "\n"
     ]
    }
   ],
   "source": [
    "f=open(\"my_file.txt\",\"r\")\n",
    "data=f.read()\n",
    "print(data)"
   ]
  },
  {
   "cell_type": "code",
   "execution_count": 10,
   "id": "f876481b-5248-4153-80f5-9963b70249fb",
   "metadata": {},
   "outputs": [
    {
     "name": "stdout",
     "output_type": "stream",
     "text": [
      "Welcome to python\n",
      "Vishal Jadhav\n",
      "python is most important\n",
      "\n"
     ]
    }
   ],
   "source": [
    "f=open(\"my_file.txt\",\"r\")\n",
    "data=f.read()\n",
    "print(data)"
   ]
  },
  {
   "cell_type": "code",
   "execution_count": 13,
   "id": "ef313bbc-99f1-42fb-8b3d-614679f6fb06",
   "metadata": {},
   "outputs": [
    {
     "name": "stdout",
     "output_type": "stream",
     "text": [
      "Welcome to python\n",
      "Vishal Jadhav\n",
      "python is most important\n",
      "Good evening\n"
     ]
    }
   ],
   "source": [
    "f=open(\"my_file.txt\",\"r\")\n",
    "data=f.read()\n",
    "print(data)\n",
    "f.close()"
   ]
  },
  {
   "cell_type": "code",
   "execution_count": 14,
   "id": "f4a1f583-a925-4e00-be4d-8afa7ff3c4f8",
   "metadata": {},
   "outputs": [],
   "source": [
    "import os\n",
    "os.rename(\"my_file.txt\",\"Vishal\")\n",
    "#os.remove(\"File name\")"
   ]
  },
  {
   "cell_type": "code",
   "execution_count": 31,
   "id": "9654228d-c7fa-4a22-8359-aca5f1483846",
   "metadata": {},
   "outputs": [
    {
     "name": "stdout",
     "output_type": "stream",
     "text": [
      "It is used in almost all AI application\n",
      "Good EveningIt is used in almost all AI application\n",
      "Good Evening\n",
      "It is used in almost all AI application\n",
      "Good Evening\n"
     ]
    }
   ],
   "source": [
    "f=open(\"Vishal.txt\",\"a\")\n",
    "f.write(\"\\nIt is used in almost all AI application\\n\")\n",
    "f.write(\"Good Evening\")\n",
    "f.close()\n",
    "f=open(\"Vishal.txt\",\"r\")\n",
    "data=f.read()\n",
    "print(data)\n",
    "f.close()"
   ]
  },
  {
   "cell_type": "code",
   "execution_count": 20,
   "id": "fb8ade11-5f3f-4666-b610-45b0c5dc6080",
   "metadata": {},
   "outputs": [
    {
     "name": "stdout",
     "output_type": "stream",
     "text": [
      "Initioal postion 0\n",
      "Postion after read 5\n",
      "It is\n"
     ]
    }
   ],
   "source": [
    "f=open(\"Vishal.txt\",\"a\")\n",
    "f.write(\"It  is used in almost all AI application\\n\")\n",
    "f.write(\"Good Evening\")\n",
    "f.close()\n",
    "f=open(\"Vishal.txt\",\"r\")\n",
    "print(\"Initioal postion\",f.tell())\n",
    "data=f.read(5)\n",
    "print(\"Postion after read\",f.tell())\n",
    "print(data)\n",
    "f.close()"
   ]
  },
  {
   "cell_type": "code",
   "execution_count": null,
   "id": "dbfc8835-1e8b-4ad4-bf06-5502addee544",
   "metadata": {},
   "outputs": [],
   "source": [
    "#tell function-it return current position "
   ]
  },
  {
   "cell_type": "code",
   "execution_count": 21,
   "id": "721160c6-de7f-4f2d-b1d6-ecac6e1b2940",
   "metadata": {},
   "outputs": [
    {
     "name": "stdout",
     "output_type": "stream",
     "text": [
      "Initioal postion 0\n",
      "Postion after read 6\n",
      "It is \n"
     ]
    }
   ],
   "source": [
    "f=open(\"Vishal.txt\",\"a\")\n",
    "f.write(\"It  is used in almost all AI application\\n\")\n",
    "f.write(\"Good Evening\")\n",
    "f.close()\n",
    "f=open(\"Vishal.txt\",\"r\")\n",
    "print(\"Initioal postion\",f.tell())\n",
    "data=f.read(6)\n",
    "print(\"Postion after read\",f.tell())\n",
    "print(data)\n",
    "f.close()"
   ]
  },
  {
   "cell_type": "code",
   "execution_count": 34,
   "id": "6a4f3331-031b-4cdf-aa59-be4f7109dd7b",
   "metadata": {},
   "outputs": [
    {
     "name": "stdout",
     "output_type": "stream",
     "text": [
      "Initioal postion 0\n",
      "Postion after read 10\n",
      "It is used\n"
     ]
    }
   ],
   "source": [
    "f=open(\"Vishal.txt\",\"w\")\n",
    "f.write(\"It is used in almost all AI application\\n\")\n",
    "f.write(\"Good Evening\")\n",
    "f.close()\n",
    "f=open(\"Vishal.txt\",\"r\")\n",
    "print(\"Initioal postion:\",f.tell())\n",
    "data=f.read(10)\n",
    "print(\"Postion after read:\",f.tell())\n",
    "print(data)\n",
    "f.close()"
   ]
  },
  {
   "cell_type": "code",
   "execution_count": null,
   "id": "07a6bef2-bdf2-4e6f-825b-8ab2d231b701",
   "metadata": {},
   "outputs": [],
   "source": [
    "#seek function-change the positon of curcor\n",
    "#seek(offset,fromwhere)\n",
    "#fromwhere-fixed postion 0-start ,1-current , 2-end\n",
    "#offset-no.of positon to move"
   ]
  },
  {
   "cell_type": "code",
   "execution_count": 39,
   "id": "aa2da3dd-cf2b-4c84-9c54-e39966b75b2d",
   "metadata": {},
   "outputs": [
    {
     "name": "stdout",
     "output_type": "stream",
     "text": [
      "b'It is used in almost all AI application\\r\\nGood Evening'\n",
      "Initial positon: 53\n",
      "Positon after read(): 53\n",
      "b'It is'\n"
     ]
    }
   ],
   "source": [
    "#seek function ,in output b is binary\n",
    "f=open(\"Vishal.txt\",\"rb\")\n",
    "print(f.read())\n",
    "print(\"Initial positon:\",f.tell())\n",
    "#data=f.read(5)\n",
    "print(\"Positon after read():\",f.tell())\n",
    "f.seek(5,2)\n",
    "print(data)"
   ]
  },
  {
   "cell_type": "code",
   "execution_count": 43,
   "id": "a6f3d03e-b183-4346-93ca-73d39458d370",
   "metadata": {},
   "outputs": [
    {
     "name": "stdout",
     "output_type": "stream",
     "text": [
      "b'It is used in almost all AI application\\r\\nGood Evening'\n",
      "Initial positon: 53\n",
      "b''\n"
     ]
    }
   ],
   "source": [
    "f=open(\"Vishal.txt\",\"rb\")\n",
    "print(f.read())\n",
    "print(\"Initial positon:\",f.tell())\n",
    "f.seek(-5,1)#it change curcor from \n",
    "print(f.read())"
   ]
  },
  {
   "cell_type": "code",
   "execution_count": 44,
   "id": "9c88bb16-830f-4cbd-b192-b161a3b6d69c",
   "metadata": {},
   "outputs": [
    {
     "name": "stdout",
     "output_type": "stream",
     "text": [
      "b'It is used in almost all AI application\\r\\nGood Evening'\n",
      "Initial positon: 53\n",
      "b''\n"
     ]
    }
   ],
   "source": [
    "f=open(\"Vishal.txt\",\"rb\")\n",
    "print(f.read())\n",
    "print(\"Initial positon:\",f.tell())\n",
    "f.seek(5,2)\n",
    "print(f.read())"
   ]
  },
  {
   "cell_type": "code",
   "execution_count": 45,
   "id": "0c5b84ed-597d-413a-bacc-cda910dbfa91",
   "metadata": {},
   "outputs": [
    {
     "name": "stdout",
     "output_type": "stream",
     "text": [
      "It is used in almost all AI application\n",
      "\n",
      "Good Evening\n"
     ]
    }
   ],
   "source": [
    "#with statement-no use of close file automatic close file\n",
    "with open(\"Vishal.txt\",\"r\") as f:\n",
    "    for data in f:\n",
    "        print(data)"
   ]
  },
  {
   "cell_type": "code",
   "execution_count": null,
   "id": "76888e98-da5d-421a-9381-cb2e123119d4",
   "metadata": {},
   "outputs": [],
   "source": [
    "#replace(word_which _replace,word to replace)\n",
    "#Accept to data from user and replace and store\n",
    "#"
   ]
  },
  {
   "cell_type": "code",
   "execution_count": 3,
   "id": "08d03810-ee9e-49e3-bb3a-b1e34b059292",
   "metadata": {},
   "outputs": [
    {
     "name": "stdin",
     "output_type": "stream",
     "text": [
      "Enter a name : Vishal\n"
     ]
    }
   ],
   "source": [
    "Name=input(\"Enter a name :\")\n",
    "f=open(\"Name_file.txt\",\"w\")\n",
    "f.write(Name)\n",
    "f.close()"
   ]
  },
  {
   "cell_type": "code",
   "execution_count": 2,
   "id": "e7134d14-0157-4d6d-b4e5-c07e172a2f5d",
   "metadata": {},
   "outputs": [
    {
     "data": {
      "text/plain": [
       "'C:\\\\Users\\\\Admin'"
      ]
     },
     "execution_count": 2,
     "metadata": {},
     "output_type": "execute_result"
    }
   ],
   "source": [
    "pwd"
   ]
  },
  {
   "cell_type": "code",
   "execution_count": 4,
   "id": "5e85c384-f49e-45d9-a81d-629050a684ad",
   "metadata": {},
   "outputs": [
    {
     "name": "stdin",
     "output_type": "stream",
     "text": [
      "Enter a name : Vishal Parshuram Jadhav\n"
     ]
    }
   ],
   "source": [
    "Name=input(\"Enter a name :\")\n",
    "f=open(\"Name_file.txt\",\"w\")\n",
    "f.write(Name)\n",
    "f.close()"
   ]
  },
  {
   "cell_type": "code",
   "execution_count": 25,
   "id": "e583e0a9-45d3-4d61-8b90-10b148fa12ab",
   "metadata": {},
   "outputs": [
    {
     "name": "stdout",
     "output_type": "stream",
     "text": [
      "Vishal Parshuram Jadhav\n",
      "I am currently working an Enhance and Excel company\n",
      "Initial postion: 0\n",
      "71\n"
     ]
    }
   ],
   "source": [
    "f=open(\"Name_file.txt\",\"w\")\n",
    "f.write(\"Vishal Parshuram Jadhav\\n\")\n",
    "f.write(\"I am currently working an Enhance and Excel company\")\n",
    "f=open(\"Name_file.txt\",\"r\")\n",
    "data=f.read()\n",
    "print(data)\n",
    "f=open(\"Name_file.txt\",\"rb\")\n",
    "print(\"Initial postion:\",f.tell())\n",
    "data=f.seek(-5,2)\n",
    "print(data)\n",
    "f.read()\n",
    "\n",
    "f.close()"
   ]
  },
  {
   "cell_type": "code",
   "execution_count": 29,
   "id": "7b90d66f-318e-48f4-a251-6f2448df6db9",
   "metadata": {},
   "outputs": [
    {
     "name": "stdout",
     "output_type": "stream",
     "text": [
      "shal\n"
     ]
    }
   ],
   "source": [
    "f=open(\"Name_file.txt\",\"r\")\n",
    "f.seek(2)#curcor point\n",
    "data=f.read(4)#read four letter\n",
    "print(data)\n",
    "f.close()"
   ]
  },
  {
   "cell_type": "code",
   "execution_count": null,
   "id": "054fe93b-a99b-4ad7-bd4f-bbf8b7cb4504",
   "metadata": {},
   "outputs": [],
   "source": []
  },
  {
   "cell_type": "code",
   "execution_count": null,
   "id": "c8f45fd6-c940-41dc-b1f1-18452c9453ec",
   "metadata": {},
   "outputs": [],
   "source": []
  },
  {
   "cell_type": "code",
   "execution_count": null,
   "id": "07412843-c0cc-4a13-9708-0dd6bfabdf64",
   "metadata": {},
   "outputs": [],
   "source": []
  },
  {
   "cell_type": "code",
   "execution_count": null,
   "id": "6b99f0fe-169a-4942-8f98-67771d8dca7a",
   "metadata": {},
   "outputs": [],
   "source": []
  },
  {
   "cell_type": "code",
   "execution_count": null,
   "id": "d015f220-ffbb-4843-aa35-d1cea945b82f",
   "metadata": {},
   "outputs": [],
   "source": []
  },
  {
   "cell_type": "code",
   "execution_count": null,
   "id": "2c6217b7-ff4e-4a0d-922f-cc72e3997810",
   "metadata": {},
   "outputs": [],
   "source": []
  },
  {
   "cell_type": "code",
   "execution_count": null,
   "id": "cdd3bc13-01cc-4e1d-b61a-f417dd721711",
   "metadata": {},
   "outputs": [],
   "source": []
  }
 ],
 "metadata": {
  "kernelspec": {
   "display_name": "Python 3 (ipykernel)",
   "language": "python",
   "name": "python3"
  },
  "language_info": {
   "codemirror_mode": {
    "name": "ipython",
    "version": 3
   },
   "file_extension": ".py",
   "mimetype": "text/x-python",
   "name": "python",
   "nbconvert_exporter": "python",
   "pygments_lexer": "ipython3",
   "version": "3.11.9"
  }
 },
 "nbformat": 4,
 "nbformat_minor": 5
}
