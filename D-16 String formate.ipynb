{
 "cells": [
  {
   "cell_type": "code",
   "execution_count": 4,
   "id": "2f6f5606-26a5-4fca-8378-c48344f43f85",
   "metadata": {},
   "outputs": [
    {
     "name": "stdout",
     "output_type": "stream",
     "text": [
      "Dipak and Aniket are good boy\n"
     ]
    }
   ],
   "source": [
    "print(\"%s and %s are good boy\" %(\"Dipak\",\"Aniket\"))"
   ]
  },
  {
   "cell_type": "code",
   "execution_count": 7,
   "id": "32424890-b93d-4fb6-96b0-f41bd5bb2ec7",
   "metadata": {},
   "outputs": [
    {
     "name": "stdout",
     "output_type": "stream",
     "text": [
      "My name is Vishal and, He is a good boy\n"
     ]
    }
   ],
   "source": [
    "print(\"My name is %s and He is a good boy\" %(\"Vishal\"))"
   ]
  },
  {
   "cell_type": "code",
   "execution_count": 10,
   "id": "fec56314-7cc7-4b17-86d2-79171192a77b",
   "metadata": {},
   "outputs": [
    {
     "name": "stdout",
     "output_type": "stream",
     "text": [
      "Value of Pi is:- 3.1400\n"
     ]
    }
   ],
   "source": [
    "print(\"Value of Pi is:- %3.4f\" %(3.14))"
   ]
  },
  {
   "cell_type": "code",
   "execution_count": 15,
   "id": "d8dd9c2f-ebce-4be6-8454-d008ac1058eb",
   "metadata": {},
   "outputs": [
    {
     "name": "stdout",
     "output_type": "stream",
     "text": [
      "The integer value is= 20 and float value is= 20.00\n"
     ]
    }
   ],
   "source": [
    "data=20\n",
    "string=(\"The integer value is= %d and float value is= %1.2f\" %(data,data))\n",
    "print(string)"
   ]
  },
  {
   "cell_type": "code",
   "execution_count": 16,
   "id": "23a48a48-16b3-4875-adfc-e2ec794565f1",
   "metadata": {},
   "outputs": [
    {
     "name": "stdout",
     "output_type": "stream",
     "text": [
      "we are same\n"
     ]
    }
   ],
   "source": [
    "#using formate\n",
    "#{}-place_holder\n",
    "\n",
    "\n",
    "print(\"we are {}\" .format(\"same\"))"
   ]
  },
  {
   "cell_type": "code",
   "execution_count": 17,
   "id": "a7a4c375-40e4-4398-85d5-ca4b663039c7",
   "metadata": {},
   "outputs": [
    {
     "name": "stdout",
     "output_type": "stream",
     "text": [
      "My Name is Vishal.\n"
     ]
    }
   ],
   "source": [
    "#Index Based formating\n",
    "print(\"{3} {0} {2} {1}.\".format(\"Name\",\"Vishal\",\"is\",\"My\"))"
   ]
  },
  {
   "cell_type": "code",
   "execution_count": 19,
   "id": "3aa9b236-2bbd-44d6-a2a7-c1629053bbfb",
   "metadata": {},
   "outputs": [
    {
     "name": "stdout",
     "output_type": "stream",
     "text": [
      "the first and second are allright ,but second and second are tough\n"
     ]
    }
   ],
   "source": [
    "#Reuse \n",
    "print(\"the first and {p} are allright ,but {p} and {p} are tough\".format(p=\"second\"))"
   ]
  },
  {
   "cell_type": "code",
   "execution_count": 1,
   "id": "11f345ab-4684-4f9d-90f2-b4e23c08f213",
   "metadata": {},
   "outputs": [
    {
     "name": "stdout",
     "output_type": "stream",
     "text": [
      "My name is vishal\n"
     ]
    }
   ],
   "source": [
    "#f-string formate\n",
    "\n",
    "name=\"vishal\"\n",
    "print(f\"My name is\",name)"
   ]
  },
  {
   "cell_type": "code",
   "execution_count": 5,
   "id": "0c625e68-e42d-4904-bbcb-64af4069d3bf",
   "metadata": {},
   "outputs": [
    {
     "name": "stdout",
     "output_type": "stream",
     "text": [
      "age is 14\n"
     ]
    }
   ],
   "source": [
    "#arthmatic oprection\n",
    "a=5\n",
    "b=2\n",
    "print(f\"age is {2*(a+b)}\")"
   ]
  },
  {
   "cell_type": "code",
   "execution_count": 9,
   "id": "a8be0923-2d31-4576-9f3c-72024cfe68b3",
   "metadata": {},
   "outputs": [
    {
     "name": "stdout",
     "output_type": "stream",
     "text": [
      "he said his age is 6\n"
     ]
    }
   ],
   "source": [
    "#lambda expression in string\n",
    "print(f\"he said his age is {(lambda x:x*2)(3)}\")"
   ]
  },
  {
   "cell_type": "code",
   "execution_count": null,
   "id": "05871adb-da93-4a0d-9bd7-bd4196004a7b",
   "metadata": {},
   "outputs": [],
   "source": []
  },
  {
   "cell_type": "code",
   "execution_count": null,
   "id": "51cc7933-7a60-4428-9637-9da43d3a0ec6",
   "metadata": {},
   "outputs": [],
   "source": []
  },
  {
   "cell_type": "code",
   "execution_count": null,
   "id": "92e093ca-4a06-4e66-b83e-2be6aa1f9203",
   "metadata": {},
   "outputs": [],
   "source": []
  },
  {
   "cell_type": "code",
   "execution_count": null,
   "id": "47e62d87-0719-4648-af9a-fdd15caf4524",
   "metadata": {},
   "outputs": [],
   "source": []
  },
  {
   "cell_type": "code",
   "execution_count": null,
   "id": "7678da41-67e5-4c30-a6bb-c36d34339b61",
   "metadata": {},
   "outputs": [],
   "source": []
  },
  {
   "cell_type": "code",
   "execution_count": null,
   "id": "1c957a0e-22d9-4556-bb4e-eba24feac351",
   "metadata": {},
   "outputs": [],
   "source": []
  },
  {
   "cell_type": "code",
   "execution_count": null,
   "id": "f86a17b1-db04-4e9c-9534-eaea061deda3",
   "metadata": {},
   "outputs": [],
   "source": []
  }
 ],
 "metadata": {
  "kernelspec": {
   "display_name": "Python 3 (ipykernel)",
   "language": "python",
   "name": "python3"
  },
  "language_info": {
   "codemirror_mode": {
    "name": "ipython",
    "version": 3
   },
   "file_extension": ".py",
   "mimetype": "text/x-python",
   "name": "python",
   "nbconvert_exporter": "python",
   "pygments_lexer": "ipython3",
   "version": "3.11.9"
  }
 },
 "nbformat": 4,
 "nbformat_minor": 5
}
