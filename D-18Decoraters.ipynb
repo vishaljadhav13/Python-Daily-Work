{
 "cells": [
  {
   "cell_type": "code",
   "execution_count": null,
   "id": "01e89835-8c65-4021-8233-bb70dfba6711",
   "metadata": {},
   "outputs": [],
   "source": [
    "#Decoraters-adding multipale functionality "
   ]
  },
  {
   "cell_type": "code",
   "execution_count": null,
   "id": "0a2e4b69-f4d6-4ffe-8fa9-7c3a58eacf44",
   "metadata": {},
   "outputs": [],
   "source": []
  },
  {
   "cell_type": "code",
   "execution_count": null,
   "id": "7138e398-aea0-42d7-b5a7-35291f4c4e47",
   "metadata": {},
   "outputs": [],
   "source": []
  },
  {
   "cell_type": "code",
   "execution_count": null,
   "id": "e15eac26-15a1-4239-bad7-a2a0b8ed36a0",
   "metadata": {},
   "outputs": [],
   "source": []
  },
  {
   "cell_type": "code",
   "execution_count": null,
   "id": "85d19ca4-f9cf-4e55-92ed-25c0333f3682",
   "metadata": {},
   "outputs": [],
   "source": []
  },
  {
   "cell_type": "code",
   "execution_count": null,
   "id": "cf773118-d3a7-41bb-bec0-b73be9a3e711",
   "metadata": {},
   "outputs": [],
   "source": []
  },
  {
   "cell_type": "code",
   "execution_count": null,
   "id": "aa2eaa11-7cc4-4797-accd-c6840f6a49a4",
   "metadata": {},
   "outputs": [],
   "source": []
  },
  {
   "cell_type": "code",
   "execution_count": null,
   "id": "c316c961-b714-4b11-8638-e573be19046d",
   "metadata": {},
   "outputs": [],
   "source": []
  },
  {
   "cell_type": "code",
   "execution_count": null,
   "id": "dea3288a-86ec-414d-bea1-b684dfdff677",
   "metadata": {},
   "outputs": [],
   "source": []
  },
  {
   "cell_type": "code",
   "execution_count": null,
   "id": "59e100a9-6a0d-4979-87f8-a31d6bb5ab22",
   "metadata": {},
   "outputs": [],
   "source": []
  },
  {
   "cell_type": "code",
   "execution_count": null,
   "id": "2d94b45e-d683-4b96-b400-436f8f75da19",
   "metadata": {},
   "outputs": [],
   "source": []
  },
  {
   "cell_type": "code",
   "execution_count": null,
   "id": "0f6ba3a3-2130-4f69-8a58-ca0313a973b6",
   "metadata": {},
   "outputs": [],
   "source": []
  },
  {
   "cell_type": "code",
   "execution_count": null,
   "id": "649cac1e-7b39-4a38-ac53-663f01618f28",
   "metadata": {},
   "outputs": [],
   "source": []
  },
  {
   "cell_type": "code",
   "execution_count": null,
   "id": "4c35ec95-8613-494d-85a2-044be5a099a9",
   "metadata": {},
   "outputs": [],
   "source": []
  }
 ],
 "metadata": {
  "kernelspec": {
   "display_name": "Python 3 (ipykernel)",
   "language": "python",
   "name": "python3"
  },
  "language_info": {
   "codemirror_mode": {
    "name": "ipython",
    "version": 3
   },
   "file_extension": ".py",
   "mimetype": "text/x-python",
   "name": "python",
   "nbconvert_exporter": "python",
   "pygments_lexer": "ipython3",
   "version": "3.11.9"
  }
 },
 "nbformat": 4,
 "nbformat_minor": 5
}
