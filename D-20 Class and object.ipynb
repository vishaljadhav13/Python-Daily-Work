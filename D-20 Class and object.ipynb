{
 "cells": [
  {
   "cell_type": "code",
   "execution_count": null,
   "id": "39eba6ce-a379-4d5f-9b80-3b3956a4a327",
   "metadata": {},
   "outputs": [],
   "source": [
    "#object-any real time entity\n",
    "#e.g- Human:-weight,height\n",
    "#Classes-it is use to represent real time entity\n",
    "#Air conditioner:-\n",
    "#capicity:-,start,mode"
   ]
  },
  {
   "cell_type": "code",
   "execution_count": null,
   "id": "e374706c-0326-4a3e-a905-97f45e66b91e",
   "metadata": {},
   "outputs": [],
   "source": [
    "#class classname:\n",
    "  #attribute\n",
    "  #method"
   ]
  },
  {
   "cell_type": "code",
   "execution_count": 3,
   "id": "ca1a3d60-a03c-4504-85b8-6c94db611b97",
   "metadata": {},
   "outputs": [
    {
     "name": "stdout",
     "output_type": "stream",
     "text": [
      "Wellcome to Pune Vishal\n"
     ]
    }
   ],
   "source": [
    "class Greet:\n",
    "    def wish(self,name):\n",
    "        print(\"Welcome to Pune\",name)\n",
    "\n",
    "g=Greet()#creating object\n",
    "g.wish(\"Vishal\")"
   ]
  },
  {
   "cell_type": "code",
   "execution_count": null,
   "id": "6089d985-efee-43a3-88cd-94e169306240",
   "metadata": {},
   "outputs": [],
   "source": [
    "#self define only class attribute \n",
    "class Student:\n",
    "    name=None\n",
    "    rollno=None\n",
    "    def display(self,name,rollno):\n",
    "        print(\"name:\",name,\"Roll No:\",rollno)\n",
    "\n",
    "s=Student()\n",
    "s.diplay"
   ]
  },
  {
   "cell_type": "code",
   "execution_count": null,
   "id": "73556432-a77c-4739-b753-3ae53aaa9604",
   "metadata": {},
   "outputs": [],
   "source": []
  },
  {
   "cell_type": "code",
   "execution_count": 10,
   "id": "7da19e8d-38a0-4dd3-852f-b8061febc1fb",
   "metadata": {},
   "outputs": [
    {
     "name": "stdout",
     "output_type": "stream",
     "text": [
      "Name Vishal Roll No 202\n",
      "Name Aniket Roll No 203\n"
     ]
    }
   ],
   "source": [
    "class student():\n",
    "    name=\"Aniket\"\n",
    "    rollno=\"203\"\n",
    "    def display(self,name,rollno):\n",
    "        print(\"Name\",name,\"Roll No\",rollno)\n",
    "        print(\"Name\",self.name,\"Roll No\",self.rollno)\n",
    "\n",
    "s=student()\n",
    "s.display(\"Vishal\",202)\n",
    "    "
   ]
  },
  {
   "cell_type": "code",
   "execution_count": null,
   "id": "25141822-44cd-4f2e-818a-ccdec7f5af6f",
   "metadata": {},
   "outputs": [],
   "source": [
    "#use class attribute using self function\n",
    "#__init__ automatically call function this is called constructor\n",
    "#constructor-it is a special method which is called automatically\n",
    "#there are two type 1.-normal constructor or Parameterised constructor"
   ]
  },
  {
   "cell_type": "code",
   "execution_count": 14,
   "id": "7afe5e49-71a7-492b-8805-906369da2ba3",
   "metadata": {},
   "outputs": [
    {
     "name": "stdout",
     "output_type": "stream",
     "text": [
      "Welcome to Python class Vishal\n"
     ]
    }
   ],
   "source": [
    "#Parameterised constructor\n",
    "class greet:\n",
    "    def __init__(self,name):\n",
    "        print(\"Welcome to Python class\",name)\n",
    "\n",
    "g=greet(\"Vishal\")"
   ]
  },
  {
   "cell_type": "code",
   "execution_count": 16,
   "id": "72fcbd21-a86a-4369-aa7b-999672162142",
   "metadata": {},
   "outputs": [
    {
     "name": "stdout",
     "output_type": "stream",
     "text": [
      "Welcome to Python class\n"
     ]
    }
   ],
   "source": [
    "#normal constructor\n",
    "class greet:\n",
    "    def __init__(self):\n",
    "        print(\"Welcome to Python class\")\n",
    "\n",
    "g=greet()"
   ]
  },
  {
   "cell_type": "code",
   "execution_count": 22,
   "id": "6b91b477-c2aa-4abb-aa7d-818049678687",
   "metadata": {},
   "outputs": [
    {
     "name": "stdout",
     "output_type": "stream",
     "text": [
      "Name Vishal Roll No 202\n",
      "Name Aniket Roll No 203\n"
     ]
    }
   ],
   "source": [
    "class student():\n",
    "    name=\"Aniket\"\n",
    "    rollno=\"203\"\n",
    "    def display(self,name,rollno):\n",
    "        print(\"Name\",name,\"Roll No\",rollno)\n",
    "\n",
    "    def displaydata(self):\n",
    "        print(\"Name\",self.name,\"Roll No\",self.rollno)\n",
    "\n",
    "s=student()\n",
    "s.display(\"Vishal\",202)\n",
    "s.displaydata()"
   ]
  },
  {
   "cell_type": "code",
   "execution_count": null,
   "id": "e08690ea-7877-4b58-b01d-80c89bdd644f",
   "metadata": {},
   "outputs": [],
   "source": [
    "#Inheritance-"
   ]
  },
  {
   "cell_type": "code",
   "execution_count": 30,
   "id": "b5ebcaf4-28f2-4125-bd2a-c3854557cce2",
   "metadata": {},
   "outputs": [
    {
     "name": "stdout",
     "output_type": "stream",
     "text": [
      "Method of parent class is called\n",
      "Method of parent class is called\n"
     ]
    }
   ],
   "source": [
    "class parent:\n",
    "    def display(self):\n",
    "        print(\"Method of parent class is called\")\n",
    "\n",
    "class child(parent):#inheritance class in child\n",
    "    pass \n",
    "p=parent()\n",
    "p.display()\n",
    "c=child()\n",
    "c.display()"
   ]
  },
  {
   "cell_type": "code",
   "execution_count": null,
   "id": "cd6aff30-ab70-42a0-b2a6-527c755d30fd",
   "metadata": {},
   "outputs": [],
   "source": [
    "#Create class calculater with two function add() and sub() which return addition and subtraction"
   ]
  },
  {
   "cell_type": "code",
   "execution_count": 3,
   "id": "178d6f75-feeb-4246-bb7f-46486b313cb1",
   "metadata": {},
   "outputs": [
    {
     "name": "stdout",
     "output_type": "stream",
     "text": [
      "Addition of two number: 15\n",
      "Subtraction of two number: 3\n"
     ]
    }
   ],
   "source": [
    "class Add :\n",
    "    def add(self,a,b):\n",
    "        print(\"Addition of two number:\",a+b)\n",
    "\n",
    "#class Sub:\n",
    "    def sub(self,a,b):\n",
    "        pass\n",
    "        print(\"Subtraction of two number:\",a-b)\n",
    "\n",
    "p=Add()\n",
    "p.add(10,5)\n",
    "c=Sub()\n",
    "c.sub(5,2)\n"
   ]
  },
  {
   "cell_type": "code",
   "execution_count": 8,
   "id": "12ff23f2-de80-44e7-9190-db8ef8788c96",
   "metadata": {},
   "outputs": [
    {
     "data": {
      "text/plain": [
       "'Vis'"
      ]
     },
     "execution_count": 8,
     "metadata": {},
     "output_type": "execute_result"
    }
   ],
   "source": [
    "v=(\"Vishal\")\n"
   ]
  },
  {
   "cell_type": "code",
   "execution_count": 10,
   "id": "498ecac5-3fbf-4412-9ea3-82ad9cfc9ac8",
   "metadata": {},
   "outputs": [
    {
     "name": "stdout",
     "output_type": "stream",
     "text": [
      "{}\n"
     ]
    }
   ],
   "source": [
    "v={}\n",
    "print(v)"
   ]
  },
  {
   "cell_type": "code",
   "execution_count": null,
   "id": "db88611e-5f52-4869-bbec-923836fa2ee9",
   "metadata": {},
   "outputs": [],
   "source": []
  },
  {
   "cell_type": "code",
   "execution_count": null,
   "id": "98b09fb5-644b-4d72-9eca-1b19763a8f63",
   "metadata": {},
   "outputs": [],
   "source": []
  }
 ],
 "metadata": {
  "kernelspec": {
   "display_name": "Python 3 (ipykernel)",
   "language": "python",
   "name": "python3"
  },
  "language_info": {
   "codemirror_mode": {
    "name": "ipython",
    "version": 3
   },
   "file_extension": ".py",
   "mimetype": "text/x-python",
   "name": "python",
   "nbconvert_exporter": "python",
   "pygments_lexer": "ipython3",
   "version": "3.11.9"
  }
 },
 "nbformat": 4,
 "nbformat_minor": 5
}
