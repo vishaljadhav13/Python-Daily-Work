{
 "cells": [
  {
   "cell_type": "code",
   "execution_count": null,
   "id": "c30124c1-9a90-4795-adb5-750e1d406d9b",
   "metadata": {},
   "outputs": [],
   "source": [
    "#Descriptors:three type\n",
    "#1.getter-Access\n",
    "#2.setter-Set\n",
    "#3.deleter-delete"
   ]
  },
  {
   "cell_type": "code",
   "execution_count": 14,
   "id": "2eecc07f-afaa-4ba3-8381-eea733794521",
   "metadata": {},
   "outputs": [
    {
     "name": "stdout",
     "output_type": "stream",
     "text": [
      "setage is called\n",
      "Get is called\n",
      "25\n",
      "delage is called\n",
      "Get is called\n",
      "25\n"
     ]
    }
   ],
   "source": [
    "class person:\n",
    "    def getage(self):\n",
    "        print(\"Get is called\")\n",
    "        return self.__age\n",
    "    def setage(self,age):\n",
    "        self.__age=age\n",
    "        print(\"setage is called\")\n",
    "    def delage(self):\n",
    "        print(\"delage is called\")\n",
    "        \n",
    "        #del self.__age\n",
    "    age=property(getage,setage,delage)\n",
    "\n",
    "p=person()\n",
    "p.age=25\n",
    "data=p.age\n",
    "print(data)\n",
    "del p.age\n",
    "print(p.age)\n",
    "\n"
   ]
  },
  {
   "cell_type": "code",
   "execution_count": 22,
   "id": "a7da7f33-9fc5-49d1-a7b9-d12b77d53cca",
   "metadata": {},
   "outputs": [
    {
     "name": "stdout",
     "output_type": "stream",
     "text": [
      "Age is Invalide\n",
      "setage is called\n",
      "Get is called\n",
      "None\n",
      "delage is called\n"
     ]
    }
   ],
   "source": [
    "#Validation\n",
    "class person:\n",
    "    age=None\n",
    "    def getage(self):\n",
    "        print(\"Get is called\")\n",
    "        return self._age\n",
    "    def setage(self,age):\n",
    "        if isinstance(age,int) and 1 < age <100 :\n",
    "            self._age=age\n",
    "        else:\n",
    "            print(\"Age is Invalide\")\n",
    "            self._age=None\n",
    "        print(\"setage is called\")\n",
    "    def delage(self):\n",
    "        print(\"delage is called\")\n",
    "        del self._age\n",
    "    age=property(getage,setage,delage)\n",
    "\n",
    "p=person()\n",
    "p.age=200\n",
    "data=p.age\n",
    "print(data)\n",
    "del p.age"
   ]
  },
  {
   "cell_type": "code",
   "execution_count": 25,
   "id": "29bb14db-fcde-4cec-8bb1-a11373b9432a",
   "metadata": {},
   "outputs": [
    {
     "name": "stdout",
     "output_type": "stream",
     "text": [
      "setage is called\n",
      "Get is called\n",
      "25\n",
      "delage is called\n"
     ]
    }
   ],
   "source": [
    "#using @anotation \n",
    "class person:\n",
    "    age=None\n",
    "    @property\n",
    "    def age(self):\n",
    "        print(\"Get is called\")\n",
    "        return self.__age\n",
    "    @age.setter\n",
    "    def age(self,age):\n",
    "        self.__age=age\n",
    "        print(\"setage is called\")\n",
    "    @age.deleter\n",
    "    def age(self):\n",
    "        print(\"delage is called\")\n",
    "        del self.__age\n",
    "    #age=property(getage,setage,delage)\n",
    "\n",
    "p=person()\n",
    "p.age=25\n",
    "data=p.age\n",
    "print(data)\n",
    "del p.age\n"
   ]
  },
  {
   "cell_type": "code",
   "execution_count": 45,
   "id": "f9ca42f6-ad27-4a04-927d-ad0c846bb7c7",
   "metadata": {},
   "outputs": [
    {
     "name": "stdout",
     "output_type": "stream",
     "text": [
      "Name is Invalide\n",
      "None\n"
     ]
    }
   ],
   "source": [
    "#Validation\n",
    "class person:\n",
    "    #name=None\n",
    "    def getname(self):\n",
    "        #print(\"Get is called\")\n",
    "        return self._name\n",
    "    def setname(self,name):\n",
    "        if isinstance(name,str) and len(name)<=20 :\n",
    "            self._name=name\n",
    "        else:\n",
    "            print(\"Name is Invalide\")\n",
    "            self._name=None\n",
    "        #print(\"setname is called\")\n",
    "    def delname(self):\n",
    "        #print(\"delname is called\")\n",
    "        del self._name\n",
    "    name=property(getname,setname,delname)\n",
    "\n",
    "p=person()\n",
    "p.name=\"Vishal hdhgweagdgfeggxshbxsbvcdsgvccdgvsgv\"\n",
    "data=p.name\n",
    "print(data)\n",
    "del p.name"
   ]
  },
  {
   "cell_type": "code",
   "execution_count": 54,
   "id": "56eedf85-19cb-4e93-9a9b-e56ee189d609",
   "metadata": {},
   "outputs": [
    {
     "name": "stdout",
     "output_type": "stream",
     "text": [
      "Enter less than 20 letter\n",
      "setage is called\n",
      "Get is called\n"
     ]
    },
    {
     "ename": "AttributeError",
     "evalue": "'person' object has no attribute '_person__name'",
     "output_type": "error",
     "traceback": [
      "\u001b[1;31m---------------------------------------------------------------------------\u001b[0m",
      "\u001b[1;31mAttributeError\u001b[0m                            Traceback (most recent call last)",
      "Cell \u001b[1;32mIn[54], line 22\u001b[0m\n\u001b[0;32m     20\u001b[0m p\u001b[38;5;241m=\u001b[39mperson()\n\u001b[0;32m     21\u001b[0m p\u001b[38;5;241m.\u001b[39mname\u001b[38;5;241m=\u001b[39m\u001b[38;5;124m\"\u001b[39m\u001b[38;5;124mVishal shgsjfseftesetfeskdwefeawufywe\u001b[39m\u001b[38;5;124m\"\u001b[39m\n\u001b[1;32m---> 22\u001b[0m data\u001b[38;5;241m=\u001b[39mp\u001b[38;5;241m.\u001b[39mname\n\u001b[0;32m     23\u001b[0m \u001b[38;5;28mprint\u001b[39m(data)\n\u001b[0;32m     24\u001b[0m \u001b[38;5;28;01mdel\u001b[39;00m p\u001b[38;5;241m.\u001b[39mname\n",
      "Cell \u001b[1;32mIn[54], line 6\u001b[0m, in \u001b[0;36mperson.name\u001b[1;34m(self)\u001b[0m\n\u001b[0;32m      3\u001b[0m \u001b[38;5;129m@property\u001b[39m\n\u001b[0;32m      4\u001b[0m \u001b[38;5;28;01mdef\u001b[39;00m \u001b[38;5;21mname\u001b[39m(\u001b[38;5;28mself\u001b[39m):\n\u001b[0;32m      5\u001b[0m     \u001b[38;5;28mprint\u001b[39m(\u001b[38;5;124m\"\u001b[39m\u001b[38;5;124mGet is called\u001b[39m\u001b[38;5;124m\"\u001b[39m)\n\u001b[1;32m----> 6\u001b[0m     \u001b[38;5;28;01mreturn\u001b[39;00m \u001b[38;5;28mself\u001b[39m\u001b[38;5;241m.\u001b[39m__name\n",
      "\u001b[1;31mAttributeError\u001b[0m: 'person' object has no attribute '_person__name'"
     ]
    }
   ],
   "source": [
    "class person:\n",
    "    name=None\n",
    "    @property\n",
    "    def name(self):\n",
    "        print(\"Get is called\")\n",
    "        return self.__name\n",
    "    @name.setter\n",
    "    def name(self,name):\n",
    "        if isinstance(name,str) and len(name)<=20 :\n",
    "            self.__name=name\n",
    "        else:\n",
    "            print(\"Enter less than 20 letter\")\n",
    "           \n",
    "        print(\"setage is called\")\n",
    "    @name.deleter\n",
    "    def name(self):\n",
    "        print(\"delage is called\")\n",
    "        del self.__name\n",
    "\n",
    "p=person()\n",
    "p.name=\"Vishal shgsjfseftesetfeskdwefeawufywe\"\n",
    "data=p.name\n",
    "print(data)\n",
    "del p.name"
   ]
  },
  {
   "cell_type": "code",
   "execution_count": null,
   "id": "40e208ad-1124-4a4b-a424-a7a8853236fe",
   "metadata": {},
   "outputs": [],
   "source": [
    "#for Test or Group \n",
    "#Expection handling\n",
    "#file handling\n",
    "#decorater"
   ]
  },
  {
   "cell_type": "code",
   "execution_count": null,
   "id": "8a301410-a4b8-48bb-863c-11f3d341488d",
   "metadata": {},
   "outputs": [],
   "source": []
  },
  {
   "cell_type": "code",
   "execution_count": null,
   "id": "2e40e76e-7f47-41ad-ab5f-e791d1d39ad2",
   "metadata": {},
   "outputs": [],
   "source": []
  },
  {
   "cell_type": "code",
   "execution_count": null,
   "id": "a289d1c5-287b-4c56-9bf9-76f83d0d7b96",
   "metadata": {},
   "outputs": [],
   "source": []
  },
  {
   "cell_type": "code",
   "execution_count": null,
   "id": "a38a5f39-4b5a-45e1-8ed2-6f6c51219d5f",
   "metadata": {},
   "outputs": [],
   "source": []
  },
  {
   "cell_type": "code",
   "execution_count": null,
   "id": "ce41de4e-3b89-49fe-b205-355480162a54",
   "metadata": {},
   "outputs": [],
   "source": []
  }
 ],
 "metadata": {
  "kernelspec": {
   "display_name": "Python 3 (ipykernel)",
   "language": "python",
   "name": "python3"
  },
  "language_info": {
   "codemirror_mode": {
    "name": "ipython",
    "version": 3
   },
   "file_extension": ".py",
   "mimetype": "text/x-python",
   "name": "python",
   "nbconvert_exporter": "python",
   "pygments_lexer": "ipython3",
   "version": "3.11.9"
  }
 },
 "nbformat": 4,
 "nbformat_minor": 5
}
