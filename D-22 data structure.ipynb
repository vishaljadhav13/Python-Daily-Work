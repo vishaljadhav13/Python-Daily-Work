{
 "cells": [
  {
   "cell_type": "code",
   "execution_count": null,
   "id": "51875984-f51e-4b7c-ac53-1581ae7bb9ff",
   "metadata": {},
   "outputs": [],
   "source": [
    "#pop-remove\n",
    "#Data Structure- it is a way to organize data through we can manage data \n",
    "     #efficiently depending on situation\n",
    "\n",
    "#Two type:-1.-In built DS(list,tuple,set,dicitonary)\n",
    "\n",
    "#User Define DS:-stack,Queue,Linked list,tree,graph,hashmap-(linear data structure)"
   ]
  },
  {
   "cell_type": "code",
   "execution_count": null,
   "id": "d42d5007-0cd7-410e-a88f-e4e897807c42",
   "metadata": {},
   "outputs": [],
   "source": [
    "#Stack:-last in first out\n",
    "#Queue:-first in first out\n",
    "#linked list:-Not store continous data\n",
    "#tree:-Non linear DS\n",
    "#graph:-Non linear DS,"
   ]
  },
  {
   "cell_type": "code",
   "execution_count": null,
   "id": "8e3c3b61-ad99-4170-bd3d-dcf27fc6536f",
   "metadata": {},
   "outputs": [],
   "source": [
    "#opration on DS\n",
    "#insert,delete,search,sort,"
   ]
  },
  {
   "cell_type": "code",
   "execution_count": null,
   "id": "1fbdbaa8-679e-4edc-9950-ba579944cadf",
   "metadata": {},
   "outputs": [],
   "source": [
    "#type of search\n",
    "#1.linear-\n",
    "#2.binary-element are sorted "
   ]
  },
  {
   "cell_type": "code",
   "execution_count": 10,
   "id": "8992aaef-b42a-4a91-9e21-57a3080b2837",
   "metadata": {},
   "outputs": [
    {
     "name": "stdin",
     "output_type": "stream",
     "text": [
      "Enter a number: 55\n"
     ]
    },
    {
     "name": "stdout",
     "output_type": "stream",
     "text": [
      "Data is found!! at the position of 7\n"
     ]
    }
   ],
   "source": [
    "#linear search\n",
    "list1=[25,85,6,85,9,85,9,55,5,56,85,8]\n",
    "num=int(input(\"Enter a number:\"))\n",
    "for i in range(len(list1)):\n",
    "    if list1[i]==num:\n",
    "        print(\"Data is found!! at the position of\",i)\n",
    "        break\n",
    "else:\n",
    "    print(\"Data is not found\") \n",
    "        \n",
    "        "
   ]
  },
  {
   "cell_type": "markdown",
   "id": "3dc987d7-2aa1-405d-855a-c01bebcf8c16",
   "metadata": {},
   "source": [
    "###### binary Search\n",
    "def binary(list1,num):\n",
    "    start=0\n",
    "    end=len(list)-1\n",
    "    mid=0\n",
    "    while start<=end:\n",
    "        mid=(start+end)//2\n",
    "        if num > list1[mid]:\n",
    "            start=mid+1\n",
    "        elif num < list1[mid]:\n",
    "            end=mid-1\n",
    "    else:\n",
    "        return mid;\n",
    "        return -1\n",
    "    \n",
    "list=[1,3,5,7,9,11,13,15,17,19]\n",
    "num=int(input(\"Enter a number:\"))\n",
    "result=binary(list1,num)\n",
    "if result==-1:\n",
    "    print(\"Data is not found\")\n",
    "else:\n",
    "    print(\"data is found\",result)\n",
    "    \n"
   ]
  },
  {
   "cell_type": "code",
   "execution_count": null,
   "id": "c6c18a1b-4573-486a-a9ac-da9ddad73417",
   "metadata": {},
   "outputs": [],
   "source": [
    "#binary Search\n",
    "def binary(list1,num):\n",
    "    start=0\n",
    "    end=len(list)-1\n",
    "    mid=0\n",
    "    while start<=end:\n",
    "        mid=(start+end)//2\n",
    "        if num > list1[mid]:\n",
    "            start=mid+1\n",
    "        elif num < list1[mid]:\n",
    "            end=mid-1\n",
    "    else:\n",
    "        return mid;\n",
    "        return -1    \n",
    "list=[1,3,5,7,9,11,13,15,17,19]\n",
    "num=int(input(\"Enter a number:\"))\n",
    "result=binary(list1,num)\n",
    "if result==-1:\n",
    "    print(\"Data is not found\")\n",
    "else:\n",
    "    print(\"data is found\",result)\n",
    "    \n"
   ]
  },
  {
   "cell_type": "code",
   "execution_count": null,
   "id": "cf334da0-0730-4d71-8d24-497396540963",
   "metadata": {},
   "outputs": [],
   "source": []
  },
  {
   "cell_type": "code",
   "execution_count": null,
   "id": "ecdfec36-d93f-4333-b516-6918de474915",
   "metadata": {},
   "outputs": [],
   "source": []
  },
  {
   "cell_type": "code",
   "execution_count": null,
   "id": "616eec22-5287-4356-8284-a28abbb09286",
   "metadata": {},
   "outputs": [],
   "source": []
  },
  {
   "cell_type": "code",
   "execution_count": null,
   "id": "e81bfe1c-c722-43cc-92ab-5ce73ff776cb",
   "metadata": {},
   "outputs": [],
   "source": []
  },
  {
   "cell_type": "code",
   "execution_count": null,
   "id": "11919f0d-d3e2-4d00-a72d-5ea02346c9f6",
   "metadata": {},
   "outputs": [],
   "source": []
  },
  {
   "cell_type": "code",
   "execution_count": null,
   "id": "a57825dd-4863-4609-92eb-5793c075be9a",
   "metadata": {},
   "outputs": [],
   "source": []
  },
  {
   "cell_type": "code",
   "execution_count": null,
   "id": "fc9d765d-9545-4da7-9787-b9818213be36",
   "metadata": {},
   "outputs": [],
   "source": []
  },
  {
   "cell_type": "code",
   "execution_count": null,
   "id": "7686c988-b3e2-4fdc-ae50-8d3075bfd863",
   "metadata": {},
   "outputs": [],
   "source": []
  },
  {
   "cell_type": "code",
   "execution_count": null,
   "id": "cee74249-9b67-40ac-8870-d7a1a2594747",
   "metadata": {},
   "outputs": [],
   "source": []
  },
  {
   "cell_type": "code",
   "execution_count": null,
   "id": "64e8caeb-7574-4dba-a735-ca96e2472126",
   "metadata": {},
   "outputs": [],
   "source": []
  },
  {
   "cell_type": "code",
   "execution_count": null,
   "id": "d8a23a14-7b0f-4229-acba-2fd81ccf47fc",
   "metadata": {},
   "outputs": [],
   "source": []
  },
  {
   "cell_type": "code",
   "execution_count": null,
   "id": "59fa0355-889b-4a41-8c5f-7325c30928a6",
   "metadata": {},
   "outputs": [],
   "source": []
  },
  {
   "cell_type": "code",
   "execution_count": null,
   "id": "5e05b25b-e1fa-4086-9e63-8b6b1aaf6df9",
   "metadata": {},
   "outputs": [],
   "source": []
  },
  {
   "cell_type": "code",
   "execution_count": null,
   "id": "07fb4e8a-0fe2-409a-87d3-55b64af76f36",
   "metadata": {},
   "outputs": [],
   "source": []
  },
  {
   "cell_type": "code",
   "execution_count": null,
   "id": "88886a53-8c22-4cbd-937e-21f01a00f0f2",
   "metadata": {},
   "outputs": [],
   "source": []
  },
  {
   "cell_type": "code",
   "execution_count": null,
   "id": "b4420938-edd3-4420-9f21-8441f311e923",
   "metadata": {},
   "outputs": [],
   "source": []
  },
  {
   "cell_type": "code",
   "execution_count": null,
   "id": "c7950cc9-150e-45aa-a718-ad86887b90df",
   "metadata": {},
   "outputs": [],
   "source": []
  },
  {
   "cell_type": "code",
   "execution_count": null,
   "id": "7bc74fb9-e5d1-47d7-8a56-dd8039245aa9",
   "metadata": {},
   "outputs": [],
   "source": []
  },
  {
   "cell_type": "code",
   "execution_count": null,
   "id": "19afa283-2a8f-4e6b-997a-220fabdb4990",
   "metadata": {},
   "outputs": [],
   "source": []
  },
  {
   "cell_type": "code",
   "execution_count": null,
   "id": "24ec762a-cf73-4dab-b0bd-4d14750a14ad",
   "metadata": {},
   "outputs": [],
   "source": []
  },
  {
   "cell_type": "code",
   "execution_count": null,
   "id": "07642588-f8d3-422c-be9e-2518c8058657",
   "metadata": {},
   "outputs": [],
   "source": []
  },
  {
   "cell_type": "code",
   "execution_count": null,
   "id": "46a07319-c526-4159-8abe-6084958dbcbf",
   "metadata": {},
   "outputs": [],
   "source": []
  },
  {
   "cell_type": "code",
   "execution_count": null,
   "id": "181d7ed9-dad1-4e24-b237-fa4ac4b5a7d3",
   "metadata": {},
   "outputs": [],
   "source": []
  }
 ],
 "metadata": {
  "kernelspec": {
   "display_name": "Python 3 (ipykernel)",
   "language": "python",
   "name": "python3"
  },
  "language_info": {
   "codemirror_mode": {
    "name": "ipython",
    "version": 3
   },
   "file_extension": ".py",
   "mimetype": "text/x-python",
   "name": "python",
   "nbconvert_exporter": "python",
   "pygments_lexer": "ipython3",
   "version": "3.11.9"
  }
 },
 "nbformat": 4,
 "nbformat_minor": 5
}
