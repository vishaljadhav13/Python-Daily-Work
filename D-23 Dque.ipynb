{
 "cells": [
  {
   "cell_type": "code",
   "execution_count": null,
   "id": "627e7b1c-6595-4fb3-8b6a-b2b6e96b9dc2",
   "metadata": {},
   "outputs": [],
   "source": [
    "#Bouble sort:"
   ]
  },
  {
   "cell_type": "code",
   "execution_count": null,
   "id": "ebc4830e-9342-4470-b32b-8e7f5441231a",
   "metadata": {},
   "outputs": [],
   "source": [
    "#dque OR doubly que"
   ]
  },
  {
   "cell_type": "code",
   "execution_count": 8,
   "id": "ad004c34-7ecc-4d4e-bb8c-4fbd3c8c07a1",
   "metadata": {},
   "outputs": [
    {
     "name": "stdout",
     "output_type": "stream",
     "text": [
      "deque([2, 5, 3, 6, 8])\n",
      "deque([2, 5, 3, 6, 8, 9])\n",
      "deque([7, 2, 5, 3, 6, 8, 9])\n",
      "deque([7, 2, 5, 3, 9, 6, 8, 9])\n",
      "Occurrance of 9 in deque is: 2\n",
      "deque([7, 2, 5, 3, 9, 6, 8])\n",
      "deque([2, 5, 3, 9, 6, 8])\n",
      "Length of deque is : 6\n",
      "second last element: 6\n",
      "deque([9, 6, 8, 2, 5, 3])\n",
      "deque([3, 5, 2, 8, 6, 9])\n",
      "deque([1, 2, 3, 3, 5, 2, 8, 6, 9])\n"
     ]
    }
   ],
   "source": [
    "#deque-doubly ended queue\n",
    "from collections import deque\n",
    "dq=deque([2,5,3,6,8])\n",
    "print(dq)\n",
    "dq.append(9)\n",
    "print(dq)\n",
    "dq.appendleft(7)\n",
    "print(dq)\n",
    "dq.insert(4,9)\n",
    "print(dq)\n",
    "print(\"Occurrance of 9 in deque is:\",dq.count(9))\n",
    "dq.pop()\n",
    "print(dq)\n",
    "dq.popleft()\n",
    "print(dq)\n",
    "print(\"Length of deque is :\",len(dq))\n",
    "print(\"second last element:\",dq[-2])\n",
    "dq.rotate(-3)\n",
    "print(dq)\n",
    "dq.reverse()\n",
    "print(dq)\n",
    "dq.extendleft([3,2,1])\n",
    "print(dq)"
   ]
  },
  {
   "cell_type": "code",
   "execution_count": 13,
   "id": "42998e73-4744-4d07-94d2-8564c1920ecb",
   "metadata": {},
   "outputs": [
    {
     "name": "stdout",
     "output_type": "stream",
     "text": [
      "Sorted list: [4, 10, 12, 15, 17, 18, 20, 26, 58, 78]\n"
     ]
    }
   ],
   "source": [
    "#bouble short-Bubble Sort is the simplest sorting algorithm that works by repeatedly swapping the adjacent elements if they are in the wrong order. \n",
    "def b_sort(list1):\n",
    "    n=len(list1)\n",
    "    for i in range(0,n-1):\n",
    "        for j in range(0,n-i-1):\n",
    "            if list1[j]>list1[j+1]:\n",
    "                temp=list1[j]\n",
    "                list1[j]=list1[j+1]\n",
    "                list1[j+1]=temp\n",
    "    return list1\n",
    "\n",
    "list1=[12,20,15,10,18,4,58,26,17,78]\n",
    "rel=b_sort(list1)\n",
    "print(\"Sorted list:\",rel)"
   ]
  },
  {
   "cell_type": "code",
   "execution_count": null,
   "id": "ad1158e1-164a-4c06-8788-a7af45b538c4",
   "metadata": {},
   "outputs": [],
   "source": []
  },
  {
   "cell_type": "code",
   "execution_count": null,
   "id": "63c0d974-19e8-4b3f-be7a-9f5686208330",
   "metadata": {},
   "outputs": [],
   "source": []
  },
  {
   "cell_type": "code",
   "execution_count": null,
   "id": "7325ac65-876b-4e2f-8db4-54551cd2c54a",
   "metadata": {},
   "outputs": [],
   "source": []
  },
  {
   "cell_type": "code",
   "execution_count": null,
   "id": "f2e385ed-2548-4d69-8e50-626fb5cbb1a9",
   "metadata": {},
   "outputs": [],
   "source": []
  },
  {
   "cell_type": "code",
   "execution_count": null,
   "id": "5fe7c0dc-38cf-47a9-86bb-ceee7cc7e1b0",
   "metadata": {},
   "outputs": [],
   "source": []
  },
  {
   "cell_type": "code",
   "execution_count": null,
   "id": "07b7d419-8c3f-4b3f-9817-944b4cab3626",
   "metadata": {},
   "outputs": [],
   "source": []
  },
  {
   "cell_type": "code",
   "execution_count": null,
   "id": "3f7ce0a9-c9aa-44ca-a329-4bdcbb806878",
   "metadata": {},
   "outputs": [],
   "source": []
  },
  {
   "cell_type": "code",
   "execution_count": null,
   "id": "f6f1c219-2cb7-4081-8818-8e450e350c9b",
   "metadata": {},
   "outputs": [],
   "source": []
  },
  {
   "cell_type": "code",
   "execution_count": null,
   "id": "474211ad-5ae9-423e-a075-9989e314a428",
   "metadata": {},
   "outputs": [],
   "source": []
  },
  {
   "cell_type": "code",
   "execution_count": null,
   "id": "9d6e6edf-5dcd-44af-bb82-4c17965532b4",
   "metadata": {},
   "outputs": [],
   "source": []
  },
  {
   "cell_type": "code",
   "execution_count": null,
   "id": "6fc9050b-2034-4ad2-b18b-c05845566d08",
   "metadata": {},
   "outputs": [],
   "source": []
  },
  {
   "cell_type": "code",
   "execution_count": null,
   "id": "4ed4c099-245a-4d58-8d82-bbb4c325ac5a",
   "metadata": {},
   "outputs": [],
   "source": []
  },
  {
   "cell_type": "code",
   "execution_count": null,
   "id": "72666ee8-066f-4659-8326-f248cd60ffde",
   "metadata": {},
   "outputs": [],
   "source": []
  }
 ],
 "metadata": {
  "kernelspec": {
   "display_name": "Python 3 (ipykernel)",
   "language": "python",
   "name": "python3"
  },
  "language_info": {
   "codemirror_mode": {
    "name": "ipython",
    "version": 3
   },
   "file_extension": ".py",
   "mimetype": "text/x-python",
   "name": "python",
   "nbconvert_exporter": "python",
   "pygments_lexer": "ipython3",
   "version": "3.11.9"
  }
 },
 "nbformat": 4,
 "nbformat_minor": 5
}
