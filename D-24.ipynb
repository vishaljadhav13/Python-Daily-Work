{
 "cells": [
  {
   "cell_type": "code",
   "execution_count": null,
   "id": "b2c221d1-e9e0-4e8f-889e-33ed062f90d3",
   "metadata": {},
   "outputs": [],
   "source": [
    "#Assertions-is a boolean expression that check statement true or false\n",
    "#assert keyword-check condition\n",
    "#if it is true it does nothing\n",
    "#if it is false then it stop execution and through error\n",
    "#assert (condition,error msg)"
   ]
  },
  {
   "cell_type": "code",
   "execution_count": 2,
   "id": "3a8481e0-9e1a-4a9c-8531-037bcd76a1b9",
   "metadata": {},
   "outputs": [
    {
     "name": "stdin",
     "output_type": "stream",
     "text": [
      "Enter a Radius 8\n"
     ]
    },
    {
     "name": "stdout",
     "output_type": "stream",
     "text": [
      "Area of circle is : 200.96\n"
     ]
    }
   ],
   "source": [
    "try:\n",
    "    radius=int(input(\"Enter a Radius\"))\n",
    "    assert radius >0\n",
    "    area=3.14*radius*radius\n",
    "    print(\"Area of circle is :\",area)\n",
    "except AssertionError:\n",
    "    print(\"Radius can not be negative\")"
   ]
  },
  {
   "cell_type": "code",
   "execution_count": 4,
   "id": "6e2ca329-417d-432c-9d1d-a2c9b26d5281",
   "metadata": {},
   "outputs": [
    {
     "name": "stdin",
     "output_type": "stream",
     "text": [
      "Enter a: 5\n",
      "Enter b: 2\n"
     ]
    },
    {
     "name": "stdout",
     "output_type": "stream",
     "text": [
      "Ans of a/b is \n",
      "2.5\n"
     ]
    }
   ],
   "source": [
    "a=int(input(\"Enter a:\"))\n",
    "b=int(input(\"Enter b:\"))\n",
    "print(\"Ans of a/b is \")\n",
    "assert b!=0,\"Second number cannot be zero\"\n",
    "print(a/b)"
   ]
  },
  {
   "cell_type": "code",
   "execution_count": 9,
   "id": "7535680c-90c1-4eca-b51e-5d37f7a1a8c9",
   "metadata": {},
   "outputs": [
    {
     "name": "stdout",
     "output_type": "stream",
     "text": [
      "Area of circle 78.5\n"
     ]
    }
   ],
   "source": [
    "#assert in function \n",
    "def AOC(radius):\n",
    "    assert radius >0,\"Radius cannot be zero\"\n",
    "    area=3.14*radius*radius\n",
    "    print(\"Area of circle :\",area)\n",
    "\n",
    "AOC(5)"
   ]
  },
  {
   "cell_type": "code",
   "execution_count": 11,
   "id": "2bc2ec67-9dc0-464d-94eb-eb3d36462f12",
   "metadata": {},
   "outputs": [],
   "source": [
    "#Pickle module\n",
    "import pickle\n",
    "d={\"name\":\"Raj\",\"city\":\"Pune\"}\n",
    "f=open(\"Pickle.txt\",\"wb\")\n",
    "pickle.dump(d,f)\n",
    "f.close()\n"
   ]
  },
  {
   "cell_type": "code",
   "execution_count": 12,
   "id": "8d683ec7-bddf-4b15-be5e-f9f34baf9db7",
   "metadata": {},
   "outputs": [
    {
     "data": {
      "text/plain": [
       "'C:\\\\Users\\\\Admin'"
      ]
     },
     "execution_count": 12,
     "metadata": {},
     "output_type": "execute_result"
    }
   ],
   "source": [
    "pwd"
   ]
  },
  {
   "cell_type": "code",
   "execution_count": 3,
   "id": "cb5a3e85-86cd-44a6-9cc7-13cf6970f1fa",
   "metadata": {},
   "outputs": [],
   "source": [
    "#dump()-to serialize object\n",
    "#load()-to deserialize object\n",
    "\n",
    "import pickle\n",
    "#d=[2,4,5,8,6,5]\n",
    "d={\"name\":\"Raj\",\"city\":\"Pune\"}\n",
    "f=open(\"Pickle.txt\",\"wb\")\n",
    "pickle.dump(d,f)\n",
    "f.close()"
   ]
  },
  {
   "cell_type": "code",
   "execution_count": null,
   "id": "36068d30-f01a-499a-be33-49969f983203",
   "metadata": {},
   "outputs": [],
   "source": [
    "import pickle\n",
    "d={\"name\":\"Raj\",\"city\":\"Pune\"}\n",
    "f=open(\"Pickle.txt\",\"wb\")\n",
    "pickle.dump(d,f)\n",
    "f.close()"
   ]
  },
  {
   "cell_type": "code",
   "execution_count": 14,
   "id": "88893f7b-9ae2-4e68-a5a6-192dce40ed59",
   "metadata": {},
   "outputs": [],
   "source": [
    "import pickle\n",
    "d={\"name\":\"Raj\",\"city\":\"Pune\",\"age\":\"26\"}\n",
    "f=open(\"Pickle.txt\",\"wb\")\n",
    "pickle.dump(d,f)\n",
    "f.close()"
   ]
  },
  {
   "cell_type": "code",
   "execution_count": 17,
   "id": "fdb1275e-be39-4211-b0f6-d33e63470685",
   "metadata": {},
   "outputs": [
    {
     "name": "stdout",
     "output_type": "stream",
     "text": [
      "Area of square is : 25\n",
      "Area of reactangle is : 50\n"
     ]
    }
   ],
   "source": [
    "#function overloading in polymorphism\n",
    "class Area:\n",
    "    def Cal_area(self,a=None,b=None):\n",
    "        if a!=None and b!=None:\n",
    "            print(\"Area of reactangle is :\",a*b)\n",
    "        elif a!=None:\n",
    "            print(\"Area of square is :\",a*a)\n",
    "        else:\n",
    "            print(\"Nothing to calculate\")\n",
    "a1=Area()\n",
    "a1.Cal_area(5)\n",
    "a1.Cal_area(5,10)\n",
    "    "
   ]
  },
  {
   "cell_type": "code",
   "execution_count": 1,
   "id": "5e5e1faa-2659-4a66-8999-612411ecd0e3",
   "metadata": {},
   "outputs": [
    {
     "name": "stdout",
     "output_type": "stream",
     "text": [
      "I am in class A\n"
     ]
    }
   ],
   "source": [
    "#Function overriding\n",
    "class A:\n",
    "    def data(self):\n",
    "        print(\"I am in class A\")\n",
    "\n",
    "class B:\n",
    "    def data(self):\n",
    "        print(\"I am in class B\")\n",
    "\n",
    "obj=A()\n",
    "obj.data()"
   ]
  },
  {
   "cell_type": "code",
   "execution_count": null,
   "id": "2610eb93-5550-4484-973c-55e4b8cfb51d",
   "metadata": {},
   "outputs": [],
   "source": []
  },
  {
   "cell_type": "code",
   "execution_count": null,
   "id": "5e2e076c-8344-4209-aa74-6c9a332e9d53",
   "metadata": {},
   "outputs": [],
   "source": []
  },
  {
   "cell_type": "code",
   "execution_count": null,
   "id": "9ac2f2c4-9867-4a47-a35e-6cd3501833fc",
   "metadata": {},
   "outputs": [],
   "source": []
  },
  {
   "cell_type": "code",
   "execution_count": null,
   "id": "c22851f1-7edd-4bdf-8863-ae874b4ee669",
   "metadata": {},
   "outputs": [],
   "source": []
  },
  {
   "cell_type": "code",
   "execution_count": null,
   "id": "11be4467-feb4-4998-81b4-0554bc81ad19",
   "metadata": {},
   "outputs": [],
   "source": []
  },
  {
   "cell_type": "code",
   "execution_count": null,
   "id": "68ef1998-188f-4327-a9e2-c3937ae98d31",
   "metadata": {},
   "outputs": [],
   "source": []
  },
  {
   "cell_type": "code",
   "execution_count": null,
   "id": "aab1e460-ebf6-46f1-a9a1-b0731aac3d5d",
   "metadata": {},
   "outputs": [],
   "source": []
  },
  {
   "cell_type": "code",
   "execution_count": null,
   "id": "c70ea642-8909-4187-a3dc-1b316ed87017",
   "metadata": {},
   "outputs": [],
   "source": []
  },
  {
   "cell_type": "code",
   "execution_count": null,
   "id": "04972592-3da9-456c-9df9-d46d00703733",
   "metadata": {},
   "outputs": [],
   "source": []
  }
 ],
 "metadata": {
  "kernelspec": {
   "display_name": "Python 3 (ipykernel)",
   "language": "python",
   "name": "python3"
  },
  "language_info": {
   "codemirror_mode": {
    "name": "ipython",
    "version": 3
   },
   "file_extension": ".py",
   "mimetype": "text/x-python",
   "name": "python",
   "nbconvert_exporter": "python",
   "pygments_lexer": "ipython3",
   "version": "3.11.9"
  }
 },
 "nbformat": 4,
 "nbformat_minor": 5
}
