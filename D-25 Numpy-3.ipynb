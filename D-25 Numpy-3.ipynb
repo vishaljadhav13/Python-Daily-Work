{
 "cells": [
  {
   "cell_type": "code",
   "execution_count": null,
   "id": "fe87809f-dc90-48fd-ad50-c92032f591db",
   "metadata": {},
   "outputs": [],
   "source": [
    "#Indexing and Slicing of NumPy array\n",
    "#So far, we have seen how to create a NumPy array and how to play around with its shape. \n",
    "#In this section, we will see how to extract specific values from the array using indexing and slicing.\n",
    "#Slicing means retrieving elements from one index to another index."
   ]
  },
  {
   "cell_type": "code",
   "execution_count": 1,
   "id": "fdaa404d-783f-48bb-9f96-7096707941ff",
   "metadata": {},
   "outputs": [],
   "source": [
    "import numpy as np"
   ]
  },
  {
   "cell_type": "code",
   "execution_count": 4,
   "id": "a21dc191-1e66-440b-b79b-21224d3c57ac",
   "metadata": {},
   "outputs": [
    {
     "name": "stdout",
     "output_type": "stream",
     "text": [
      "[3 6]\n"
     ]
    }
   ],
   "source": [
    "#[start:End:step]\n",
    "a=np.array([1,2,3,4,5,6,5,8,5,6,7])\n",
    "print(a[2:6:3])"
   ]
  },
  {
   "cell_type": "code",
   "execution_count": 5,
   "id": "daf0b8d5-5f0d-46aa-89e1-3ff6613b5783",
   "metadata": {},
   "outputs": [
    {
     "name": "stdout",
     "output_type": "stream",
     "text": [
      "[ 2  4  6  8 10 12]\n"
     ]
    }
   ],
   "source": [
    "a=np.array([1,2,3,4,5,6,7,8,9,10,11,12])\n",
    "print(a[1:12:2])"
   ]
  },
  {
   "cell_type": "code",
   "execution_count": 6,
   "id": "42cd874c-6f87-41f6-a321-dfe59fec3fb1",
   "metadata": {},
   "outputs": [
    {
     "name": "stdout",
     "output_type": "stream",
     "text": [
      "[1 4]\n",
      "[ 2  4  6  8 10 12]\n",
      "[2 3 4 5 6]\n"
     ]
    }
   ],
   "source": [
    "a=np.array([1,2,3,4,5,6,7,8,9,10,11,12])\n",
    "#do not pass start\n",
    "print(a[:6:3])\n",
    "#do not pass end\n",
    "print(a[1::2])\n",
    "##do not pass step\n",
    "print(a[1:6:])"
   ]
  },
  {
   "cell_type": "code",
   "execution_count": 7,
   "id": "ab795fc9-0575-47c9-b209-af44418222c9",
   "metadata": {},
   "outputs": [
    {
     "name": "stdout",
     "output_type": "stream",
     "text": [
      "1\n",
      "6\n",
      "4\n"
     ]
    }
   ],
   "source": [
    "a=np.array([[1,2,3],[4,5,6]])\n",
    "print(a[0,0])\n",
    "print(a[1,2])\n",
    "print(a[1,0])"
   ]
  },
  {
   "cell_type": "code",
   "execution_count": null,
   "id": "824e3bab-477d-477c-affe-e2e7b5efab18",
   "metadata": {},
   "outputs": [],
   "source": [
    "#Slicing 2D NumPy arrays\n",
    "#To slice a 2-D array,you need to mention the slices for both, the row and the column."
   ]
  },
  {
   "cell_type": "code",
   "execution_count": 8,
   "id": "5ae6c876-06e5-4300-8d0b-c8eb3cce0868",
   "metadata": {},
   "outputs": [
    {
     "name": "stdout",
     "output_type": "stream",
     "text": [
      " 2DArray : \n",
      " [[ 1  2  3  9]\n",
      " [ 4  5  6  8]\n",
      " [ 7  8  9  7]\n",
      " [ 7  8  9 11]]\n",
      "First row values : \n",
      " [[4 5 6]\n",
      " [7 8 9]]\n"
     ]
    }
   ],
   "source": [
    "a=np.array([[1,2,3,9],[4,5,6,8],[7,8,9,7],[7,8,9,11]])\n",
    "# print first row values\n",
    "#[row:col]\n",
    "print(' 2DArray :','\\n',a)\n",
    "print('First row values :','\\n',a[1:3,0:3])"
   ]
  },
  {
   "cell_type": "code",
   "execution_count": 15,
   "id": "6644f088-0a7f-485d-b895-ab520f8f603f",
   "metadata": {},
   "outputs": [
    {
     "name": "stdout",
     "output_type": "stream",
     "text": [
      "Second row value: [[7 8 9]]\n"
     ]
    }
   ],
   "source": [
    "#2D array\n",
    "a=np.array([[1,2,3,9],[4,5,6,8],[7,8,9,7],[7,8,9,11]])\n",
    "print(\"Second row value:\",a[2:3,0:3])"
   ]
  },
  {
   "cell_type": "code",
   "execution_count": 16,
   "id": "12ad2a74-10b1-4a59-9248-9aa9091d96d8",
   "metadata": {},
   "outputs": [
    {
     "name": "stdout",
     "output_type": "stream",
     "text": [
      " 2DArray : \n",
      " [[ 1  2  3  9]\n",
      " [ 4  5  6  8]\n",
      " [ 7  8  9  7]\n",
      " [ 7  8  9 11]]\n",
      "Second column values : \n",
      " [[ 2  3  9]\n",
      " [ 5  6  8]\n",
      " [ 8  9  7]\n",
      " [ 8  9 11]]\n"
     ]
    }
   ],
   "source": [
    "print(' 2DArray :','\\n',a)\n",
    "print('Second column values :','\\n',a[:,1:])"
   ]
  },
  {
   "cell_type": "code",
   "execution_count": 17,
   "id": "7d21939d-c166-4463-9ed4-1def8fc81702",
   "metadata": {},
   "outputs": [
    {
     "name": "stdout",
     "output_type": "stream",
     "text": [
      " 2DArray : \n",
      " [[ 1  2  3  9]\n",
      " [ 4  5  6  8]\n",
      " [ 7  8  9  7]\n",
      " [ 7  8  9 11]]\n",
      "Alternate values from first row: \n",
      " [[1 3]\n",
      " [4 6]\n",
      " [7 9]]\n"
     ]
    }
   ],
   "source": [
    "print(' 2DArray :','\\n',a)\n",
    "# with step-size for columns\n",
    "print('Alternate values from first row:','\\n',a[0:3,::2])"
   ]
  },
  {
   "cell_type": "code",
   "execution_count": 18,
   "id": "f0a2509d-35a5-4bab-8cae-98149e3d634d",
   "metadata": {},
   "outputs": [
    {
     "name": "stdout",
     "output_type": "stream",
     "text": [
      "Arbitrary values : \n",
      " [[3]]\n"
     ]
    }
   ],
   "source": [
    "print('Arbitrary values :','\\n',a[0:1,2:3])"
   ]
  },
  {
   "cell_type": "code",
   "execution_count": 19,
   "id": "efb70aae-ed7e-46fd-b5df-c9b2ee0d98d2",
   "metadata": {},
   "outputs": [
    {
     "name": "stdout",
     "output_type": "stream",
     "text": [
      "[[ 1  2  3  4  5]\n",
      " [ 6  7  8  9 10]]\n",
      "[[10  9  8  7  6]\n",
      " [ 5  4  3  2  1]]\n"
     ]
    }
   ],
   "source": [
    "#Negative slicing prints elements from the end rather than the beginning\n",
    "a=np.array([[1,2,3,4,5],[6,7,8,9,10]])\n",
    "print(a)\n",
    "print(a[::-1,::-1])"
   ]
  },
  {
   "cell_type": "code",
   "execution_count": 20,
   "id": "15d6409b-5fb5-4e56-afe7-f87143e11d5a",
   "metadata": {},
   "outputs": [
    {
     "name": "stdout",
     "output_type": "stream",
     "text": [
      "Original array : \n",
      " [[   1    2    3    4    5    8]\n",
      " [   6    7    8    9   10   78]\n",
      " [  16   17   18   19  110   76]\n",
      " [ 116  117  118  119 1110  176]\n",
      " [1116 1117 1118 1119  110 1176]]\n",
      "Reversed array : \n",
      " [[1176  110 1119 1118 1117 1116]\n",
      " [ 176 1110  119  118  117  116]\n",
      " [  76  110   19   18   17   16]\n",
      " [  78   10    9    8    7    6]\n",
      " [   8    5    4    3    2    1]]\n"
     ]
    }
   ],
   "source": [
    "a=np.array([[ 1,2,3,4,5,8],[6,7,8,9,10,78],[16,17,18,19,110,76], [116,117,118,119,1110,176], [1116,1117,1118,1119,110,1176]])\n",
    "print('Original array :','\\n',a)\n",
    "print('Reversed array :','\\n',a[::-1,::-1])"
   ]
  },
  {
   "cell_type": "code",
   "execution_count": 28,
   "id": "e2122c0f-6157-4f2c-8998-74d9f570b826",
   "metadata": {},
   "outputs": [
    {
     "name": "stdout",
     "output_type": "stream",
     "text": [
      "Original v: \n",
      " [[ 1  2  3  4  5]\n",
      " [ 6  7  8  9 10]]\n",
      "Reversed v: \n",
      " [[10  8  6]]\n"
     ]
    }
   ],
   "source": [
    "v=np.array([[1,2,3,4,5],[6,7,8,9,10],[11,12,13,14,15]])\n",
    "print(\"Original v:\",\"\\n\",a)\n",
    "print(\"Reversed v:\",\"\\n\",a[1::2,::-2])"
   ]
  },
  {
   "cell_type": "code",
   "execution_count": null,
   "id": "00a34555-394a-448f-9c35-8c8cb61abce6",
   "metadata": {},
   "outputs": [],
   "source": []
  },
  {
   "cell_type": "code",
   "execution_count": null,
   "id": "f6c0c87f-7683-48bf-a2de-88fe835ebab6",
   "metadata": {},
   "outputs": [],
   "source": []
  },
  {
   "cell_type": "code",
   "execution_count": 21,
   "id": "6df21c11-a225-4886-9b13-1c55f4f124be",
   "metadata": {},
   "outputs": [
    {
     "name": "stdout",
     "output_type": "stream",
     "text": [
      "Original array : \n",
      " [[ 1  2  3  4  5]\n",
      " [ 6  7  8  9 10]]\n",
      "Reversed array vertically : \n",
      " [[ 5  4  3  2  1]\n",
      " [10  9  8  7  6]]\n",
      "Reversed array horizontally : \n",
      " [[ 6  7  8  9 10]\n",
      " [ 1  2  3  4  5]]\n"
     ]
    }
   ],
   "source": [
    "#flip() method to reverse an ndarray.\n",
    "a=np.array([[1,2,3,4,5],[6,7,8,9,10]])\n",
    "print('Original array :','\\n',a)\n",
    "print('Reversed array vertically :','\\n',np.flip(a,axis=1))\n",
    "print('Reversed array horizontally :','\\n',np.flip(a,axis=0))"
   ]
  },
  {
   "cell_type": "code",
   "execution_count": 37,
   "id": "995f572b-0970-4c2c-9a31-4804df27a7b3",
   "metadata": {},
   "outputs": [
    {
     "name": "stdout",
     "output_type": "stream",
     "text": [
      "original \n",
      " [[ 1  2  3  4  5]\n",
      " [ 6  7  8  9 10]]\n",
      "for row: \n",
      " [[ 6  7  8  9 10]\n",
      " [ 1  2  3  4  5]]\n",
      "for col: \n",
      " [[ 5  4  3  2  1]\n",
      " [10  9  8  7  6]]\n"
     ]
    }
   ],
   "source": [
    "a=np.array([[1,2,3,4,5],[6,7,8,9,10]])\n",
    "print(\"original\",\"\\n\",a)\n",
    "c=np.flip(a,axis=0)#for row flip\n",
    "print(\"for row:\",\"\\n\",c)\n",
    "b=np.flip(a,axis=1)#for col flip\n",
    "print(\"for col:\",\"\\n\",b)"
   ]
  },
  {
   "cell_type": "code",
   "execution_count": 38,
   "id": "5c629efc-61b0-41d4-81a9-d21dcfdfce94",
   "metadata": {},
   "outputs": [
    {
     "name": "stdout",
     "output_type": "stream",
     "text": [
      "Array 1 : \n",
      " [0 1 2 3 4]\n",
      "Array 2 : \n",
      " [5 6 7 8 9]\n",
      "Vertical stacking : \n",
      " [[0 1 2 3 4]\n",
      " [5 6 7 8 9]]\n",
      "Horizontal stacking : \n",
      " [0 1 2 3 4 5 6 7 8 9]\n"
     ]
    }
   ],
   "source": [
    "#Stacking ndarrays\n",
    "#You can create a new array by combining existing arrays. This you can do in two ways:\n",
    "#Either combine the arrays vertically (i.e. along the rows) using the vstack() method, thereby increasing the number of rows in the resulting array\n",
    "#Or\n",
    "#combine the arrays in a horizontal fashion (i.e. along the columns) using the hstack(), thereby increasing the number of columns in the resultant array\n",
    "a=np.arange(0,5)\n",
    "b=np.arange(5,10)\n",
    "print('Array 1 :','\\n',a)\n",
    "print('Array 2 :','\\n',b)\n",
    "print('Vertical stacking :','\\n',np.vstack((a,b)))#stack for row\n",
    "print('Horizontal stacking :','\\n',np.hstack((a,b)))#stck for col"
   ]
  },
  {
   "cell_type": "code",
   "execution_count": 39,
   "id": "410cb318-80fe-4a4f-9dae-cdef897dc405",
   "metadata": {},
   "outputs": [
    {
     "name": "stdout",
     "output_type": "stream",
     "text": [
      "Array 1 : \n",
      " [0 1 2 3]\n",
      "Array 2 : \n",
      " [5 6 7 8]\n",
      "Vertical stacking : \n",
      " [[0 1 2 3]\n",
      " [5 6 7 8]]\n",
      "Horizontal stacking : \n",
      " [0 1 2 3 5 6 7 8]\n"
     ]
    }
   ],
   "source": [
    "#order are important\n",
    "a=np.arange(0,4)\n",
    "b=np.arange(5,9)\n",
    "print('Array 1 :','\\n',a)\n",
    "print('Array 2 :','\\n',b)\n",
    "print('Vertical stacking :','\\n',np.vstack((a,b)))\n",
    "print('Horizontal stacking :','\\n',np.hstack((a,b)))"
   ]
  },
  {
   "cell_type": "code",
   "execution_count": null,
   "id": "9143de06-12ef-4b38-adb5-f6246541c84e",
   "metadata": {},
   "outputs": [],
   "source": []
  },
  {
   "cell_type": "code",
   "execution_count": null,
   "id": "ec4b9c46-3feb-4f34-9e05-588bf400dd29",
   "metadata": {},
   "outputs": [],
   "source": []
  },
  {
   "cell_type": "code",
   "execution_count": null,
   "id": "0977c1a5-2652-4e52-abf1-9137231ea731",
   "metadata": {},
   "outputs": [],
   "source": []
  },
  {
   "cell_type": "code",
   "execution_count": null,
   "id": "fa2bc1ad-b11a-4f26-b640-812359e6f02f",
   "metadata": {},
   "outputs": [],
   "source": []
  }
 ],
 "metadata": {
  "kernelspec": {
   "display_name": "Python 3 (ipykernel)",
   "language": "python",
   "name": "python3"
  },
  "language_info": {
   "codemirror_mode": {
    "name": "ipython",
    "version": 3
   },
   "file_extension": ".py",
   "mimetype": "text/x-python",
   "name": "python",
   "nbconvert_exporter": "python",
   "pygments_lexer": "ipython3",
   "version": "3.11.9"
  }
 },
 "nbformat": 4,
 "nbformat_minor": 5
}
