{
 "cells": [
  {
   "cell_type": "code",
   "execution_count": 1,
   "id": "59c7f49e-f6fe-448e-8215-717c892c4025",
   "metadata": {},
   "outputs": [],
   "source": [
    "import numpy as np"
   ]
  },
  {
   "cell_type": "code",
   "execution_count": 8,
   "id": "424098a9-3943-4c7b-8449-43c5b142392e",
   "metadata": {},
   "outputs": [
    {
     "name": "stdout",
     "output_type": "stream",
     "text": [
      "[0 1 2 3 4 5 6 7 8 9]\n"
     ]
    }
   ],
   "source": [
    "a=np.arange(0,10)\n",
    "print(a)"
   ]
  },
  {
   "cell_type": "code",
   "execution_count": 16,
   "id": "cc15a23c-3f5f-49d5-935f-f0dd217f4d84",
   "metadata": {},
   "outputs": [
    {
     "name": "stdout",
     "output_type": "stream",
     "text": [
      "[[1 2]\n",
      " [3 4]]\n",
      "using append function adding coloumn\n",
      " [[1 2 5]\n",
      " [3 4 6]]\n",
      "using append function adding row \n",
      " [[1 2]\n",
      " [3 4]\n",
      " [5 6]]\n"
     ]
    }
   ],
   "source": [
    "# append values to ndarray\n",
    "a=np.array([[1,2],[3,4]])\n",
    "print(a)\n",
    "b=np.append(a,[[5],[6]],axis=1)#using append function adding col\n",
    "print(\"using append function adding coloumn\"\"\\n\",b)\n",
    "b=np.append(a,[[5,6]],axis=0)#using append function adding row\n",
    "print(\"using append function adding row\",\"\\n\",b)"
   ]
  },
  {
   "cell_type": "code",
   "execution_count": 17,
   "id": "e6d98d01-1b65-4c98-995f-fead11db84ef",
   "metadata": {},
   "outputs": [
    {
     "name": "stdout",
     "output_type": "stream",
     "text": [
      "[10 12 14 16 18]\n",
      "[[2]\n",
      " [3]]\n",
      "Adding two different size arrays : \n",
      " [[12 14 16 18 20]\n",
      " [13 15 17 19 21]]\n",
      "Multiplying an ndarray and a number : [20 24 28 32 36]\n"
     ]
    }
   ],
   "source": [
    "a=np.arange(10,20,2)\n",
    "b=np.array([[2],[3]])\n",
    "print(a)\n",
    "print(b)\n",
    "print('Adding two different size arrays :','\\n',a+b)\n",
    "print('Multiplying an ndarray and a number :',a*2)"
   ]
  },
  {
   "cell_type": "code",
   "execution_count": 18,
   "id": "26a9e6d9-e586-45ce-8cbd-fb2b2287eabe",
   "metadata": {},
   "outputs": [
    {
     "name": "stdout",
     "output_type": "stream",
     "text": [
      "[[1. 1. 1.]\n",
      " [1. 1. 1.]\n",
      " [1. 1. 1.]]\n",
      "[2]\n",
      "[[3. 3. 3.]\n",
      " [3. 3. 3.]\n",
      " [3. 3. 3.]]\n"
     ]
    }
   ],
   "source": [
    "a=np.ones((3,3))\n",
    "print(a)\n",
    "b=np.array([2])\n",
    "print(b)\n",
    "print(a+b)"
   ]
  },
  {
   "cell_type": "code",
   "execution_count": 21,
   "id": "efd6da1d-63ee-430a-89ee-6a16309d77b4",
   "metadata": {},
   "outputs": [
    {
     "name": "stdout",
     "output_type": "stream",
     "text": [
      "[[6. 6. 6. 6. 6.]\n",
      " [6. 6. 6. 6. 6.]\n",
      " [6. 6. 6. 6. 6.]\n",
      " [6. 6. 6. 6. 6.]\n",
      " [6. 6. 6. 6. 6.]]\n"
     ]
    }
   ],
   "source": [
    "a=np.ones((5,5))\n",
    "b=np.array([5])\n",
    "print(a+b)"
   ]
  },
  {
   "cell_type": "code",
   "execution_count": 22,
   "id": "c4baacfd-25d4-4ac8-82f2-bb05c7505583",
   "metadata": {},
   "outputs": [
    {
     "name": "stdout",
     "output_type": "stream",
     "text": [
      "Subtract : [-4 -3 -2 -1  0  1]\n",
      "Multiply : [ 5 10 15 20 25 30]\n",
      "Divide : [0.2 0.4 0.6 0.8 1.  1.2]\n",
      "Power : [ 1  4  9 16 25 36]\n",
      "Remainder : [1 2 3 4 0 1]\n"
     ]
    }
   ],
   "source": [
    "a=np.array([1,2,3,4,5,6])\n",
    "print('Subtract :',a-5)\n",
    "print('Multiply :',a*5)\n",
    "print('Divide :',a/5)\n",
    "print('Power :',a**2)\n",
    "print('Remainder :',a%5)"
   ]
  },
  {
   "cell_type": "code",
   "execution_count": 23,
   "id": "781b2ab7-d113-436b-8df1-23de042697e9",
   "metadata": {},
   "outputs": [
    {
     "name": "stdout",
     "output_type": "stream",
     "text": [
      "[ 5  7  9 11 13]\n",
      "Mean : 9.0\n",
      "Standard deviation : 2.8284271247461903\n",
      "Median : 9.0\n"
     ]
    }
   ],
   "source": [
    "a = np.arange(5,15,2)\n",
    "print(a)\n",
    "print('Mean :',np.mean(a))\n",
    "print('Standard deviation :',np.std(a))\n",
    "print('Median :',np.median(a))"
   ]
  },
  {
   "cell_type": "code",
   "execution_count": 25,
   "id": "0b1de0c0-8d76-4daf-aabc-c525beee9311",
   "metadata": {},
   "outputs": [],
   "source": [
    "l=np.array([[1,2,3],[4,5,6]])\n"
   ]
  },
  {
   "cell_type": "code",
   "execution_count": 26,
   "id": "1cddf5b6-bb2e-4e21-aa7f-bd3eba1e1fa8",
   "metadata": {},
   "outputs": [],
   "source": [
    "o=np.array([[2,2,4],[6,8,9]])"
   ]
  },
  {
   "cell_type": "code",
   "execution_count": 27,
   "id": "5ab97077-5115-4efa-96d9-b64bdde371d7",
   "metadata": {},
   "outputs": [
    {
     "data": {
      "text/plain": [
       "array([[ 3,  4,  7],\n",
       "       [10, 13, 15]])"
      ]
     },
     "execution_count": 27,
     "metadata": {},
     "output_type": "execute_result"
    }
   ],
   "source": [
    "l+o"
   ]
  },
  {
   "cell_type": "code",
   "execution_count": 28,
   "id": "090ad522-36ab-4dfa-869d-0342286c9a4e",
   "metadata": {},
   "outputs": [
    {
     "name": "stdout",
     "output_type": "stream",
     "text": [
      "[[ 1.  2.  3.  4.]\n",
      " [ 5.  6.  7.  8.]\n",
      " [ 9. 10. 11. 12.]]\n"
     ]
    }
   ],
   "source": [
    "u=np.array([[1,2,3,4],[5,6,7,8],[9,10,11,12]],dtype = float)\n",
    "print(u)"
   ]
  },
  {
   "cell_type": "code",
   "execution_count": 29,
   "id": "69566e6e-4d7b-4694-b0d2-5166da72a614",
   "metadata": {},
   "outputs": [
    {
     "data": {
      "text/plain": [
       "array([[False, False, False, False],\n",
       "       [False, False, False, False],\n",
       "       [False, False,  True,  True]])"
      ]
     },
     "execution_count": 29,
     "metadata": {},
     "output_type": "execute_result"
    }
   ],
   "source": [
    "u>10"
   ]
  },
  {
   "cell_type": "code",
   "execution_count": 30,
   "id": "1c8dcb15-0849-44a9-9bb2-697a88c7ae1f",
   "metadata": {},
   "outputs": [
    {
     "data": {
      "text/plain": [
       "array([ 6.,  7.,  8.,  9., 10., 11., 12.])"
      ]
     },
     "execution_count": 30,
     "metadata": {},
     "output_type": "execute_result"
    }
   ],
   "source": [
    "u[u>5]"
   ]
  },
  {
   "cell_type": "code",
   "execution_count": 31,
   "id": "d9f475df-2f72-4d02-8480-273fed7e66f5",
   "metadata": {},
   "outputs": [
    {
     "name": "stdout",
     "output_type": "stream",
     "text": [
      "[[1 6 5]\n",
      " [4 3 7]]\n",
      "Min : [1 3]\n",
      "Max : [4 6 7]\n"
     ]
    }
   ],
   "source": [
    "a = np.array([[1,6,5],[4,3,7]])\n",
    "print(a)\n",
    "# minimum along a row\n",
    "print('Min :',np.min(a,axis=1))\n",
    "# maximum along a column\n",
    "print('Max :',np.max(a,axis=0))"
   ]
  },
  {
   "cell_type": "code",
   "execution_count": 32,
   "id": "5fa02cbe-0f16-4a4c-ad56-322111ae71ae",
   "metadata": {},
   "outputs": [
    {
     "name": "stdout",
     "output_type": "stream",
     "text": [
      "INPUT ARRAY : \n",
      " [[ 0  1  2  3]\n",
      " [ 4  5  6  7]\n",
      " [ 8  9 10 11]]\n",
      "\n",
      "Indices of Max element :  [2 2 2 2]\n",
      "\n",
      "Indices of Max element :  [3 3 3]\n"
     ]
    }
   ],
   "source": [
    "array=np.arange(12).reshape(3,4)\n",
    "print(\"INPUT ARRAY : \\n\", array)\n",
    "print(\"\\nIndices of Max element : \", np.argmax(array, axis=0))\n",
    "print(\"\\nIndices of Max element : \", np.argmax(array, axis=1))"
   ]
  },
  {
   "cell_type": "code",
   "execution_count": 33,
   "id": "4be1ea31-0f9b-4f85-9317-1c7001fc07b4",
   "metadata": {},
   "outputs": [
    {
     "name": "stdout",
     "output_type": "stream",
     "text": [
      "INPUT ARRAY : \n",
      " [[ 0  1  2  3]\n",
      " [ 4  5  6  7]\n",
      " [ 8  9 10 11]]\n",
      "\n",
      "Indices of Min element :  [0 0 0 0]\n",
      "\n",
      "Indices of Min element :  [0 0 0]\n"
     ]
    }
   ],
   "source": [
    "array = np.arange(12).reshape(3, 4)\n",
    "print(\"INPUT ARRAY : \\n\", array)\n",
    "# as per the indices\n",
    "print(\"\\nIndices of Min element : \", np.argmin(array, axis=0))\n",
    "print(\"\\nIndices of Min element : \", np.argmin(array, axis=1))"
   ]
  },
  {
   "cell_type": "code",
   "execution_count": 34,
   "id": "373301f2-9829-48a1-8bb5-b1746320eec6",
   "metadata": {},
   "outputs": [],
   "source": [
    "mat1 = np.array(np.random.randint(1,10,9)).reshape(3,3)#Creating random Numpy array of size 3x3"
   ]
  },
  {
   "cell_type": "code",
   "execution_count": 35,
   "id": "679628d6-d7f2-487b-ae43-a9480ff8eb09",
   "metadata": {},
   "outputs": [
    {
     "data": {
      "text/plain": [
       "array([[1, 5, 2],\n",
       "       [6, 8, 2],\n",
       "       [2, 6, 2]], dtype=int32)"
      ]
     },
     "execution_count": 35,
     "metadata": {},
     "output_type": "execute_result"
    }
   ],
   "source": [
    "mat1"
   ]
  },
  {
   "cell_type": "code",
   "execution_count": 37,
   "id": "95fb1d06-5de1-401a-bfcc-7ba1b5a049b2",
   "metadata": {},
   "outputs": [
    {
     "data": {
      "text/plain": [
       "np.int32(1)"
      ]
     },
     "execution_count": 37,
     "metadata": {},
     "output_type": "execute_result"
    }
   ],
   "source": [
    "np.min(mat1)"
   ]
  },
  {
   "cell_type": "code",
   "execution_count": 38,
   "id": "9ecf4fe4-47a0-4496-844f-dd7f337a77ba",
   "metadata": {},
   "outputs": [
    {
     "data": {
      "text/plain": [
       "np.int32(8)"
      ]
     },
     "execution_count": 38,
     "metadata": {},
     "output_type": "execute_result"
    }
   ],
   "source": [
    "np.max(mat1)"
   ]
  },
  {
   "cell_type": "code",
   "execution_count": 39,
   "id": "9be1463b-1ad5-4e3f-9aa8-49aa4343f931",
   "metadata": {},
   "outputs": [
    {
     "data": {
      "text/plain": [
       "array([[1.        , 2.23606798, 1.41421356],\n",
       "       [2.44948974, 2.82842712, 1.41421356],\n",
       "       [1.41421356, 2.44948974, 1.41421356]])"
      ]
     },
     "execution_count": 39,
     "metadata": {},
     "output_type": "execute_result"
    }
   ],
   "source": [
    "np.sqrt(mat1)"
   ]
  },
  {
   "cell_type": "code",
   "execution_count": 40,
   "id": "3cdd45a3-f189-46b4-99ec-be47d9b4044c",
   "metadata": {},
   "outputs": [
    {
     "data": {
      "text/plain": [
       "np.float64(3.7777777777777777)"
      ]
     },
     "execution_count": 40,
     "metadata": {},
     "output_type": "execute_result"
    }
   ],
   "source": [
    "np.mean(mat1)"
   ]
  },
  {
   "cell_type": "code",
   "execution_count": 41,
   "id": "adbcf78f-5802-4922-ad41-01ce8f3626eb",
   "metadata": {},
   "outputs": [
    {
     "data": {
      "text/plain": [
       "np.float64(2.0)"
      ]
     },
     "execution_count": 41,
     "metadata": {},
     "output_type": "execute_result"
    }
   ],
   "source": [
    "np.median(mat1)"
   ]
  },
  {
   "cell_type": "code",
   "execution_count": 42,
   "id": "659d5fef-dc89-48c6-8ec8-94d94890baa5",
   "metadata": {},
   "outputs": [
    {
     "data": {
      "text/plain": [
       "np.float64(5.506172839506173)"
      ]
     },
     "execution_count": 42,
     "metadata": {},
     "output_type": "execute_result"
    }
   ],
   "source": [
    "np.var(mat1)"
   ]
  },
  {
   "cell_type": "code",
   "execution_count": 51,
   "id": "7434fc29-1b6a-43ff-9872-fddef2688220",
   "metadata": {},
   "outputs": [
    {
     "ename": "TypeError",
     "evalue": "std() got an unexpected keyword argument 'rounds'",
     "output_type": "error",
     "traceback": [
      "\u001b[1;31m---------------------------------------------------------------------------\u001b[0m",
      "\u001b[1;31mTypeError\u001b[0m                                 Traceback (most recent call last)",
      "Cell \u001b[1;32mIn[51], line 1\u001b[0m\n\u001b[1;32m----> 1\u001b[0m np\u001b[38;5;241m.\u001b[39mstd(mat1,rounds\u001b[38;5;241m=\u001b[39m\u001b[38;5;241m2\u001b[39m)\n",
      "\u001b[1;31mTypeError\u001b[0m: std() got an unexpected keyword argument 'rounds'"
     ]
    }
   ],
   "source": []
  },
  {
   "cell_type": "code",
   "execution_count": null,
   "id": "5bb83a11-12b1-4de0-bb12-fd2ed25766e5",
   "metadata": {},
   "outputs": [],
   "source": []
  },
  {
   "cell_type": "code",
   "execution_count": null,
   "id": "35b59689-020b-41e0-ae4e-4c2f6d33fa71",
   "metadata": {},
   "outputs": [],
   "source": []
  },
  {
   "cell_type": "code",
   "execution_count": null,
   "id": "fd04dbc7-629f-48c6-b786-0dcd2f18ae24",
   "metadata": {},
   "outputs": [],
   "source": []
  },
  {
   "cell_type": "code",
   "execution_count": null,
   "id": "24121061-2094-40f8-9bed-bf73edbeba9e",
   "metadata": {},
   "outputs": [],
   "source": []
  },
  {
   "cell_type": "code",
   "execution_count": null,
   "id": "ec21f017-3b32-4fb7-8830-c21903c8ebe0",
   "metadata": {},
   "outputs": [],
   "source": []
  },
  {
   "cell_type": "code",
   "execution_count": null,
   "id": "df3123c5-329b-4e20-b32b-ee5873891f52",
   "metadata": {},
   "outputs": [],
   "source": []
  },
  {
   "cell_type": "code",
   "execution_count": null,
   "id": "e7101c5f-44d1-4c1d-ada9-87aec5328547",
   "metadata": {},
   "outputs": [],
   "source": []
  },
  {
   "cell_type": "code",
   "execution_count": null,
   "id": "3b257ec0-329b-4938-b0ea-4a1e3758fa54",
   "metadata": {},
   "outputs": [],
   "source": []
  }
 ],
 "metadata": {
  "kernelspec": {
   "display_name": "Python 3 (ipykernel)",
   "language": "python",
   "name": "python3"
  },
  "language_info": {
   "codemirror_mode": {
    "name": "ipython",
    "version": 3
   },
   "file_extension": ".py",
   "mimetype": "text/x-python",
   "name": "python",
   "nbconvert_exporter": "python",
   "pygments_lexer": "ipython3",
   "version": "3.11.9"
  }
 },
 "nbformat": 4,
 "nbformat_minor": 5
}
