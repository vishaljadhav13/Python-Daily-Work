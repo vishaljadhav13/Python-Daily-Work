{
 "cells": [
  {
   "cell_type": "code",
   "execution_count": null,
   "id": "7f23040c-10f2-4ca3-8129-2d4cbae9fb79",
   "metadata": {},
   "outputs": [],
   "source": [
    "#NumPy is a Python library used for working with arrays.\n",
    "#It also has functions for working in domain of linear algebra, fourier transform, and matrices.\n",
    "#NumPy was created in 2005 by Travis Oliphant\n",
    "#NumPy stands for Numerical Python.\n",
    "#NumPy aims to provide an array object that is up to 50x faster than traditional Python lists."
   ]
  },
  {
   "cell_type": "code",
   "execution_count": 1,
   "id": "97211aef-def8-4dba-bf26-65124462c953",
   "metadata": {},
   "outputs": [
    {
     "name": "stdout",
     "output_type": "stream",
     "text": [
      "Collecting numpy\n",
      "  Downloading numpy-2.1.1-cp311-cp311-win_amd64.whl.metadata (59 kB)\n",
      "     ---------------------------------------- 0.0/59.7 kB ? eta -:--:--\n",
      "     ---------------------------------------- 59.7/59.7 kB 1.6 MB/s eta 0:00:00\n",
      "Downloading numpy-2.1.1-cp311-cp311-win_amd64.whl (12.9 MB)\n",
      "   ---------------------------------------- 0.0/12.9 MB ? eta -:--:--\n",
      "    --------------------------------------- 0.2/12.9 MB 4.8 MB/s eta 0:00:03\n",
      "    --------------------------------------- 0.3/12.9 MB 3.6 MB/s eta 0:00:04\n",
      "   - -------------------------------------- 0.4/12.9 MB 3.4 MB/s eta 0:00:04\n",
      "   - -------------------------------------- 0.6/12.9 MB 3.2 MB/s eta 0:00:04\n",
      "   -- ------------------------------------- 0.7/12.9 MB 3.0 MB/s eta 0:00:05\n",
      "   -- ------------------------------------- 0.9/12.9 MB 3.2 MB/s eta 0:00:04\n",
      "   --- ------------------------------------ 1.3/12.9 MB 3.8 MB/s eta 0:00:04\n",
      "   ----- ---------------------------------- 1.7/12.9 MB 4.3 MB/s eta 0:00:03\n",
      "   ------ --------------------------------- 2.0/12.9 MB 4.7 MB/s eta 0:00:03\n",
      "   ------ --------------------------------- 2.0/12.9 MB 4.7 MB/s eta 0:00:03\n",
      "   ------- -------------------------------- 2.3/12.9 MB 4.3 MB/s eta 0:00:03\n",
      "   -------- ------------------------------- 2.6/12.9 MB 4.5 MB/s eta 0:00:03\n",
      "   --------- ------------------------------ 3.2/12.9 MB 5.0 MB/s eta 0:00:02\n",
      "   ----------- ---------------------------- 3.7/12.9 MB 5.5 MB/s eta 0:00:02\n",
      "   ------------ --------------------------- 4.0/12.9 MB 5.6 MB/s eta 0:00:02\n",
      "   ------------- -------------------------- 4.4/12.9 MB 5.7 MB/s eta 0:00:02\n",
      "   -------------- ------------------------- 4.7/12.9 MB 5.7 MB/s eta 0:00:02\n",
      "   --------------- ------------------------ 4.9/12.9 MB 5.7 MB/s eta 0:00:02\n",
      "   ---------------- ----------------------- 5.3/12.9 MB 5.8 MB/s eta 0:00:02\n",
      "   ----------------- ---------------------- 5.6/12.9 MB 5.8 MB/s eta 0:00:02\n",
      "   ------------------ --------------------- 5.9/12.9 MB 5.9 MB/s eta 0:00:02\n",
      "   ------------------- -------------------- 6.2/12.9 MB 5.9 MB/s eta 0:00:02\n",
      "   -------------------- ------------------- 6.6/12.9 MB 6.0 MB/s eta 0:00:02\n",
      "   --------------------- ------------------ 6.9/12.9 MB 6.1 MB/s eta 0:00:01\n",
      "   ---------------------- ----------------- 7.3/12.9 MB 6.1 MB/s eta 0:00:01\n",
      "   ----------------------- ---------------- 7.5/12.9 MB 6.0 MB/s eta 0:00:01\n",
      "   ----------------------- ---------------- 7.7/12.9 MB 5.9 MB/s eta 0:00:01\n",
      "   ------------------------ --------------- 7.8/12.9 MB 5.8 MB/s eta 0:00:01\n",
      "   ------------------------ --------------- 7.9/12.9 MB 5.7 MB/s eta 0:00:01\n",
      "   ------------------------ --------------- 8.0/12.9 MB 5.6 MB/s eta 0:00:01\n",
      "   ------------------------- -------------- 8.1/12.9 MB 5.5 MB/s eta 0:00:01\n",
      "   ------------------------- -------------- 8.3/12.9 MB 5.4 MB/s eta 0:00:01\n",
      "   -------------------------- ------------- 8.6/12.9 MB 5.4 MB/s eta 0:00:01\n",
      "   --------------------------- ------------ 9.0/12.9 MB 5.5 MB/s eta 0:00:01\n",
      "   ----------------------------- ---------- 9.4/12.9 MB 5.6 MB/s eta 0:00:01\n",
      "   ----------------------------- ---------- 9.5/12.9 MB 5.5 MB/s eta 0:00:01\n",
      "   ----------------------------- ---------- 9.6/12.9 MB 5.5 MB/s eta 0:00:01\n",
      "   ------------------------------ --------- 9.7/12.9 MB 5.4 MB/s eta 0:00:01\n",
      "   ------------------------------ --------- 9.9/12.9 MB 5.3 MB/s eta 0:00:01\n",
      "   ------------------------------- -------- 10.1/12.9 MB 5.3 MB/s eta 0:00:01\n",
      "   ------------------------------- -------- 10.1/12.9 MB 5.3 MB/s eta 0:00:01\n",
      "   -------------------------------- ------- 10.4/12.9 MB 5.2 MB/s eta 0:00:01\n",
      "   --------------------------------- ------ 10.9/12.9 MB 5.6 MB/s eta 0:00:01\n",
      "   ---------------------------------- ----- 11.2/12.9 MB 5.7 MB/s eta 0:00:01\n",
      "   ----------------------------------- ---- 11.4/12.9 MB 5.6 MB/s eta 0:00:01\n",
      "   ------------------------------------ --- 11.8/12.9 MB 5.6 MB/s eta 0:00:01\n",
      "   ------------------------------------- -- 12.2/12.9 MB 5.6 MB/s eta 0:00:01\n",
      "   -------------------------------------- - 12.4/12.9 MB 5.8 MB/s eta 0:00:01\n",
      "   ---------------------------------------  12.7/12.9 MB 5.7 MB/s eta 0:00:01\n",
      "   ---------------------------------------  12.9/12.9 MB 5.7 MB/s eta 0:00:01\n",
      "   ---------------------------------------  12.9/12.9 MB 5.7 MB/s eta 0:00:01\n",
      "   ---------------------------------------  12.9/12.9 MB 5.7 MB/s eta 0:00:01\n",
      "   ---------------------------------------  12.9/12.9 MB 5.7 MB/s eta 0:00:01\n",
      "   ---------------------------------------  12.9/12.9 MB 5.7 MB/s eta 0:00:01\n",
      "   ---------------------------------------- 12.9/12.9 MB 5.1 MB/s eta 0:00:00\n",
      "Installing collected packages: numpy\n",
      "Successfully installed numpy-2.1.1\n",
      "Note: you may need to restart the kernel to use updated packages.\n"
     ]
    }
   ],
   "source": [
    "pip install numpy"
   ]
  },
  {
   "cell_type": "code",
   "execution_count": 3,
   "id": "b4257286-3d88-48a3-bfb0-766b086303d7",
   "metadata": {},
   "outputs": [],
   "source": [
    "import numpy as np"
   ]
  },
  {
   "cell_type": "code",
   "execution_count": 6,
   "id": "1a95cbe1-d866-4180-b1ba-bd1abeb83088",
   "metadata": {},
   "outputs": [
    {
     "data": {
      "text/plain": [
       "array([1, 2, 3, 5, 8])"
      ]
     },
     "execution_count": 6,
     "metadata": {},
     "output_type": "execute_result"
    }
   ],
   "source": [
    "np.array([1,2,3,5,8])"
   ]
  },
  {
   "cell_type": "code",
   "execution_count": 8,
   "id": "15895878-c8e4-4e30-9ee7-480964a1c308",
   "metadata": {},
   "outputs": [
    {
     "data": {
      "text/plain": [
       "array(['1', '2', '3', '5', '8'], dtype='<U1')"
      ]
     },
     "execution_count": 8,
     "metadata": {},
     "output_type": "execute_result"
    }
   ],
   "source": [
    "np.array([1,2,3,5,8],dtype=str)"
   ]
  },
  {
   "cell_type": "code",
   "execution_count": 11,
   "id": "ac43b712-56a0-48db-9e1a-55f0e9a868fa",
   "metadata": {},
   "outputs": [
    {
     "data": {
      "text/plain": [
       "array([[1, 2, 3, 5, 8],\n",
       "       [2, 8, 6, 3, 5]])"
      ]
     },
     "execution_count": 11,
     "metadata": {},
     "output_type": "execute_result"
    }
   ],
   "source": [
    "#2D array\n",
    "np.array([[1,2,3,5,8],[2,8,6,3,5]])"
   ]
  },
  {
   "cell_type": "code",
   "execution_count": 14,
   "id": "9814a1b2-35a5-4af6-a32d-794300121672",
   "metadata": {},
   "outputs": [
    {
     "name": "stdout",
     "output_type": "stream",
     "text": [
      "[[1 2 3 5 8]\n",
      " [2 8 6 3 5]\n",
      " [5 8 9 6 3]]\n"
     ]
    }
   ],
   "source": [
    "b=np.array([[1,2,3,5,8],[2,8,6,3,5],[5,8,9,6,3]])\n",
    "print(b)"
   ]
  },
  {
   "cell_type": "code",
   "execution_count": 15,
   "id": "846147b2-573e-4fd8-ab70-ae89235334dd",
   "metadata": {},
   "outputs": [
    {
     "data": {
      "text/plain": [
       "numpy.ndarray"
      ]
     },
     "execution_count": 15,
     "metadata": {},
     "output_type": "execute_result"
    }
   ],
   "source": [
    "type(b)"
   ]
  },
  {
   "cell_type": "code",
   "execution_count": 16,
   "id": "3128877d-dab5-486c-8d1d-cb6e700b9cbc",
   "metadata": {},
   "outputs": [
    {
     "data": {
      "text/plain": [
       "np.int64(6)"
      ]
     },
     "execution_count": 16,
     "metadata": {},
     "output_type": "execute_result"
    }
   ],
   "source": [
    "#assecs the element of of array\n",
    "b[2,3] #[row no,col no]\n"
   ]
  },
  {
   "cell_type": "code",
   "execution_count": 20,
   "id": "7b66add8-ac39-49d3-9e00-3075140557ee",
   "metadata": {},
   "outputs": [
    {
     "data": {
      "text/plain": [
       "array([0., 0., 0., 0., 0.])"
      ]
     },
     "execution_count": 20,
     "metadata": {},
     "output_type": "execute_result"
    }
   ],
   "source": [
    "np.zeros(5)"
   ]
  },
  {
   "cell_type": "code",
   "execution_count": 21,
   "id": "f84f5b5f-16d9-4e58-b123-ea4af41ea53e",
   "metadata": {},
   "outputs": [
    {
     "data": {
      "text/plain": [
       "array([[0., 0., 0., 0., 0., 0.],\n",
       "       [0., 0., 0., 0., 0., 0.],\n",
       "       [0., 0., 0., 0., 0., 0.],\n",
       "       [0., 0., 0., 0., 0., 0.],\n",
       "       [0., 0., 0., 0., 0., 0.]])"
      ]
     },
     "execution_count": 21,
     "metadata": {},
     "output_type": "execute_result"
    }
   ],
   "source": [
    "np.zeros((5,6))"
   ]
  },
  {
   "cell_type": "code",
   "execution_count": 22,
   "id": "c6f62c60-dcb1-4717-b155-8ed550c9ccba",
   "metadata": {},
   "outputs": [
    {
     "data": {
      "text/plain": [
       "array([[1., 1., 1., 1., 1., 1.],\n",
       "       [1., 1., 1., 1., 1., 1.],\n",
       "       [1., 1., 1., 1., 1., 1.],\n",
       "       [1., 1., 1., 1., 1., 1.],\n",
       "       [1., 1., 1., 1., 1., 1.]])"
      ]
     },
     "execution_count": 22,
     "metadata": {},
     "output_type": "execute_result"
    }
   ],
   "source": [
    "np.ones((5,6))"
   ]
  },
  {
   "cell_type": "code",
   "execution_count": 24,
   "id": "456c6dce-2cd3-4a96-9ae7-44ba3e85d96b",
   "metadata": {},
   "outputs": [
    {
     "data": {
      "text/plain": [
       "array([[2201., 2201., 2201., 2201., 2201., 2201.],\n",
       "       [2201., 2201., 2201., 2201., 2201., 2201.],\n",
       "       [2201., 2201., 2201., 2201., 2201., 2201.],\n",
       "       [2201., 2201., 2201., 2201., 2201., 2201.],\n",
       "       [2201., 2201., 2201., 2201., 2201., 2201.]])"
      ]
     },
     "execution_count": 24,
     "metadata": {},
     "output_type": "execute_result"
    }
   ],
   "source": [
    "np.ones((5,6))+2200"
   ]
  },
  {
   "cell_type": "code",
   "execution_count": 25,
   "id": "48607a2f-49de-4207-9121-838c5edbd35b",
   "metadata": {},
   "outputs": [
    {
     "data": {
      "text/plain": [
       "array([[0.25137128, 0.29372306, 0.2517432 ],\n",
       "       [0.92471622, 0.41321571, 0.45703845]])"
      ]
     },
     "execution_count": 25,
     "metadata": {},
     "output_type": "execute_result"
    }
   ],
   "source": [
    "#Random number\n",
    "np.random.rand(2,3)"
   ]
  },
  {
   "cell_type": "code",
   "execution_count": 28,
   "id": "fba5e60f-fbc5-4298-bd6d-24d4f5af46d1",
   "metadata": {},
   "outputs": [
    {
     "name": "stdout",
     "output_type": "stream",
     "text": [
      "[[0.58 0.84 0.51]\n",
      " [0.41 0.96 0.22]]\n"
     ]
    }
   ],
   "source": [
    "a=np.round(np.random.rand(2,3),decimals=2)\n",
    "print(a)"
   ]
  },
  {
   "cell_type": "code",
   "execution_count": 30,
   "id": "96180866-6536-4058-8781-0164e1450581",
   "metadata": {},
   "outputs": [
    {
     "data": {
      "text/plain": [
       "array([[56, 62, 62, 59],\n",
       "       [72, 52, 88, 76]], dtype=int32)"
      ]
     },
     "execution_count": 30,
     "metadata": {},
     "output_type": "execute_result"
    }
   ],
   "source": [
    "np.random.randint(50,100,(2,4)) #randint (low, high, # of samples to be drawn in a tuple to form a matrix)"
   ]
  },
  {
   "cell_type": "code",
   "execution_count": 32,
   "id": "e3bedf43-58df-48be-82ad-53f311c36583",
   "metadata": {},
   "outputs": [
    {
     "data": {
      "text/plain": [
       "array([[125, 125, 125],\n",
       "       [125, 125, 125]])"
      ]
     },
     "execution_count": 32,
     "metadata": {},
     "output_type": "execute_result"
    }
   ],
   "source": [
    "np.full((2,3),125)"
   ]
  },
  {
   "cell_type": "code",
   "execution_count": 34,
   "id": "c8331827-e77b-4ea8-9ad1-fcf40c8f0e92",
   "metadata": {},
   "outputs": [
    {
     "data": {
      "text/plain": [
       "array([[1., 0., 0., 0., 0., 0., 0., 0., 0., 0.],\n",
       "       [0., 1., 0., 0., 0., 0., 0., 0., 0., 0.],\n",
       "       [0., 0., 1., 0., 0., 0., 0., 0., 0., 0.],\n",
       "       [0., 0., 0., 1., 0., 0., 0., 0., 0., 0.],\n",
       "       [0., 0., 0., 0., 1., 0., 0., 0., 0., 0.],\n",
       "       [0., 0., 0., 0., 0., 1., 0., 0., 0., 0.],\n",
       "       [0., 0., 0., 0., 0., 0., 1., 0., 0., 0.],\n",
       "       [0., 0., 0., 0., 0., 0., 0., 1., 0., 0.],\n",
       "       [0., 0., 0., 0., 0., 0., 0., 0., 1., 0.],\n",
       "       [0., 0., 0., 0., 0., 0., 0., 0., 0., 1.]])"
      ]
     },
     "execution_count": 34,
     "metadata": {},
     "output_type": "execute_result"
    }
   ],
   "source": [
    "# identity matrix\n",
    "np.eye(10)"
   ]
  },
  {
   "cell_type": "code",
   "execution_count": 35,
   "id": "9daffea6-99e8-4f12-aef8-0d3782e7ca14",
   "metadata": {},
   "outputs": [
    {
     "data": {
      "text/plain": [
       "array([[0., 0., 0., 0., 0., 0.],\n",
       "       [0., 0., 0., 0., 0., 0.],\n",
       "       [1., 0., 0., 0., 0., 0.],\n",
       "       [0., 1., 0., 0., 0., 0.],\n",
       "       [0., 0., 1., 0., 0., 0.],\n",
       "       [0., 0., 0., 1., 0., 0.]])"
      ]
     },
     "execution_count": 35,
     "metadata": {},
     "output_type": "execute_result"
    }
   ],
   "source": [
    "# not an identity matrix\n",
    "np.eye(6,k=-2)"
   ]
  },
  {
   "cell_type": "code",
   "execution_count": 41,
   "id": "301e6f89-1422-400a-8cbe-c141d45b3be9",
   "metadata": {},
   "outputs": [
    {
     "data": {
      "text/plain": [
       "array([ 1,  4,  7, 10, 13, 16, 19])"
      ]
     },
     "execution_count": 41,
     "metadata": {},
     "output_type": "execute_result"
    }
   ],
   "source": [
    "#range() only for integer\n",
    "#arange() both integer and float\n",
    "np.arange(1,20,3)"
   ]
  },
  {
   "cell_type": "code",
   "execution_count": 38,
   "id": "512d1e8f-c2e5-4fb0-b62e-5dba164ab25c",
   "metadata": {},
   "outputs": [
    {
     "data": {
      "text/plain": [
       "array([0, 1, 2, 3, 4])"
      ]
     },
     "execution_count": 38,
     "metadata": {},
     "output_type": "execute_result"
    }
   ],
   "source": [
    "np.arange(5)"
   ]
  },
  {
   "cell_type": "code",
   "execution_count": 43,
   "id": "b0b0644a-45d8-4fa5-a4a3-160e17dd8c27",
   "metadata": {},
   "outputs": [
    {
     "data": {
      "text/plain": [
       "array([0.5, 0.8, 1.1, 1.4, 1.7, 2. , 2.3, 2.6, 2.9, 3.2, 3.5, 3.8, 4.1,\n",
       "       4.4, 4.7, 5. , 5.3, 5.6, 5.9, 6.2, 6.5, 6.8, 7.1, 7.4, 7.7, 8. ,\n",
       "       8.3, 8.6, 8.9, 9.2, 9.5, 9.8])"
      ]
     },
     "execution_count": 43,
     "metadata": {},
     "output_type": "execute_result"
    }
   ],
   "source": [
    "np.arange(0.5,10.0,0.3) #it accepts float values as well"
   ]
  },
  {
   "cell_type": "code",
   "execution_count": null,
   "id": "5aec27d0-4fa9-4dda-bbae-d2a7abc4ffee",
   "metadata": {},
   "outputs": [],
   "source": []
  },
  {
   "cell_type": "code",
   "execution_count": null,
   "id": "3c0b15dd-d495-4da9-93c8-84f2021ecb7e",
   "metadata": {},
   "outputs": [],
   "source": []
  },
  {
   "cell_type": "code",
   "execution_count": null,
   "id": "37e76ca1-3e7c-431a-928a-c7d675a952fd",
   "metadata": {},
   "outputs": [],
   "source": []
  },
  {
   "cell_type": "code",
   "execution_count": null,
   "id": "59e7216c-57c0-45f9-aa67-8725f1ab4e62",
   "metadata": {},
   "outputs": [],
   "source": []
  },
  {
   "cell_type": "code",
   "execution_count": null,
   "id": "7a1c6267-54f3-433b-9275-ece6d68c3036",
   "metadata": {},
   "outputs": [],
   "source": []
  },
  {
   "cell_type": "code",
   "execution_count": null,
   "id": "e9c060e9-1789-4b3e-a8b2-71f00e6006a5",
   "metadata": {},
   "outputs": [],
   "source": []
  },
  {
   "cell_type": "code",
   "execution_count": null,
   "id": "b9afe8f1-37dd-47c0-848c-9b86e7a589d8",
   "metadata": {},
   "outputs": [],
   "source": []
  },
  {
   "cell_type": "code",
   "execution_count": null,
   "id": "e14f21b9-1a96-4a57-a884-a742219281c9",
   "metadata": {},
   "outputs": [],
   "source": []
  },
  {
   "cell_type": "code",
   "execution_count": null,
   "id": "71d4917f-4787-40fa-b0ff-f3696cf3ce1b",
   "metadata": {},
   "outputs": [],
   "source": []
  }
 ],
 "metadata": {
  "kernelspec": {
   "display_name": "Python 3 (ipykernel)",
   "language": "python",
   "name": "python3"
  },
  "language_info": {
   "codemirror_mode": {
    "name": "ipython",
    "version": 3
   },
   "file_extension": ".py",
   "mimetype": "text/x-python",
   "name": "python",
   "nbconvert_exporter": "python",
   "pygments_lexer": "ipython3",
   "version": "3.11.9"
  }
 },
 "nbformat": 4,
 "nbformat_minor": 5
}
