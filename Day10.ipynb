{
 "cells": [
  {
   "cell_type": "code",
   "execution_count": null,
   "id": "3cf1e716-16d7-47a0-9467-819b8b22c76d",
   "metadata": {},
   "outputs": [],
   "source": [
    "#Modules\n",
    "#1.Library\n",
    "#2.it is a simle file with .py extension\n",
    "#3.layer of data abstraction\n",
    "#4.\n",
    "\n",
    "#two type of Module\n",
    "#1.Built in module-math,datetime,numpy,pandas\n",
    "#2.user define module"
   ]
  },
  {
   "cell_type": "code",
   "execution_count": null,
   "id": "ef4157a8-bce6-4439-8cc8-f419fb41fc98",
   "metadata": {},
   "outputs": [],
   "source": [
    "pwd #python/present working directory"
   ]
  },
  {
   "cell_type": "code",
   "execution_count": null,
   "id": "07def3e3-6810-4f40-92bd-52ff7e5807df",
   "metadata": {},
   "outputs": [],
   "source": [
    "#import user define function"
   ]
  },
  {
   "cell_type": "code",
   "execution_count": null,
   "id": "7015e882-3f58-471a-bdba-d09e2f661404",
   "metadata": {},
   "outputs": [],
   "source": [
    "#step\n",
    "#1-test function\n",
    "#2-use pwd to check python working directory\n",
    "#3-store function in a fild with .py extension in pwd\n",
    "#4-use module in our program using import"
   ]
  },
  {
   "cell_type": "code",
   "execution_count": null,
   "id": "fef8223c-17fc-4243-ac4c-6280e132e9ce",
   "metadata": {},
   "outputs": [],
   "source": [
    "def add(x,y):\n",
    "    return(x+y)\n",
    "\n",
    "def sub(x,y):\n",
    "    return(x-y)\n",
    "\n",
    "def square(x):\n",
    "    return(x*x)"
   ]
  },
  {
   "cell_type": "code",
   "execution_count": 3,
   "id": "129747d8-efeb-4b9d-a286-ccec03f10c87",
   "metadata": {},
   "outputs": [
    {
     "name": "stdout",
     "output_type": "stream",
     "text": [
      "64\n"
     ]
    }
   ],
   "source": [
    "#import user define module\n",
    "import cal_1 as c1\n",
    "ans=c1.square(8)\n",
    "print(ans)"
   ]
  },
  {
   "cell_type": "code",
   "execution_count": 4,
   "id": "78b0737a-0c5d-4283-9a91-e9e3be202880",
   "metadata": {},
   "outputs": [
    {
     "data": {
      "text/plain": [
       "-3"
      ]
     },
     "execution_count": 4,
     "metadata": {},
     "output_type": "execute_result"
    }
   ],
   "source": [
    "#import function from module\n",
    "from cal_1 import sub \n",
    "sub(5,8)"
   ]
  },
  {
   "cell_type": "code",
   "execution_count": 6,
   "id": "18170a60-1aef-43b0-8ca8-3fa1bf37a468",
   "metadata": {},
   "outputs": [
    {
     "data": {
      "text/plain": [
       "-3"
      ]
     },
     "execution_count": 6,
     "metadata": {},
     "output_type": "execute_result"
    }
   ],
   "source": [
    "#import all function from module\n",
    "from cal_1 import *\n",
    "sub(5,8)\n",
    "add(5,8)"
   ]
  },
  {
   "cell_type": "code",
   "execution_count": 10,
   "id": "8005c315-6ce0-4275-a155-3a368f29adaa",
   "metadata": {},
   "outputs": [
    {
     "name": "stdout",
     "output_type": "stream",
     "text": [
      "cosin 45: 0.5253219888177297\n",
      "Value of PI 3.141592653589793\n",
      "Square root of 5 is : 2.23606797749979\n"
     ]
    }
   ],
   "source": [
    "#import inbuilt Module\n",
    "import math\n",
    "print(\"cosin 45:\",math.cos(45))\n",
    "print(\"Value of PI\",math.pi)\n",
    "print(\"Square root of 5 is :\",math.sqrt(5))"
   ]
  },
  {
   "cell_type": "code",
   "execution_count": 13,
   "id": "16e63157-8127-47fd-8986-9441f0b20155",
   "metadata": {},
   "outputs": [
    {
     "name": "stdout",
     "output_type": "stream",
     "text": [
      "Today date is: 2024-08-21\n",
      "month is: 8\n",
      "year is: 2024\n"
     ]
    }
   ],
   "source": [
    "from datetime import date\n",
    "date=date.today()\n",
    "print(\"Today date is:\",date)\n",
    "print(\"month is:\",date.month)\n",
    "print(\"year is:\",date.year)"
   ]
  },
  {
   "cell_type": "code",
   "execution_count": null,
   "id": "5e3ee472-5639-4850-aa26-0d89c271fc48",
   "metadata": {},
   "outputs": [],
   "source": [
    "#Package-it is a collection of one or more module \n",
    "#__init__.py is use for making package\n",
    "#import package name.module name"
   ]
  },
  {
   "cell_type": "code",
   "execution_count": 17,
   "id": "049bc0d0-9d4d-4028-8d4d-bd5e4287418a",
   "metadata": {},
   "outputs": [
    {
     "data": {
      "text/plain": [
       "64"
      ]
     },
     "execution_count": 17,
     "metadata": {},
     "output_type": "execute_result"
    }
   ],
   "source": [
    "import MyPackage.cal_2 as cal\n",
    "ans=cal.cube(4)\n",
    "ans"
   ]
  }
 ],
 "metadata": {
  "kernelspec": {
   "display_name": "Python 3 (ipykernel)",
   "language": "python",
   "name": "python3"
  },
  "language_info": {
   "codemirror_mode": {
    "name": "ipython",
    "version": 3
   },
   "file_extension": ".py",
   "mimetype": "text/x-python",
   "name": "python",
   "nbconvert_exporter": "python",
   "pygments_lexer": "ipython3",
   "version": "3.11.9"
  }
 },
 "nbformat": 4,
 "nbformat_minor": 5
}
