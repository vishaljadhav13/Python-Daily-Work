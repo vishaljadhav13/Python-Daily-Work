{
 "cells": [
  {
   "cell_type": "raw",
   "id": "fbb2e45e-3cc3-436c-9d5c-216f50962df0",
   "metadata": {},
   "source": [
    "IMP"
   ]
  },
  {
   "cell_type": "code",
   "execution_count": 1,
   "id": "0132a5ff-c36c-4a2f-a4ff-b9d96bdae373",
   "metadata": {},
   "outputs": [
    {
     "data": {
      "text/plain": [
       "[24, 46, 90, 134, 14, 126, 4]"
      ]
     },
     "execution_count": 1,
     "metadata": {},
     "output_type": "execute_result"
    }
   ],
   "source": [
    "list=[12,23,45,67,7,63,2]\n",
    "list1=[]\n",
    "for i in list:\n",
    "    list1.append(i*2)\n",
    "\n",
    "list1"
   ]
  },
  {
   "cell_type": "code",
   "execution_count": 2,
   "id": "b7e555b2-fe25-4fe2-85d8-0b99e988e7fc",
   "metadata": {},
   "outputs": [
    {
     "data": {
      "text/plain": [
       "[24, 46, 90, 134, 14, 126, 4]"
      ]
     },
     "execution_count": 2,
     "metadata": {},
     "output_type": "execute_result"
    }
   ],
   "source": [
    "list=[12,23,45,67,7,63,2] #comprestion\n",
    "[i*2 for i in list]"
   ]
  },
  {
   "cell_type": "code",
   "execution_count": 5,
   "id": "3eac5199-d9a1-46f7-9b80-e90ca3382b96",
   "metadata": {},
   "outputs": [
    {
     "ename": "TypeError",
     "evalue": "'list' object is not callable",
     "output_type": "error",
     "traceback": [
      "\u001b[1;31m---------------------------------------------------------------------------\u001b[0m",
      "\u001b[1;31mTypeError\u001b[0m                                 Traceback (most recent call last)",
      "Cell \u001b[1;32mIn[5], line 3\u001b[0m\n\u001b[0;32m      1\u001b[0m list1\u001b[38;5;241m=\u001b[39m[\u001b[38;5;241m12\u001b[39m,\u001b[38;5;241m23\u001b[39m,\u001b[38;5;241m45\u001b[39m,\u001b[38;5;241m67\u001b[39m,\u001b[38;5;241m7\u001b[39m,\u001b[38;5;241m63\u001b[39m,\u001b[38;5;241m2\u001b[39m]\n\u001b[0;32m      2\u001b[0m m\u001b[38;5;241m=\u001b[39m\u001b[38;5;28mmap\u001b[39m(\u001b[38;5;28;01mlambda\u001b[39;00m x:x\u001b[38;5;241m*\u001b[39m\u001b[38;5;241m2\u001b[39m,list1)\n\u001b[1;32m----> 3\u001b[0m \u001b[38;5;28mprint\u001b[39m(\u001b[38;5;28mlist\u001b[39m(m))\n",
      "\u001b[1;31mTypeError\u001b[0m: 'list' object is not callable"
     ]
    }
   ],
   "source": [
    "#use of map function\n",
    "list1=[12,23,45,67,7,63,2]\n",
    "m=map(lambda x:x*2,list1)\n",
    "print(list(m))\n",
    "\n",
    "#error beacuse list are use "
   ]
  },
  {
   "cell_type": "code",
   "execution_count": 6,
   "id": "6dfe34e2-8fd8-49b4-9481-daae5758bb83",
   "metadata": {},
   "outputs": [
    {
     "ename": "TypeError",
     "evalue": "'list' object is not callable",
     "output_type": "error",
     "traceback": [
      "\u001b[1;31m---------------------------------------------------------------------------\u001b[0m",
      "\u001b[1;31mTypeError\u001b[0m                                 Traceback (most recent call last)",
      "Cell \u001b[1;32mIn[6], line 3\u001b[0m\n\u001b[0;32m      1\u001b[0m list1\u001b[38;5;241m=\u001b[39m[\u001b[38;5;241m12\u001b[39m,\u001b[38;5;241m23\u001b[39m,\u001b[38;5;241m45\u001b[39m,\u001b[38;5;241m67\u001b[39m,\u001b[38;5;241m7\u001b[39m,\u001b[38;5;241m63\u001b[39m,\u001b[38;5;241m2\u001b[39m]\n\u001b[0;32m      2\u001b[0m m\u001b[38;5;241m=\u001b[39m\u001b[38;5;28mmap\u001b[39m(\u001b[38;5;28;01mlambda\u001b[39;00m x:x\u001b[38;5;241m*\u001b[39m\u001b[38;5;241m2\u001b[39m,list1)\n\u001b[1;32m----> 3\u001b[0m \u001b[38;5;28mprint\u001b[39m(\u001b[38;5;28mlist\u001b[39m(m))\n",
      "\u001b[1;31mTypeError\u001b[0m: 'list' object is not callable"
     ]
    }
   ],
   "source": [
    "list1=[12,23,45,67,7,63,2]\n",
    "m=map(lambda x:x*2,list1)\n",
    "print(list(m))"
   ]
  },
  {
   "cell_type": "code",
   "execution_count": 10,
   "id": "ef2a6cc4-3d1c-4978-b555-491b350b742e",
   "metadata": {},
   "outputs": [
    {
     "name": "stdout",
     "output_type": "stream",
     "text": [
      "(24, 46, 90, 134, 14, 126, 4)\n"
     ]
    }
   ],
   "source": [
    "l=[12,23,45,67,7,63,2]\n",
    "m=map(lambda x:x*2,l)\n",
    "print(tuple(m))"
   ]
  },
  {
   "cell_type": "code",
   "execution_count": 11,
   "id": "d4a4ef7e-adb9-40de-a9fa-bab281e93ba4",
   "metadata": {},
   "outputs": [
    {
     "data": {
      "text/plain": [
       "[67, 63]"
      ]
     },
     "execution_count": 11,
     "metadata": {},
     "output_type": "execute_result"
    }
   ],
   "source": [
    "l=[12,23,45,67,7,63,2]\n",
    "[i for i in l if i>50]"
   ]
  },
  {
   "cell_type": "code",
   "execution_count": 16,
   "id": "5982a734-99a2-4c6c-80fd-a5bd4b1f4a1c",
   "metadata": {},
   "outputs": [
    {
     "name": "stdout",
     "output_type": "stream",
     "text": [
      "(67, 63)\n"
     ]
    }
   ],
   "source": [
    "#use of filter-isplay all element\n",
    "l=[12,23,45,67,7,63,2]\n",
    "f=filter(lambda x:x>50,l)\n",
    "print(tuple(f))"
   ]
  },
  {
   "cell_type": "code",
   "execution_count": 18,
   "id": "676d448c-8d27-4f91-b4cd-74fe14e4d20f",
   "metadata": {},
   "outputs": [
    {
     "name": "stdout",
     "output_type": "stream",
     "text": [
      "(23, 45, 67, 7, 63)\n"
     ]
    }
   ],
   "source": [
    "#odd number\n",
    "l=[12,23,45,67,7,63,2]\n",
    "f=filter(lambda x:x%2!=0,l)\n",
    "print(tuple(f))"
   ]
  },
  {
   "cell_type": "code",
   "execution_count": 19,
   "id": "f4510d4f-09cf-4d60-8733-fe7381a95b36",
   "metadata": {},
   "outputs": [
    {
     "name": "stdout",
     "output_type": "stream",
     "text": [
      "(12, 2)\n"
     ]
    }
   ],
   "source": [
    "#even number\n",
    "l=[12,23,45,67,7,63,2]\n",
    "f=filter(lambda x:x%2==0,l)\n",
    "print(tuple(f))"
   ]
  },
  {
   "cell_type": "code",
   "execution_count": 29,
   "id": "01e4a501-ac2d-4ee6-8881-ac2437278ba9",
   "metadata": {},
   "outputs": [
    {
     "name": "stdout",
     "output_type": "stream",
     "text": [
      "350\n"
     ]
    }
   ],
   "source": [
    "#display sum of all element of list1\n",
    "list1=[12,25,3,5,45,85,86,74,15]\n",
    "ans=0\n",
    "for i in list1:\n",
    "    ans=ans+i\n",
    "print(ans)\n"
   ]
  },
  {
   "cell_type": "code",
   "execution_count": 24,
   "id": "26eabfcc-d116-4b17-9588-3b2871198039",
   "metadata": {},
   "outputs": [
    {
     "name": "stdout",
     "output_type": "stream",
     "text": [
      "350\n"
     ]
    }
   ],
   "source": [
    "list1=[12,25,3,5,45,85,86,74,15]\n",
    "print(sum(list1))"
   ]
  },
  {
   "cell_type": "code",
   "execution_count": 26,
   "id": "5cc215d5-71cd-4656-a7a6-105d9f124657",
   "metadata": {},
   "outputs": [
    {
     "name": "stdout",
     "output_type": "stream",
     "text": [
      "49\n"
     ]
    }
   ],
   "source": [
    "k=[5,25,6,8,5]\n",
    "print(sum(k))"
   ]
  },
  {
   "cell_type": "code",
   "execution_count": 31,
   "id": "34cc394f-2361-4a5b-8802-b87acfabd3c1",
   "metadata": {},
   "outputs": [
    {
     "name": "stdout",
     "output_type": "stream",
     "text": [
      "366\n"
     ]
    }
   ],
   "source": [
    "#Reduces-ans in single number\n",
    "from functools import reduce\n",
    "list1=[12,25,35,65,69,85,75]\n",
    "ans=reduce(lambda x,y:x+y,list1)\n",
    "print(ans)"
   ]
  },
  {
   "cell_type": "code",
   "execution_count": 34,
   "id": "cb31ab1b-b3d4-4cac-99bc-45b917fd7536",
   "metadata": {},
   "outputs": [
    {
     "name": "stdout",
     "output_type": "stream",
     "text": [
      "120\n"
     ]
    }
   ],
   "source": [
    "#using reduce function to find factorial of 5\n",
    "from functools import reduce\n",
    "a=5\n",
    "ans=reduce(lambda a,x:a*x,range(1,a+1))\n",
    "print(ans)"
   ]
  },
  {
   "cell_type": "code",
   "execution_count": null,
   "id": "fc6405e8-84b9-410b-a5a3-c7d7166143e1",
   "metadata": {},
   "outputs": [],
   "source": []
  },
  {
   "cell_type": "code",
   "execution_count": null,
   "id": "af5bf79a-cf6c-454f-820e-9688b076b73f",
   "metadata": {},
   "outputs": [],
   "source": []
  },
  {
   "cell_type": "code",
   "execution_count": null,
   "id": "ebefd1b6-2ebe-48bb-a3b0-c78006abffe0",
   "metadata": {},
   "outputs": [],
   "source": []
  },
  {
   "cell_type": "code",
   "execution_count": null,
   "id": "1ee85dfa-cd1b-454c-b0f7-6a37e0d2d85f",
   "metadata": {},
   "outputs": [],
   "source": []
  },
  {
   "cell_type": "code",
   "execution_count": null,
   "id": "dcd45f06-7b86-498e-8e18-664929eacc2a",
   "metadata": {},
   "outputs": [],
   "source": []
  },
  {
   "cell_type": "code",
   "execution_count": null,
   "id": "eda0e548-38c7-454c-9528-3f46bf599ece",
   "metadata": {},
   "outputs": [],
   "source": []
  }
 ],
 "metadata": {
  "kernelspec": {
   "display_name": "Python 3 (ipykernel)",
   "language": "python",
   "name": "python3"
  },
  "language_info": {
   "codemirror_mode": {
    "name": "ipython",
    "version": 3
   },
   "file_extension": ".py",
   "mimetype": "text/x-python",
   "name": "python",
   "nbconvert_exporter": "python",
   "pygments_lexer": "ipython3",
   "version": "3.11.9"
  }
 },
 "nbformat": 4,
 "nbformat_minor": 5
}
