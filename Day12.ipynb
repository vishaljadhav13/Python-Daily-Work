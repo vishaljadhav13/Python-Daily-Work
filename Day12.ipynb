{
 "cells": [
  {
   "cell_type": "code",
   "execution_count": null,
   "id": "47bf701a-963c-45fa-b56d-749a6d7a93cc",
   "metadata": {},
   "outputs": [],
   "source": [
    "#Generator-it make function behave like iterator or \n",
    "#         -if function contain one or more yield statement ,is called generator\n",
    "#use-less storage\n",
    "#iterator is a python object is use to iterate over iterables like list,set tuple etc\n",
    "#there are two method\n",
    " #1.next 2.iter-it convert iter to iterable or comprsion in bracket\n"
   ]
  },
  {
   "cell_type": "code",
   "execution_count": 7,
   "id": "26304664-8158-4159-aac1-dc9fedcb1056",
   "metadata": {},
   "outputs": [],
   "source": [
    "def genfun():\n",
    "    yield 10\n",
    "    yield 20\n",
    "    yield 30\n",
    "    yield 50\n",
    "    yield 100"
   ]
  },
  {
   "cell_type": "code",
   "execution_count": 14,
   "id": "a1b772eb-fd3b-4bfc-b8e2-1ba5396ad340",
   "metadata": {},
   "outputs": [
    {
     "name": "stdout",
     "output_type": "stream",
     "text": [
      "10\n"
     ]
    }
   ],
   "source": [
    "g1=genfun()\n",
    "print(next(g1))"
   ]
  },
  {
   "cell_type": "code",
   "execution_count": 4,
   "id": "65bc9eb9-8320-47c8-a2ff-ce31b28f2dba",
   "metadata": {},
   "outputs": [
    {
     "name": "stdout",
     "output_type": "stream",
     "text": [
      "20\n"
     ]
    }
   ],
   "source": [
    "print(next(g1))"
   ]
  },
  {
   "cell_type": "code",
   "execution_count": 5,
   "id": "77b8a566-a30c-4f5f-b785-900d743b03e2",
   "metadata": {},
   "outputs": [
    {
     "name": "stdout",
     "output_type": "stream",
     "text": [
      "30\n"
     ]
    }
   ],
   "source": [
    "print(next(g1))"
   ]
  },
  {
   "cell_type": "code",
   "execution_count": 10,
   "id": "f51b3b4f-26e0-4277-856e-c39b50b81205",
   "metadata": {},
   "outputs": [
    {
     "name": "stdout",
     "output_type": "stream",
     "text": [
      "20\n"
     ]
    }
   ],
   "source": [
    "print(next(g1))"
   ]
  },
  {
   "cell_type": "code",
   "execution_count": 11,
   "id": "9479df88-5829-494c-be51-67bdbe587944",
   "metadata": {},
   "outputs": [
    {
     "name": "stdout",
     "output_type": "stream",
     "text": [
      "30\n"
     ]
    }
   ],
   "source": [
    "print(next(g1))"
   ]
  },
  {
   "cell_type": "code",
   "execution_count": 12,
   "id": "82684560-fbd1-4642-9f8a-db41ca342d88",
   "metadata": {},
   "outputs": [
    {
     "name": "stdout",
     "output_type": "stream",
     "text": [
      "50\n"
     ]
    }
   ],
   "source": [
    "print(next(g1))"
   ]
  },
  {
   "cell_type": "code",
   "execution_count": 13,
   "id": "e0d1721a-7cae-435d-b631-5aa42bfe5081",
   "metadata": {},
   "outputs": [
    {
     "name": "stdout",
     "output_type": "stream",
     "text": [
      "100\n"
     ]
    }
   ],
   "source": [
    "print(next(g1))"
   ]
  },
  {
   "cell_type": "code",
   "execution_count": 15,
   "id": "43269ff0-76a1-41c5-a257-d375aebc7cd6",
   "metadata": {},
   "outputs": [
    {
     "name": "stdout",
     "output_type": "stream",
     "text": [
      "20\n"
     ]
    }
   ],
   "source": [
    "print(next(g1))"
   ]
  },
  {
   "cell_type": "code",
   "execution_count": 16,
   "id": "136fcb53-1786-4233-bfb4-7ad3a2ff05c2",
   "metadata": {},
   "outputs": [
    {
     "name": "stdout",
     "output_type": "stream",
     "text": [
      "12\n",
      "23\n",
      "52\n",
      "63\n"
     ]
    }
   ],
   "source": [
    "#method 1\n",
    "#Convert iterable into iterator\n",
    "list1=[12,23,52,63,41,12,35,35,85]\n",
    "iter1=iter(list1)\n",
    "print(next(iter1))\n",
    "print(next(iter1))\n",
    "print(next(iter1))\n",
    "print(next(iter1))"
   ]
  },
  {
   "cell_type": "code",
   "execution_count": 19,
   "id": "7b99ec5d-c6b9-4067-b7c9-5df19b5d38f4",
   "metadata": {},
   "outputs": [
    {
     "name": "stdout",
     "output_type": "stream",
     "text": [
      "12\n",
      "23\n"
     ]
    }
   ],
   "source": [
    "#method 2\n",
    "#Convert iterable into iterator\n",
    "def converttoiter(list1):\n",
    "    for data in list1:\n",
    "        yield data\n",
    "\n",
    "list1=[12,23,52,63,41,12,35,35,85]\n",
    "iter1=converttoiter(list1)\n",
    "print(next(iter1))\n",
    "print(next(iter1))"
   ]
  },
  {
   "cell_type": "code",
   "execution_count": 21,
   "id": "77ec2be5-d2ed-4eae-80bb-c30ba3a5d811",
   "metadata": {},
   "outputs": [
    {
     "name": "stdout",
     "output_type": "stream",
     "text": [
      "144\n",
      "529\n"
     ]
    }
   ],
   "source": [
    "#method 3\n",
    "#Convert iterable into iterator\n",
    "list1=[12,23,52,63,41,12,35,35,85]\n",
    "iter1=(i*i for i in list1)\n",
    "print(next(iter1))\n",
    "print(next(iter1))\n"
   ]
  },
  {
   "cell_type": "code",
   "execution_count": null,
   "id": "e7a66cb7-4631-4445-8cae-4eae6cd4c349",
   "metadata": {},
   "outputs": [],
   "source": [
    "#difference between iterators and iterable\n",
    "#iterator\n",
    "#1.-e.g Generator\n",
    "#2.for loop or next method\n",
    "\n",
    "#iterables\n",
    "#1.e.g-list,tuple,set\n",
    "#2.only for loop"
   ]
  },
  {
   "cell_type": "code",
   "execution_count": null,
   "id": "9a20b4e6-0828-49e0-ad17-42a5e9df2ec0",
   "metadata": {},
   "outputs": [],
   "source": [
    "#difference between return and yield statement\n",
    "#return-use only one time,end of function \n",
    "\n",
    "\n",
    "#yield-use many time, no end of statement"
   ]
  },
  {
   "cell_type": "code",
   "execution_count": null,
   "id": "48ff4830-d343-4136-9a14-0954d1177d2e",
   "metadata": {},
   "outputs": [],
   "source": [
    "#create a generator seqgen() to generate sequence from 1 to 100"
   ]
  },
  {
   "cell_type": "code",
   "execution_count": 26,
   "id": "6aae523a-2c76-4495-b0a5-939b8d16f3eb",
   "metadata": {},
   "outputs": [
    {
     "name": "stdout",
     "output_type": "stream",
     "text": [
      "1\n",
      "2\n"
     ]
    }
   ],
   "source": [
    "def seqgen():\n",
    "    for i in range(1,101):\n",
    "         yield i     \n",
    "iter1=seqgen()\n",
    "print(next(iter1))\n",
    "print(next(iter1))"
   ]
  },
  {
   "cell_type": "code",
   "execution_count": 28,
   "id": "bf5ab38f-1192-4849-8194-4c5bab736797",
   "metadata": {},
   "outputs": [
    {
     "name": "stdout",
     "output_type": "stream",
     "text": [
      "1\n",
      "2\n"
     ]
    }
   ],
   "source": [
    "def seqgen():\n",
    "    for i in range(1,101):yield i              \n",
    "iter1=seqgen()\n",
    "print(next(iter1))\n",
    "print(next(iter1))"
   ]
  },
  {
   "cell_type": "code",
   "execution_count": 30,
   "id": "f30b49eb-79a9-4839-831a-1c280455994c",
   "metadata": {},
   "outputs": [
    {
     "name": "stdout",
     "output_type": "stream",
     "text": [
      "V\n",
      "I\n"
     ]
    }
   ],
   "source": [
    "iter1=iter(\"VISHAL\")\n",
    "print(next(iter1))\n",
    "print(next(iter1))"
   ]
  },
  {
   "cell_type": "code",
   "execution_count": null,
   "id": "9fcfbdbe-57a9-4f50-b267-4bbce68c289a",
   "metadata": {},
   "outputs": [],
   "source": []
  },
  {
   "cell_type": "code",
   "execution_count": null,
   "id": "f82657bd-be20-4573-8b21-c36e89e653ac",
   "metadata": {},
   "outputs": [],
   "source": []
  },
  {
   "cell_type": "code",
   "execution_count": null,
   "id": "3981c034-7315-436a-9d98-5e707db126fd",
   "metadata": {},
   "outputs": [],
   "source": []
  },
  {
   "cell_type": "code",
   "execution_count": null,
   "id": "6e66d0ee-f904-475c-a22c-6c19ea84e449",
   "metadata": {},
   "outputs": [],
   "source": []
  },
  {
   "cell_type": "code",
   "execution_count": null,
   "id": "abefa1c9-88dc-4862-8f94-7c06e9c1e728",
   "metadata": {},
   "outputs": [],
   "source": []
  }
 ],
 "metadata": {
  "kernelspec": {
   "display_name": "Python 3 (ipykernel)",
   "language": "python",
   "name": "python3"
  },
  "language_info": {
   "codemirror_mode": {
    "name": "ipython",
    "version": 3
   },
   "file_extension": ".py",
   "mimetype": "text/x-python",
   "name": "python",
   "nbconvert_exporter": "python",
   "pygments_lexer": "ipython3",
   "version": "3.11.9"
  }
 },
 "nbformat": 4,
 "nbformat_minor": 5
}
