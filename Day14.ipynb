{
 "cells": [
  {
   "cell_type": "code",
   "execution_count": null,
   "id": "c7a81f34-c489-43eb-8c25-68932243f41a",
   "metadata": {},
   "outputs": [],
   "source": [
    "#Exception Handling\n",
    "#Two type of error\n",
    "#1.Syntax error\n",
    "#2.Exception error(logical error)"
   ]
  },
  {
   "cell_type": "code",
   "execution_count": 4,
   "id": "9ea17e80-262f-41be-bdcf-590f71d99430",
   "metadata": {},
   "outputs": [
    {
     "name": "stdout",
     "output_type": "stream",
     "text": [
      "Hello\n"
     ]
    },
    {
     "name": "stdin",
     "output_type": "stream",
     "text": [
      "Enter a Number : k\n"
     ]
    },
    {
     "name": "stdout",
     "output_type": "stream",
     "text": [
      "Please Enter a number not a any thing 5\n"
     ]
    }
   ],
   "source": [
    "try:\n",
    "    print(\"Hello\")\n",
    "    num=int(input(\"Enter a Number :\"))\n",
    "    print(num)\n",
    "except:\n",
    "    print(\"Please Enter a number not a any thing\")"
   ]
  },
  {
   "cell_type": "code",
   "execution_count": 11,
   "id": "b44228aa-5888-43d0-9d98-599a871230b8",
   "metadata": {},
   "outputs": [
    {
     "name": "stdin",
     "output_type": "stream",
     "text": [
      "Enter a number: 0\n"
     ]
    },
    {
     "name": "stdout",
     "output_type": "stream",
     "text": [
      "Please enter a non zero number\n"
     ]
    }
   ],
   "source": [
    "num=input(\"Enter a number:\")\n",
    "try:\n",
    "    num1=int(num)\n",
    "    num2=10/num1\n",
    "    print(num2)\n",
    "except ValueError:\n",
    "    print(\"It is not a number\")\n",
    "except ZeroDivisionError:\n",
    "    print(\"Please enter a non zero number\")"
   ]
  },
  {
   "cell_type": "code",
   "execution_count": null,
   "id": "9f892982-09ab-44aa-ab5b-5f3a77b82d85",
   "metadata": {},
   "outputs": [],
   "source": []
  },
  {
   "cell_type": "code",
   "execution_count": null,
   "id": "25821e3b-f89d-430b-9746-f8bfb0593373",
   "metadata": {},
   "outputs": [],
   "source": []
  },
  {
   "cell_type": "code",
   "execution_count": null,
   "id": "04d9f4a3-5eb0-4456-ba5b-c67f9e6c75a5",
   "metadata": {},
   "outputs": [],
   "source": []
  },
  {
   "cell_type": "code",
   "execution_count": null,
   "id": "f132c60f-22ec-4055-bf9a-fe6255eb2856",
   "metadata": {},
   "outputs": [],
   "source": []
  },
  {
   "cell_type": "code",
   "execution_count": null,
   "id": "ff7fda18-bd1c-4ee4-8bce-1063115e056a",
   "metadata": {},
   "outputs": [],
   "source": []
  },
  {
   "cell_type": "code",
   "execution_count": null,
   "id": "51a22a7a-c828-4de5-98a7-4f01d1b61d7c",
   "metadata": {},
   "outputs": [],
   "source": []
  },
  {
   "cell_type": "code",
   "execution_count": null,
   "id": "b7d8fe2d-d673-4ba2-bcc5-eb5dd8f784d3",
   "metadata": {},
   "outputs": [],
   "source": []
  },
  {
   "cell_type": "code",
   "execution_count": null,
   "id": "73e1ae0b-c9d3-4333-98d3-23607232fa99",
   "metadata": {},
   "outputs": [],
   "source": []
  },
  {
   "cell_type": "code",
   "execution_count": null,
   "id": "c3386800-26f2-4646-9daa-344d6f74c296",
   "metadata": {},
   "outputs": [],
   "source": []
  },
  {
   "cell_type": "code",
   "execution_count": null,
   "id": "fcd76194-ca2c-41c5-b7d3-0096a8b79b9d",
   "metadata": {},
   "outputs": [],
   "source": []
  },
  {
   "cell_type": "code",
   "execution_count": null,
   "id": "50817d15-cf29-42d7-8a32-bbc255599940",
   "metadata": {},
   "outputs": [],
   "source": []
  },
  {
   "cell_type": "code",
   "execution_count": null,
   "id": "7db7e889-b55c-4bd8-97f7-0d4b0ea2ac4a",
   "metadata": {},
   "outputs": [],
   "source": []
  },
  {
   "cell_type": "code",
   "execution_count": null,
   "id": "c3a8a239-89d9-432d-855d-b85b90a46c75",
   "metadata": {},
   "outputs": [],
   "source": []
  },
  {
   "cell_type": "code",
   "execution_count": null,
   "id": "82c03abc-db3f-4f05-a2ac-baea058b929e",
   "metadata": {},
   "outputs": [],
   "source": []
  },
  {
   "cell_type": "code",
   "execution_count": null,
   "id": "24503fe2-8168-46d8-bd61-a885a03fb131",
   "metadata": {},
   "outputs": [],
   "source": []
  },
  {
   "cell_type": "code",
   "execution_count": null,
   "id": "c6cd6c1e-1b1b-4c8f-a65c-dbb07fe163d5",
   "metadata": {},
   "outputs": [],
   "source": []
  },
  {
   "cell_type": "code",
   "execution_count": null,
   "id": "3daa5072-7201-44a1-834e-d62c364c9cdb",
   "metadata": {},
   "outputs": [],
   "source": []
  },
  {
   "cell_type": "code",
   "execution_count": null,
   "id": "ec7f00b6-120b-4dda-9111-9d3ba1d8f12e",
   "metadata": {},
   "outputs": [],
   "source": []
  },
  {
   "cell_type": "code",
   "execution_count": null,
   "id": "198e6072-ff26-4c0b-98f1-0edff7a16bfd",
   "metadata": {},
   "outputs": [],
   "source": []
  },
  {
   "cell_type": "code",
   "execution_count": null,
   "id": "b8c524bc-5eb7-4ea5-9987-127fdf374a01",
   "metadata": {},
   "outputs": [],
   "source": []
  },
  {
   "cell_type": "code",
   "execution_count": null,
   "id": "dde017b5-91ef-4fe9-a3bc-01e7c13ef8bc",
   "metadata": {},
   "outputs": [],
   "source": []
  },
  {
   "cell_type": "code",
   "execution_count": null,
   "id": "aa79245a-a34f-430a-9435-4964c9e9d365",
   "metadata": {},
   "outputs": [],
   "source": []
  },
  {
   "cell_type": "code",
   "execution_count": null,
   "id": "1c7fd4cf-de9c-4037-9217-76c79d57c9a7",
   "metadata": {},
   "outputs": [],
   "source": []
  },
  {
   "cell_type": "code",
   "execution_count": null,
   "id": "136d4f82-07d8-490f-a932-79041c627ecf",
   "metadata": {},
   "outputs": [],
   "source": []
  },
  {
   "cell_type": "code",
   "execution_count": null,
   "id": "7a655396-9536-42cb-9673-1753702affc4",
   "metadata": {},
   "outputs": [],
   "source": []
  },
  {
   "cell_type": "code",
   "execution_count": null,
   "id": "a9432289-ca35-4250-bb1b-4dc753834ec9",
   "metadata": {},
   "outputs": [],
   "source": []
  },
  {
   "cell_type": "code",
   "execution_count": null,
   "id": "08d4a56c-bd6f-461b-b5fc-61bebe7b78de",
   "metadata": {},
   "outputs": [],
   "source": []
  },
  {
   "cell_type": "code",
   "execution_count": null,
   "id": "78f72e86-f9b6-4e22-afbd-0830c8e5163a",
   "metadata": {},
   "outputs": [],
   "source": []
  },
  {
   "cell_type": "code",
   "execution_count": null,
   "id": "b764bd39-08c9-4445-8212-e7fd0a06ee04",
   "metadata": {},
   "outputs": [],
   "source": []
  },
  {
   "cell_type": "code",
   "execution_count": null,
   "id": "f971214d-b711-4d92-87c6-d3888ec23d81",
   "metadata": {},
   "outputs": [],
   "source": []
  },
  {
   "cell_type": "code",
   "execution_count": null,
   "id": "f921a7e1-3b91-417e-9278-fdfc7be9ea72",
   "metadata": {},
   "outputs": [],
   "source": []
  },
  {
   "cell_type": "code",
   "execution_count": null,
   "id": "e05211e4-8288-4f80-b710-b38e761a1816",
   "metadata": {},
   "outputs": [],
   "source": []
  },
  {
   "cell_type": "code",
   "execution_count": null,
   "id": "df35a01e-949a-42bd-8fe7-8cb94b0a074b",
   "metadata": {},
   "outputs": [],
   "source": []
  },
  {
   "cell_type": "code",
   "execution_count": null,
   "id": "3ddf6541-6b43-4105-b507-a2d0323ae43e",
   "metadata": {},
   "outputs": [],
   "source": []
  },
  {
   "cell_type": "code",
   "execution_count": null,
   "id": "eb0ea82b-c9b0-4a76-8306-b07b80b9d556",
   "metadata": {},
   "outputs": [],
   "source": []
  },
  {
   "cell_type": "code",
   "execution_count": null,
   "id": "c57b4ae9-6b14-4877-8439-e2f69ba17755",
   "metadata": {},
   "outputs": [],
   "source": []
  },
  {
   "cell_type": "code",
   "execution_count": null,
   "id": "861000df-8f0a-4e7b-bc5a-2c176b7dcc5d",
   "metadata": {},
   "outputs": [],
   "source": []
  },
  {
   "cell_type": "code",
   "execution_count": null,
   "id": "73d0b264-58e8-43aa-989a-d807a8b33bbd",
   "metadata": {},
   "outputs": [],
   "source": []
  },
  {
   "cell_type": "code",
   "execution_count": null,
   "id": "7959eca9-7f16-4a4a-ba65-87d898cccbd4",
   "metadata": {},
   "outputs": [],
   "source": []
  },
  {
   "cell_type": "code",
   "execution_count": null,
   "id": "54c80e61-1f50-4bfe-8ea7-c0e83c0e73d9",
   "metadata": {},
   "outputs": [],
   "source": []
  },
  {
   "cell_type": "code",
   "execution_count": null,
   "id": "06890b96-d928-4c4a-872b-589398bf5dfc",
   "metadata": {},
   "outputs": [],
   "source": []
  }
 ],
 "metadata": {
  "kernelspec": {
   "display_name": "Python 3 (ipykernel)",
   "language": "python",
   "name": "python3"
  },
  "language_info": {
   "codemirror_mode": {
    "name": "ipython",
    "version": 3
   },
   "file_extension": ".py",
   "mimetype": "text/x-python",
   "name": "python",
   "nbconvert_exporter": "python",
   "pygments_lexer": "ipython3",
   "version": "3.11.9"
  }
 },
 "nbformat": 4,
 "nbformat_minor": 5
}
