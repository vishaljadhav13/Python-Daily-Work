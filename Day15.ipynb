{
 "cells": [
  {
   "cell_type": "code",
   "execution_count": 3,
   "id": "1f8342aa-c620-4b81-92c0-9db5d09b81cd",
   "metadata": {},
   "outputs": [
    {
     "name": "stdin",
     "output_type": "stream",
     "text": [
      "Enter a roll number: -2\n"
     ]
    },
    {
     "name": "stdout",
     "output_type": "stream",
     "text": [
      "Invalid roll number\n"
     ]
    }
   ],
   "source": [
    "class MyCustomError(Exception):\n",
    "    pass\n",
    "\n",
    "try:\n",
    "    roll=int(input(\"Enter a roll number:\"))\n",
    "    if roll<0:\n",
    "        raise MyCustomError\n",
    "except MyCustomError:\n",
    "    print(\"Invalid roll number\")"
   ]
  },
  {
   "cell_type": "code",
   "execution_count": null,
   "id": "2dc5eddc-3be5-4420-b41e-3d6f37881dcc",
   "metadata": {},
   "outputs": [],
   "source": [
    "#logging\n",
    "# in which file exception is occures\n",
    "#at which line exception is occures"
   ]
  },
  {
   "cell_type": "code",
   "execution_count": 4,
   "id": "4d7f4571-d7aa-4173-ba95-6e80a7cb6e80",
   "metadata": {},
   "outputs": [
    {
     "name": "stdin",
     "output_type": "stream",
     "text": [
      "Enter a roll number: -5\n"
     ]
    },
    {
     "name": "stderr",
     "output_type": "stream",
     "text": [
      "ERROR:root:Invalid roll number\n",
      "Traceback (most recent call last):\n",
      "  File \"C:\\Users\\Admin\\AppData\\Local\\Temp\\ipykernel_5700\\510044602.py\", line 8, in <module>\n",
      "    raise MyCustomError\n",
      "MyCustomError\n"
     ]
    }
   ],
   "source": [
    "import logging\n",
    "class MyCustomError(Exception):\n",
    "    pass\n",
    "\n",
    "try:\n",
    "    roll=int(input(\"Enter a roll number:\"))\n",
    "    if roll<0:\n",
    "        raise MyCustomError\n",
    "except MyCustomError:\n",
    "    logging.exception(\"Invalid roll number\")\n"
   ]
  },
  {
   "cell_type": "code",
   "execution_count": null,
   "id": "012180fa-fa07-446a-82aa-22923fedcf6d",
   "metadata": {},
   "outputs": [],
   "source": [
    "#level of error\n",
    "#DEBUG\n",
    "#INFO\n",
    "#WARNING\n",
    "#ERROR\n",
    "#CRITICAL"
   ]
  },
  {
   "cell_type": "code",
   "execution_count": 6,
   "id": "9229186d-7b73-4896-a38b-119a8b7978b7",
   "metadata": {},
   "outputs": [
    {
     "name": "stderr",
     "output_type": "stream",
     "text": [
      "WARNING:my_logger:Its a warning\n",
      "ERROR:my_logger:did yu try to divid bye zero\n",
      "CRITICAL:my_logger:Insert is down\n"
     ]
    }
   ],
   "source": [
    "import logging\n",
    "def main():\n",
    "    logging.basicConfig(filename=\"V1.log\",format=\"[%(asctime)s]%(levelname)-s %(name)-12s\",filemode=\"a\")\n",
    "\n",
    "    logger=logging.getLogger(\"my_logger\")\n",
    "\n",
    "    logger.debug(\"haemliss debug message\")\n",
    "    logger.info(\"Just an information\")\n",
    "    logger.warning(\"Its a warning\")\n",
    "    logger.error(\"did yu try to divid bye zero\")\n",
    "    logger.critical(\"Insert is down\")\n",
    "\n",
    "if __name__==\"__main__\":\n",
    "    main()"
   ]
  },
  {
   "cell_type": "code",
   "execution_count": 7,
   "id": "0162c1f9-7e49-4240-958f-565eba4b0aa6",
   "metadata": {},
   "outputs": [
    {
     "data": {
      "text/plain": [
       "'C:\\\\Users\\\\Admin'"
      ]
     },
     "execution_count": 7,
     "metadata": {},
     "output_type": "execute_result"
    }
   ],
   "source": [
    "pwd"
   ]
  },
  {
   "cell_type": "code",
   "execution_count": 9,
   "id": "8b81fa14-6262-448f-9d9b-7c578f0799de",
   "metadata": {},
   "outputs": [
    {
     "name": "stdin",
     "output_type": "stream",
     "text": [
      "Enter a roll number: -7\n"
     ]
    }
   ],
   "source": [
    "\n",
    "class MyCustomError(Exception):\n",
    "    pass\n",
    "\n",
    "try:\n",
    "    roll=int(input(\"Enter a roll number:\"))\n",
    "    if roll<0:\n",
    "        raise MyCustomError(\"not exist\")\n",
    "except MyCustomError as ex:\n",
    "    f=open(\"Aniket.txt\",\"a\")\n",
    "    f.write(str(ex))\n",
    "    f.close()\n",
    "  "
   ]
  },
  {
   "cell_type": "code",
   "execution_count": null,
   "id": "6200f6b9-cb03-41e3-a3d2-dbaf10a1d2d1",
   "metadata": {},
   "outputs": [],
   "source": []
  },
  {
   "cell_type": "code",
   "execution_count": null,
   "id": "58bc25ea-a73c-464f-bef4-2f3d3b4eee00",
   "metadata": {},
   "outputs": [],
   "source": []
  },
  {
   "cell_type": "code",
   "execution_count": null,
   "id": "37683557-7a1a-4d64-9337-8f83327e94b4",
   "metadata": {},
   "outputs": [],
   "source": []
  },
  {
   "cell_type": "code",
   "execution_count": null,
   "id": "4d74b438-8840-4d6b-a969-5c2097a112ab",
   "metadata": {},
   "outputs": [],
   "source": []
  },
  {
   "cell_type": "code",
   "execution_count": null,
   "id": "f62a01b7-5bf8-485c-87c9-4b1bc9c9eedc",
   "metadata": {},
   "outputs": [],
   "source": []
  },
  {
   "cell_type": "code",
   "execution_count": null,
   "id": "7da36ff0-0289-46d2-8e77-9aaabdcff69f",
   "metadata": {},
   "outputs": [],
   "source": []
  },
  {
   "cell_type": "code",
   "execution_count": null,
   "id": "6ba51a02-dca2-4696-861a-b54a3a7bb96f",
   "metadata": {},
   "outputs": [],
   "source": []
  }
 ],
 "metadata": {
  "kernelspec": {
   "display_name": "Python 3 (ipykernel)",
   "language": "python",
   "name": "python3"
  },
  "language_info": {
   "codemirror_mode": {
    "name": "ipython",
    "version": 3
   },
   "file_extension": ".py",
   "mimetype": "text/x-python",
   "name": "python",
   "nbconvert_exporter": "python",
   "pygments_lexer": "ipython3",
   "version": "3.11.9"
  }
 },
 "nbformat": 4,
 "nbformat_minor": 5
}
