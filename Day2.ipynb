{
 "cells": [
  {
   "cell_type": "code",
   "execution_count": 4,
   "id": "0a6e6135-ae13-4155-a9f0-b4632d8469e5",
   "metadata": {},
   "outputs": [
    {
     "name": "stdout",
     "output_type": "stream",
     "text": [
      "Addition of two number : 30\n"
     ]
    }
   ],
   "source": [
    "a=10\n",
    "b=20\n",
    "c=a+b\n",
    "print(\"Addition of two number :\",c)"
   ]
  },
  {
   "cell_type": "code",
   "execution_count": 5,
   "id": "54401ae1-b807-4db5-b098-d1e8676e8c47",
   "metadata": {},
   "outputs": [
    {
     "name": "stdin",
     "output_type": "stream",
     "text": [
      "Enter a number a: 5\n",
      "Enter a number b: 5\n"
     ]
    },
    {
     "name": "stdout",
     "output_type": "stream",
     "text": [
      "Addion of two number 10\n"
     ]
    }
   ],
   "source": [
    "#from user input\n",
    "a=int(input(\"Enter a number a:\"))\n",
    "b=int(input(\"Enter a number b:\"))\n",
    "c=a+b\n",
    "print(\"Addion of two number\",c)"
   ]
  },
  {
   "cell_type": "code",
   "execution_count": 7,
   "id": "0d0464b7-b703-4b66-bd98-7bf1e3e1d5b8",
   "metadata": {},
   "outputs": [
    {
     "name": "stdin",
     "output_type": "stream",
     "text": [
      "heigth of triangle h: 6\n",
      "base of triangle b: 5\n"
     ]
    },
    {
     "name": "stdout",
     "output_type": "stream",
     "text": [
      "area of triangle 15.0\n"
     ]
    }
   ],
   "source": [
    "#write a script for to calculate area of triangle\n",
    "h=int(input(\"heigth of triangle h:\"))\n",
    "b=int(input(\"base of triangle b:\"))\n",
    "area=0.5*b*h\n",
    "print(\"area of triangle :\",area)\n"
   ]
  },
  {
   "cell_type": "code",
   "execution_count": null,
   "id": "5af21b52-bc49-4a49-b607-d44f6740dc31",
   "metadata": {},
   "outputs": [],
   "source": [
    "#store multiple type of data\n",
    "list1=[12,25,14,25,\"Vishal\",2.5,25.3]\n",
    "print(list1)"
   ]
  },
  {
   "cell_type": "code",
   "execution_count": null,
   "id": "be0c9827-7e46-4d13-bedf-b20900079598",
   "metadata": {},
   "outputs": [],
   "source": [
    "#index start from zero\n",
    "list1=[12,25,14,25,\"Vishal\",2.5,25.3]\n",
    "print(list1[4])"
   ]
  },
  {
   "cell_type": "code",
   "execution_count": null,
   "id": "5e4b04f7-22b1-42a0-ad01-0bb23e2b85ea",
   "metadata": {},
   "outputs": [],
   "source": [
    "#negative index start from -1\n",
    "list1=[12,25,14,25,\"Vishal\",2.5,25.3]\n",
    "print(list1[-4])"
   ]
  },
  {
   "cell_type": "code",
   "execution_count": null,
   "id": "3426cd73-5b85-4d01-a1b4-a4fd95ae9272",
   "metadata": {},
   "outputs": [],
   "source": [
    "#length of list\n",
    "list1=[12,25,14,25,\"Vishal\",2.5,25.3]\n",
    "len(list1)"
   ]
  },
  {
   "cell_type": "code",
   "execution_count": null,
   "id": "d453502a-deaf-4392-970e-f3289d139317",
   "metadata": {},
   "outputs": [],
   "source": [
    "v1=[2,3,5,8,9,\"abc\",\"bca\",2.5,3.6]\n",
    "len(v1)\n",
    "type(v1)\n",
    "print(v1)"
   ]
  },
  {
   "cell_type": "code",
   "execution_count": 4,
   "id": "5120892b-c771-4ee9-873f-1e74214a6683",
   "metadata": {},
   "outputs": [
    {
     "name": "stdin",
     "output_type": "stream",
     "text": [
      "Enter a number: 2\n",
      "Enter a number: 3\n"
     ]
    },
    {
     "name": "stdout",
     "output_type": "stream",
     "text": [
      "Addition of two number: 5\n",
      "substraction of two number: -1\n",
      "Multplication of two number: 6\n",
      "Division of two number: 0.6666666666666666\n",
      "power of two number: 8\n"
     ]
    }
   ],
   "source": [
    "#Basics calculater\n",
    "a=int(input(\"Enter a number:\"))\n",
    "b=int(input(\"Enter a number:\"))\n",
    "print(\"Addition of two number:\",a+b)\n",
    "print(\"substraction of two number:\",a-b)\n",
    "print(\"Multplication of two number:\",a*b)\n",
    "print(\"Division of two number:\",a/b)\n",
    "print(\"power of two number:\",a**b)\n"
   ]
  },
  {
   "cell_type": "code",
   "execution_count": 1,
   "id": "8286e86d-afd2-451c-9a82-6c500b1bc029",
   "metadata": {},
   "outputs": [
    {
     "name": "stdin",
     "output_type": "stream",
     "text": [
      "Length of Rectangle : 20\n",
      "Width of Rectangle : 15\n"
     ]
    },
    {
     "name": "stdout",
     "output_type": "stream",
     "text": [
      "Area of ractangle is : 300\n"
     ]
    }
   ],
   "source": [
    "#Area of ractangle \n",
    "l=int(input(\"Length of Rectangle :\"))\n",
    "w=int(input(\"Width of Rectangle :\"))\n",
    "a=l*w\n",
    "print(\"Area of ractangle is :\",a)"
   ]
  },
  {
   "cell_type": "code",
   "execution_count": 2,
   "id": "02f01524-3792-484a-8d08-0e9502999c18",
   "metadata": {},
   "outputs": [
    {
     "name": "stdin",
     "output_type": "stream",
     "text": [
      "Area of side : 5\n"
     ]
    },
    {
     "name": "stdout",
     "output_type": "stream",
     "text": [
      "Area of Square is : 25\n"
     ]
    }
   ],
   "source": [
    "#Area of Square\n",
    "s=int(input(\"Area of side :\"))\n",
    "a=s*s\n",
    "print(\"Area of Square is :\",a)"
   ]
  },
  {
   "cell_type": "code",
   "execution_count": 3,
   "id": "c66571c8-225b-42e3-9df6-3a28da7a7bab",
   "metadata": {},
   "outputs": [
    {
     "name": "stdin",
     "output_type": "stream",
     "text": [
      "Radius of circle: 2\n"
     ]
    },
    {
     "name": "stdout",
     "output_type": "stream",
     "text": [
      "Area of circle is: 12.56\n"
     ]
    }
   ],
   "source": [
    "#Area of cicle \n",
    "c=int(input(\"Radius of circle:\"))\n",
    "a=3.14*c*c\n",
    "print(\"Area of circle is:\",a)"
   ]
  },
  {
   "cell_type": "code",
   "execution_count": 8,
   "id": "40408b18-d81c-4f78-a719-4f2e5d9a1160",
   "metadata": {},
   "outputs": [
    {
     "name": "stdin",
     "output_type": "stream",
     "text": [
      "Base of Trapezium b1: 5\n",
      "Base of Trapezium b2: 5\n",
      "height of Trapezium h: 5\n"
     ]
    },
    {
     "name": "stdout",
     "output_type": "stream",
     "text": [
      "Area of Trapezium is: 25.0\n"
     ]
    }
   ],
   "source": [
    "#area of Trapezium\n",
    "b1=int(input(\"Base of Trapezium b1:\"))\n",
    "b2=int(input(\"Base of Trapezium b2:\"))\n",
    "h=int(input(\"height of Trapezium h:\"))\n",
    "a=0.5*(b1+b2)*h\n",
    "print(\"Area of Trapezium is:\",a)"
   ]
  },
  {
   "cell_type": "code",
   "execution_count": 9,
   "id": "cb2cb841-0475-420a-ab14-76955475b341",
   "metadata": {},
   "outputs": [
    {
     "name": "stdin",
     "output_type": "stream",
     "text": [
      "Radius of cylinder is : 5\n",
      "Height of cylindern is : 5\n"
     ]
    },
    {
     "name": "stdout",
     "output_type": "stream",
     "text": [
      "Area of Cylinder is : 314.0\n"
     ]
    }
   ],
   "source": [
    "#Area of cylinder \n",
    "r=int(input(\"Radius of cylinder is :\"))\n",
    "h=int(input(\"Height of cylindern is :\"))\n",
    "a=2*3.14*r*h+2*3.14*r*r\n",
    "print(\"Area of Cylinder is :\",a)"
   ]
  },
  {
   "cell_type": "code",
   "execution_count": 6,
   "id": "f49c2818-821d-4023-abc1-75126d766c9d",
   "metadata": {},
   "outputs": [
    {
     "name": "stdin",
     "output_type": "stream",
     "text": [
      "Radius of circle: 5\n"
     ]
    },
    {
     "name": "stdout",
     "output_type": "stream",
     "text": [
      "Circumference of a Circle is: 31.400000000000002\n"
     ]
    }
   ],
   "source": [
    "#Circumference of a Circle\n",
    "r=float(input(\"Radius of circle:\"))\n",
    "c=2*3.14*r\n",
    "print(\"Circumference of a Circle is:\",c)"
   ]
  },
  {
   "cell_type": "code",
   "execution_count": 7,
   "id": "afe27fad-5028-4fc5-a5f3-718c146f009d",
   "metadata": {},
   "outputs": [
    {
     "name": "stdin",
     "output_type": "stream",
     "text": [
      "Put x1: 2\n",
      "Put x2: 3\n",
      "Put y1: 4\n",
      "put y2: 5\n"
     ]
    },
    {
     "name": "stdout",
     "output_type": "stream",
     "text": [
      "Slope of line is : 1.0\n"
     ]
    }
   ],
   "source": [
    "#Slope of line\n",
    "x1=int(input(\"Put x1:\"))\n",
    "x2=int(input(\"Put x2:\"))\n",
    "y1=int(input(\"Put y1:\"))\n",
    "y2=int(input(\"put y2:\"))\n",
    "s=(y2-y1)/(x2-x1)\n",
    "print(\"Slope of line is :\",s)"
   ]
  },
  {
   "cell_type": "code",
   "execution_count": null,
   "id": "4190f06b-679b-4bb2-8f0b-c56b2605296d",
   "metadata": {},
   "outputs": [],
   "source": [
    "#Lists are used to store multiple items in a single variable.\n",
    "#list is mutable(can be change list)"
   ]
  },
  {
   "cell_type": "code",
   "execution_count": 10,
   "id": "eb432dd0-6703-42c0-8404-bc30e232f9b6",
   "metadata": {},
   "outputs": [
    {
     "name": "stdout",
     "output_type": "stream",
     "text": [
      "<class 'list'>\n"
     ]
    }
   ],
   "source": [
    "list=[\"apple\", \"banana\", \"cherry\", \"apple\", \"cherry\"]\n",
    "print(type(list))"
   ]
  },
  {
   "cell_type": "code",
   "execution_count": 18,
   "id": "49c559b3-ec70-42f0-a7ca-edb5640a3f73",
   "metadata": {},
   "outputs": [
    {
     "name": "stdout",
     "output_type": "stream",
     "text": [
      "['apple', 'banana', 'cherry', 'apple']\n"
     ]
    }
   ],
   "source": [
    "#take first 4 element\n",
    "print(list[:4])"
   ]
  },
  {
   "cell_type": "code",
   "execution_count": 19,
   "id": "c9078434-476b-4950-944d-2e6e19ca3c71",
   "metadata": {},
   "outputs": [
    {
     "name": "stdout",
     "output_type": "stream",
     "text": [
      "['kiwi', 'melon', 'mango']\n"
     ]
    }
   ],
   "source": [
    "#first four Drop\n",
    "list = [\"apple\", \"banana\", \"cherry\", \"orange\", \"kiwi\", \"melon\", \"mango\"]\n",
    "print(list[4:])"
   ]
  },
  {
   "cell_type": "code",
   "execution_count": 25,
   "id": "7122ba75-7710-4dea-ae9e-8eeb00a260c5",
   "metadata": {},
   "outputs": [
    {
     "name": "stdout",
     "output_type": "stream",
     "text": [
      "['apple', 'banana', 'cherry', 'Rose', 'lily', 'orange', 'kiwi', 'melon', 'mango']\n"
     ]
    }
   ],
   "source": [
    "#Change list item\n",
    "list = [\"apple\", \"banana\", \"cherry\", \"orange\", \"kiwi\", \"melon\", \"mango\"]\n",
    "list[3:2]=[\"Rose\",\"lily\"]\n",
    "print(list)"
   ]
  },
  {
   "cell_type": "code",
   "execution_count": 32,
   "id": "5dee37aa-f7d4-45bd-b9d3-246f5cc7402f",
   "metadata": {},
   "outputs": [
    {
     "name": "stdout",
     "output_type": "stream",
     "text": [
      "['apple', 'banana', 'cherry', 'orange', 'melon', 'mango']\n"
     ]
    }
   ],
   "source": [
    "list = [\"apple\", \"banana\", \"cherry\", \"orange\", \"kiwi\", \"melon\", \"mango\"]\n",
    "#list.append(\"Orange\")\n",
    "list.remove(\"kiwi\")\n",
    "print(list)"
   ]
  },
  {
   "cell_type": "code",
   "execution_count": null,
   "id": "3bb7fa6c-4fa1-438c-9a95-7a596eecc682",
   "metadata": {},
   "outputs": [],
   "source": []
  },
  {
   "cell_type": "code",
   "execution_count": null,
   "id": "6a18049b-6496-484e-991b-ac08e6f43282",
   "metadata": {},
   "outputs": [],
   "source": []
  },
  {
   "cell_type": "code",
   "execution_count": null,
   "id": "e07a56e9-0538-4e0d-a150-44ca2ce79ad5",
   "metadata": {},
   "outputs": [],
   "source": []
  },
  {
   "cell_type": "code",
   "execution_count": null,
   "id": "9c0d77c0-8a7e-438b-a8bd-a307286c69ab",
   "metadata": {},
   "outputs": [],
   "source": []
  },
  {
   "cell_type": "code",
   "execution_count": null,
   "id": "1e2b0e7c-9af8-4748-8f0b-68a60fdef413",
   "metadata": {},
   "outputs": [],
   "source": []
  },
  {
   "cell_type": "code",
   "execution_count": null,
   "id": "921e06df-0a3c-4592-ac65-04ae85b79c82",
   "metadata": {},
   "outputs": [],
   "source": []
  },
  {
   "cell_type": "code",
   "execution_count": null,
   "id": "9c699120-d93f-42ef-abbb-4402a3fb54a5",
   "metadata": {},
   "outputs": [],
   "source": []
  },
  {
   "cell_type": "code",
   "execution_count": 1,
   "id": "d3e49e36-1aa8-49b7-9216-94975d155fa5",
   "metadata": {},
   "outputs": [
    {
     "name": "stdout",
     "output_type": "stream",
     "text": [
      "[2, 3, 5, 8, 9, 'abc', 'bca', 2.5, 3.6]\n"
     ]
    }
   ],
   "source": [
    "\n",
    "v1=[2,3,5,8,9,\"abc\",\"bca\",2.5,3.6]\n",
    "print(v1)\n",
    "v1.append(28)"
   ]
  },
  {
   "cell_type": "code",
   "execution_count": 9,
   "id": "0855df50-ed11-4942-b5f2-f89692f7dfe6",
   "metadata": {},
   "outputs": [
    {
     "name": "stdout",
     "output_type": "stream",
     "text": [
      "<class 'str'>\n"
     ]
    }
   ],
   "source": [
    "tuple1=(\"Python\")\n",
    "\n",
    "print(type(tuple1))"
   ]
  },
  {
   "cell_type": "code",
   "execution_count": 11,
   "id": "08f238b0-7c61-45a2-bf56-b9ac085bd29e",
   "metadata": {},
   "outputs": [
    {
     "name": "stdout",
     "output_type": "stream",
     "text": [
      "1\n",
      "5\n",
      "3\n",
      "6\n"
     ]
    }
   ],
   "source": [
    "a,b,c,d=(1,5,3,6)\n",
    "print(a)\n",
    "print(b)\n",
    "print(c)\n",
    "print(d)\n"
   ]
  },
  {
   "cell_type": "code",
   "execution_count": 13,
   "id": "d1b7e915-ce00-4b39-8672-87d13d1c1e41",
   "metadata": {},
   "outputs": [
    {
     "name": "stdout",
     "output_type": "stream",
     "text": [
      "{2, 5, 6, 8, 9}\n",
      "<class 'set'>\n"
     ]
    }
   ],
   "source": [
    "#Set\n",
    "#do not take repeated value\n",
    "#its order is not fixed\n",
    "# one element take only one time\n",
    "set1={2,5,6,6,8,9}\n",
    "print(set1)\n",
    "print(type(set1))\n",
    "    "
   ]
  },
  {
   "cell_type": "code",
   "execution_count": 17,
   "id": "58b001cb-341e-4ba4-8c50-9ca7edc73a3d",
   "metadata": {},
   "outputs": [
    {
     "name": "stdout",
     "output_type": "stream",
     "text": [
      "{'name': 'Raj', 'age': 25, 'city': 'pune'}\n",
      "<class 'dict'>\n"
     ]
    }
   ],
   "source": [
    "#Dictionary\n",
    "#store key value\n",
    "#no repeat data\n",
    "#we can not use keyword like from,print,import...so many\n",
    "#all type data accepted like 25:36 or 2.5:25\n",
    "#in dict as a key all data type accepted\n",
    "#but donot use list\n",
    "#dict{key(accept list all datatype):value(all datatype)}\n",
    "dict1={\"name\":\"Raj\", \"age\":25,\"city\":\"pune\"}\n",
    "print(dict1)\n",
    "\n",
    "print(type(dict1))"
   ]
  },
  {
   "cell_type": "code",
   "execution_count": 7,
   "id": "a25a49fc-0668-4364-bb28-5d129198ac53",
   "metadata": {},
   "outputs": [
    {
     "name": "stdout",
     "output_type": "stream",
     "text": [
      "{'name': 'Raj', 'age': 25, 'city': 'pune', 'sita': 30}\n"
     ]
    }
   ],
   "source": [
    "dict1={\"name\":\"Raj\", \"age\":25,\"city\":\"pune\"}\n",
    "dict1[\"sita\"]=30\n",
    "print(dict1)"
   ]
  },
  {
   "cell_type": "code",
   "execution_count": 11,
   "id": "6f6cce55-e334-4899-bdd6-4414dad3b05a",
   "metadata": {},
   "outputs": [
    {
     "name": "stdout",
     "output_type": "stream",
     "text": [
      "{1: 20, 2: 30, 3: 40, 'raj': 25, (2, 3): 50}\n"
     ]
    }
   ],
   "source": [
    "d1={1:20,2:30,3:40,\"raj\":25,(2,3):50}\n",
    "print(d1)"
   ]
  },
  {
   "cell_type": "code",
   "execution_count": 2,
   "id": "9e9c3d28-047f-4d8f-95ce-60df02f785d4",
   "metadata": {},
   "outputs": [
    {
     "name": "stdin",
     "output_type": "stream",
     "text": [
      "Enter a number : 10\n",
      "Enter a number : 5\n"
     ]
    },
    {
     "name": "stdout",
     "output_type": "stream",
     "text": [
      "Addition of two number : 15\n",
      "substraction of two number : 5\n",
      "Multiplication of two number : 50\n",
      "division of two number : 2\n"
     ]
    }
   ],
   "source": [
    "a=int(input(\"Enter a number :\"))\n",
    "b=int(input(\"Enter a number :\"))\n",
    "print(\"Addition of two number :\",a+b)\n",
    "print(\"substraction of two number :\",a-b)\n",
    "print(\"Multiplication of two number :\",a*b)\n",
    "print(\"division of two number :\",a//b)"
   ]
  },
  {
   "cell_type": "code",
   "execution_count": 4,
   "id": "c1f8bc84-4cc0-4918-bf65-f55d93087e78",
   "metadata": {},
   "outputs": [
    {
     "name": "stdout",
     "output_type": "stream",
     "text": [
      "{'vishal': 'Jadhav', 'roll no': 25}\n"
     ]
    },
    {
     "data": {
      "text/plain": [
       "dict"
      ]
     },
     "execution_count": 4,
     "metadata": {},
     "output_type": "execute_result"
    }
   ],
   "source": [
    "v={\"vishal\":\"Jadhav\",\"roll no\":25}\n",
    "print(v)\n",
    "type(v)"
   ]
  },
  {
   "cell_type": "code",
   "execution_count": 6,
   "id": "acd993f9-203b-4025-b2ec-31354ef792f1",
   "metadata": {},
   "outputs": [
    {
     "name": "stdout",
     "output_type": "stream",
     "text": [
      "['apple', 'banana', 'cherry', 'orange', 'melon', 'mango', 'kiwi']\n"
     ]
    }
   ],
   "source": [
    "list=[\"apple\", \"banana\", \"cherry\", \"orange\",\"melon\", \"mango\"]\n",
    "list.append(\"kiwi\")\n",
    "print(list)"
   ]
  },
  {
   "cell_type": "code",
   "execution_count": 7,
   "id": "e9e49665-667a-4a92-a7dd-22222f990b6e",
   "metadata": {},
   "outputs": [
    {
     "name": "stdout",
     "output_type": "stream",
     "text": [
      "['apple', 'banana', 'cherry', 'orange', 'melon']\n"
     ]
    }
   ],
   "source": [
    "list=[\"apple\", \"banana\", \"cherry\", \"orange\",\"melon\", \"mango\"]\n",
    "list.pop()\n",
    "print(list)"
   ]
  },
  {
   "cell_type": "code",
   "execution_count": 12,
   "id": "2c653cfe-4c12-4e61-ac38-65f4ae8091af",
   "metadata": {},
   "outputs": [
    {
     "name": "stdout",
     "output_type": "stream",
     "text": [
      "['apple', 'banana', 'cherry', 'kivi', 'orange', 'melon', 'mango']\n"
     ]
    }
   ],
   "source": [
    "list=[\"apple\", \"banana\", \"cherry\", \"orange\",\"melon\", \"mango\"]\n",
    "list.insert(3,\"kivi\")\n",
    "print(list)"
   ]
  },
  {
   "cell_type": "code",
   "execution_count": null,
   "id": "c9306241-f963-492c-a938-f366f964f9e9",
   "metadata": {},
   "outputs": [],
   "source": []
  },
  {
   "cell_type": "code",
   "execution_count": null,
   "id": "2aa5ff60-63ad-4613-af10-f542b96c4d7e",
   "metadata": {},
   "outputs": [],
   "source": []
  },
  {
   "cell_type": "code",
   "execution_count": null,
   "id": "5f56f52d-164d-4890-8c77-ffc10eb13478",
   "metadata": {},
   "outputs": [],
   "source": []
  },
  {
   "cell_type": "code",
   "execution_count": null,
   "id": "a8b42ced-f8de-4503-b55f-3f586ce24df8",
   "metadata": {},
   "outputs": [],
   "source": []
  },
  {
   "cell_type": "code",
   "execution_count": null,
   "id": "d906f965-bfeb-474c-885e-6ae60e43e36e",
   "metadata": {},
   "outputs": [],
   "source": []
  },
  {
   "cell_type": "code",
   "execution_count": null,
   "id": "f95c7718-9e0a-4d37-b117-4195059c2872",
   "metadata": {},
   "outputs": [],
   "source": []
  },
  {
   "cell_type": "code",
   "execution_count": null,
   "id": "45cc323c-4b05-4380-ba97-1c1c3e31a84d",
   "metadata": {},
   "outputs": [],
   "source": []
  },
  {
   "cell_type": "code",
   "execution_count": null,
   "id": "8afe4a2f-845b-44f2-b243-35bc94d664e9",
   "metadata": {},
   "outputs": [],
   "source": []
  },
  {
   "cell_type": "code",
   "execution_count": null,
   "id": "45e566eb-3aa6-420e-8581-6e4a1b55ee4d",
   "metadata": {},
   "outputs": [],
   "source": []
  },
  {
   "cell_type": "code",
   "execution_count": null,
   "id": "83ebf957-b3d4-4553-b979-01d1078a9d58",
   "metadata": {},
   "outputs": [],
   "source": []
  },
  {
   "cell_type": "code",
   "execution_count": null,
   "id": "8cba3fc4-de31-40ee-8792-80ac16968455",
   "metadata": {},
   "outputs": [],
   "source": []
  },
  {
   "cell_type": "code",
   "execution_count": null,
   "id": "9008be5a-10b4-441b-b715-4cbf1d2d83ed",
   "metadata": {},
   "outputs": [],
   "source": []
  },
  {
   "cell_type": "code",
   "execution_count": null,
   "id": "25dfbfd6-c2bf-4539-aa51-5f8e1d68e67f",
   "metadata": {},
   "outputs": [],
   "source": []
  },
  {
   "cell_type": "code",
   "execution_count": null,
   "id": "86d11afc-7022-4675-855f-d5cd826bd414",
   "metadata": {},
   "outputs": [],
   "source": []
  },
  {
   "cell_type": "code",
   "execution_count": null,
   "id": "6e7e83c0-3ae1-4069-aa53-fc7bc59e54b4",
   "metadata": {},
   "outputs": [],
   "source": []
  }
 ],
 "metadata": {
  "kernelspec": {
   "display_name": "Python 3 (ipykernel)",
   "language": "python",
   "name": "python3"
  },
  "language_info": {
   "codemirror_mode": {
    "name": "ipython",
    "version": 3
   },
   "file_extension": ".py",
   "mimetype": "text/x-python",
   "name": "python",
   "nbconvert_exporter": "python",
   "pygments_lexer": "ipython3",
   "version": "3.11.9"
  }
 },
 "nbformat": 4,
 "nbformat_minor": 5
}
