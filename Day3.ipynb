{
 "cells": [
  {
   "cell_type": "code",
   "execution_count": 6,
   "id": "ee6e9b6e-ca3d-4861-a7cd-bac19ff718fb",
   "metadata": {},
   "outputs": [],
   "source": [
    "#print(\"The list of keywords is : \")\n",
    "import keyword\n",
    "#print(keywords.kwlist)"
   ]
  },
  {
   "cell_type": "code",
   "execution_count": 8,
   "id": "0171a7f8-e020-4715-990d-1ca8921c074c",
   "metadata": {},
   "outputs": [
    {
     "name": "stdout",
     "output_type": "stream",
     "text": [
      "The list of keywords is : \n",
      "['False', 'None', 'True', 'and', 'as', 'assert', 'async', 'await', 'break', 'class', 'continue', 'def', 'del', 'elif', 'else', 'except', 'finally', 'for', 'from', 'global', 'if', 'import', 'in', 'is', 'lambda', 'nonlocal', 'not', 'or', 'pass', 'raise', 'return', 'try', 'while', 'with', 'yield']\n"
     ]
    },
    {
     "data": {
      "text/plain": [
       "35"
      ]
     },
     "execution_count": 8,
     "metadata": {},
     "output_type": "execute_result"
    }
   ],
   "source": [
    "# printing all keywords at once using \"kwlist()\"\n",
    "import keyword\n",
    "print(\"The list of keywords is : \")\n",
    "print(keyword.kwlist)\n",
    "len(keyword.kwlist)\n"
   ]
  },
  {
   "cell_type": "code",
   "execution_count": 2,
   "id": "df869e6b-f093-44f3-825a-5513ffb27393",
   "metadata": {},
   "outputs": [
    {
     "name": "stdin",
     "output_type": "stream",
     "text": [
      "Enter a number a: 7\n",
      "Enter a number b: 5\n"
     ]
    },
    {
     "name": "stdout",
     "output_type": "stream",
     "text": [
      "value before Exchange\n",
      "a: 7\n",
      "b: 5\n",
      "value before Exchange\n",
      "a: 5\n",
      "b: 7\n"
     ]
    }
   ],
   "source": [
    "#exchange 2 number\n",
    "a=int(input(\"Enter a number a:\"))\n",
    "b=int(input(\"Enter a number b:\"))\n",
    "print(\"value before Exchange\")\n",
    "print(\"a:\",a)\n",
    "print(\"b:\",b)\n",
    "temp=a\n",
    "a=b\n",
    "b=temp\n",
    "print(\"value before Exchange\")\n",
    "print(\"a:\",a)\n",
    "print(\"b:\",b)\n",
    "\n"
   ]
  },
  {
   "cell_type": "code",
   "execution_count": 13,
   "id": "5bf65414-395e-451d-9f02-380efdcd2da8",
   "metadata": {},
   "outputs": [
    {
     "name": "stdin",
     "output_type": "stream",
     "text": [
      "Enter a number a: 2\n",
      "Enter a number b: 5\n"
     ]
    },
    {
     "name": "stdout",
     "output_type": "stream",
     "text": [
      "value before Exchange\n",
      "a: 2\n",
      "b: 5\n",
      "Value after exchange\n",
      "a: 5\n",
      "b: 2\n"
     ]
    }
   ],
   "source": [
    "a=int(input(\"Enter a number a:\"))\n",
    "b=int(input(\"Enter a number b:\"))\n",
    "print(\"value before Exchange\")\n",
    "print(\"a:\",a)\n",
    "print(\"b:\",b)\n",
    "a,b=b,a\n",
    "print(\"Value after exchange\")\n",
    "print(\"a:\",a)\n",
    "print(\"b:\",b)\n"
   ]
  },
  {
   "cell_type": "code",
   "execution_count": 28,
   "id": "5741c394-d6bc-4694-9f87-98722b794fee",
   "metadata": {},
   "outputs": [
    {
     "name": "stdout",
     "output_type": "stream",
     "text": [
      "[6, 3, 9]\n",
      "[2, 5, 6, 3, 9]\n",
      "[7, 8, 5, 8, 8, 8, 5]\n",
      "[5]\n",
      "12\n",
      "[5, 3, 7, 5, 8]\n",
      "[8, 8, 8, 9]\n",
      "[2, 5, 6, 3, 9, 7, 8, 5, 8, 8, 8, 5]\n",
      "[2, 6]\n",
      "[8, 5, 7, 3, 5]\n"
     ]
    }
   ],
   "source": [
    "#list[Start:end(end-1)]\n",
    "#list[Start:end(end-1):step(by defoult 1)]\n",
    "list=[2,5,6,3,9,7,8,5,8,8,8,5]\n",
    "print(list[2:5])\n",
    "print(list[:5])\n",
    "print(list[5:])\n",
    "print(list[1:2])\n",
    "print(len(list))\n",
    "print(list[1:10:2])\n",
    "print(list[10:3:-2])\n",
    "print(list[::])\n",
    "print(list[:4:2])\n",
    "print(list[9::-2])\n"
   ]
  },
  {
   "cell_type": "code",
   "execution_count": 14,
   "id": "5970b6cc-b6fa-4497-adf7-7caf1b382b1f",
   "metadata": {},
   "outputs": [
    {
     "name": "stdout",
     "output_type": "stream",
     "text": [
      "[12, 54, 34, 45, 34]\n"
     ]
    }
   ],
   "source": [
    "#create a list of 5 no [12,23,34,45,67]\n",
    "#add element 34 @4th number\n",
    "#remove 23 from list\n",
    "#add 54 at 2nd postion\n",
    "#delete last number from list\n",
    "list=[12,23,34,45,67]\n",
    "list.pop(4)\n",
    "list.insert(4,34)\n",
    "list.remove(23)\n",
    "list.insert(1,54)\n",
    "\n",
    "print(list)\n"
   ]
  },
  {
   "cell_type": "code",
   "execution_count": null,
   "id": "9a295e8c-40e4-4173-877f-7fa2f5b7adc4",
   "metadata": {},
   "outputs": [],
   "source": []
  },
  {
   "cell_type": "code",
   "execution_count": 34,
   "id": "cd687b5a-2751-4e2f-b10d-0c1e294b1a7e",
   "metadata": {},
   "outputs": [
    {
     "name": "stdout",
     "output_type": "stream",
     "text": [
      "[1, 2, 11, 3, 4, 5, 6, 7, 8, 9, 10]\n",
      "[1, 2, 3, 4, 5, 6, 7, 8, 9, 10]\n",
      "[2, 4, 6, 8, 10]\n",
      "[10, 8, 6, 4, 2]\n",
      "[6, 7, 8, 9, 10]\n",
      "[1, 2, 3, 4, 5]\n",
      "[6, 7, 8, 9, 10]\n",
      "[1, 2, 3, 4, 5, 6, 7, 9, 10]\n",
      "[1, 2, 3, 4, 5, 6, 7, 9, 10]\n",
      "[3, 5, 7, 10]\n"
     ]
    }
   ],
   "source": [
    "v=[1,2,3,4,5,6,7,8,9,10]\n",
    "v.insert(2,11)\n",
    "print(v)\n",
    "v.remove(11)\n",
    "print(v)\n",
    "print(v[1:10:2])\n",
    "print(v[10:0:-2])\n",
    "print(v[5:10])\n",
    "print(v[:5])\n",
    "print(v[5:])\n",
    "v.pop(7)\n",
    "print(v)\n",
    "print(v[::])\n",
    "print(v[2:10:2])\n"
   ]
  },
  {
   "cell_type": "code",
   "execution_count": 35,
   "id": "3356a97c-825c-4975-9242-8ed27c30a30a",
   "metadata": {},
   "outputs": [
    {
     "name": "stdout",
     "output_type": "stream",
     "text": [
      "[1, 2, 3, 4, 5, 6, 7, 8, 9, 10]\n"
     ]
    }
   ],
   "source": [
    "v=[1,2,3,4,5,6,7,8,9,10]\n",
    "print(v)"
   ]
  },
  {
   "cell_type": "code",
   "execution_count": 37,
   "id": "0bd2fa59-ec46-4ea3-b12c-d88625dbdea7",
   "metadata": {},
   "outputs": [
    {
     "name": "stdout",
     "output_type": "stream",
     "text": [
      "[1, 4, 7, 10]\n"
     ]
    }
   ],
   "source": [
    "print(v[:10:3])"
   ]
  },
  {
   "cell_type": "code",
   "execution_count": 9,
   "id": "ac0847be-7d3a-470b-bd82-b05e746320e4",
   "metadata": {},
   "outputs": [
    {
     "name": "stdout",
     "output_type": "stream",
     "text": [
      "[1, 2, 3, 4, 5, 4]\n"
     ]
    }
   ],
   "source": [
    "l=[1,2,3,4,5]\n",
    "l.append(4)\n",
    "print(l)"
   ]
  },
  {
   "cell_type": "code",
   "execution_count": 3,
   "id": "a2c47685-7ea4-48c7-8b38-b1fb78da9bf8",
   "metadata": {},
   "outputs": [
    {
     "name": "stdin",
     "output_type": "stream",
     "text": [
      "Enter first number : 4\n",
      "Enter second number : 5\n"
     ]
    },
    {
     "name": "stdout",
     "output_type": "stream",
     "text": [
      "Before exchange\n",
      "a 4\n",
      "b 5\n",
      "After exchange \n",
      "a 5\n",
      "b 4\n"
     ]
    }
   ],
   "source": [
    "a= int(input(\"Enter first number :\"))\n",
    "b=int(input(\"Enter second number :\"))\n",
    "print(\"Before exchange\")\n",
    "print(\"a\",a)\n",
    "print(\"b\",b)\n",
    "print(\"After exchange \")\n",
    "print(\"a\",b)\n",
    "print(\"b\",a)"
   ]
  },
  {
   "cell_type": "code",
   "execution_count": null,
   "id": "ba56066b-cbb2-4aac-89f0-59656e0358e9",
   "metadata": {},
   "outputs": [],
   "source": []
  },
  {
   "cell_type": "code",
   "execution_count": null,
   "id": "8d201ba1-157f-45c7-9b2c-4aa2399a5729",
   "metadata": {},
   "outputs": [],
   "source": []
  },
  {
   "cell_type": "code",
   "execution_count": null,
   "id": "6220a0ae-85b2-4e39-981a-e093b1e59ea3",
   "metadata": {},
   "outputs": [],
   "source": []
  },
  {
   "cell_type": "code",
   "execution_count": null,
   "id": "14e35cde-f12d-4224-9252-41a9c87c461f",
   "metadata": {},
   "outputs": [],
   "source": []
  },
  {
   "cell_type": "code",
   "execution_count": null,
   "id": "ba5b2bac-ccda-4f67-beaf-873e6b988df4",
   "metadata": {},
   "outputs": [],
   "source": []
  },
  {
   "cell_type": "code",
   "execution_count": null,
   "id": "906153a2-2b49-44a6-8535-2fab22de39a5",
   "metadata": {},
   "outputs": [],
   "source": []
  },
  {
   "cell_type": "code",
   "execution_count": null,
   "id": "d57860c3-68db-49dc-8085-bed8a6e05c16",
   "metadata": {},
   "outputs": [],
   "source": []
  },
  {
   "cell_type": "code",
   "execution_count": null,
   "id": "a3d1976b-1f0e-4191-898d-7b72fd852905",
   "metadata": {},
   "outputs": [],
   "source": []
  },
  {
   "cell_type": "code",
   "execution_count": null,
   "id": "f872cc12-2571-436c-ba6c-3f1a7bd212c6",
   "metadata": {},
   "outputs": [],
   "source": []
  }
 ],
 "metadata": {
  "kernelspec": {
   "display_name": "Python 3 (ipykernel)",
   "language": "python",
   "name": "python3"
  },
  "language_info": {
   "codemirror_mode": {
    "name": "ipython",
    "version": 3
   },
   "file_extension": ".py",
   "mimetype": "text/x-python",
   "name": "python",
   "nbconvert_exporter": "python",
   "pygments_lexer": "ipython3",
   "version": "3.11.9"
  }
 },
 "nbformat": 4,
 "nbformat_minor": 5
}
