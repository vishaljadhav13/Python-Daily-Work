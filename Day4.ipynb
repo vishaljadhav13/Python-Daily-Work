{
 "cells": [
  {
   "cell_type": "code",
   "execution_count": null,
   "id": "df3e4c5c-2dea-4123-977f-3e61d4e4894b",
   "metadata": {},
   "outputs": [],
   "source": [
    "#Conditional statement in python or decision making or control flow statement\n",
    "#1.Only if\n",
    "#2.if-else\n",
    "#3.nested else\n",
    "#4.if elif\n",
    "#5.short hand if\n",
    "#Syntax:\n",
    "#if(Condition or exprestion):\n",
    "  #statements\n"
   ]
  },
  {
   "cell_type": "code",
   "execution_count": 3,
   "id": "366e37bb-a694-4c22-8abd-a17b8119fe97",
   "metadata": {},
   "outputs": [
    {
     "name": "stdout",
     "output_type": "stream",
     "text": [
      "Statement Outside\n"
     ]
    }
   ],
   "source": [
    "#if\n",
    "age=15\n",
    "if (age>18):\n",
    "    print(\"It is Adult\")\n",
    "print(\"Statement Outside\")"
   ]
  },
  {
   "cell_type": "code",
   "execution_count": 8,
   "id": "ece2e41f-5a0d-43b9-add3-d3c9db9435d2",
   "metadata": {},
   "outputs": [
    {
     "name": "stdout",
     "output_type": "stream",
     "text": [
      "it is child\n"
     ]
    }
   ],
   "source": [
    "#else\n",
    "age=2\n",
    "if (age>18):\n",
    "    print(\"It is Adult\")\n",
    "else:\n",
    "     print(\"it is child\")"
   ]
  },
  {
   "cell_type": "code",
   "execution_count": 10,
   "id": "c8c9d6f9-15d8-4e48-aab3-3f6d20d5ff27",
   "metadata": {},
   "outputs": [
    {
     "name": "stdin",
     "output_type": "stream",
     "text": [
      "Enter age: 2\n"
     ]
    },
    {
     "name": "stdout",
     "output_type": "stream",
     "text": [
      "It is child\n"
     ]
    }
   ],
   "source": [
    "age=int(input(\"Enter age:\"))\n",
    "if(age>18):\n",
    "    print(\"It is Adult\")\n",
    "else:\n",
    "    print(\"It is child\")\n",
    "        "
   ]
  },
  {
   "cell_type": "code",
   "execution_count": null,
   "id": "cd4c02d8-5604-48aa-823d-27b8b504795a",
   "metadata": {},
   "outputs": [],
   "source": [
    "#if elif\n",
    "#Syntax\n",
    "      #if(condition):\n",
    "        #statement\n",
    "       #elif(condition 2):\n",
    "        #statement\n",
    "        #elif(N number of condition):"
   ]
  },
  {
   "cell_type": "code",
   "execution_count": 13,
   "id": "08d5aeb6-ce79-4358-9fbb-ae07bdbfd166",
   "metadata": {},
   "outputs": [
    {
     "name": "stdin",
     "output_type": "stream",
     "text": [
      "Enter Age: 6\n"
     ]
    },
    {
     "name": "stdout",
     "output_type": "stream",
     "text": [
      "it is child\n"
     ]
    }
   ],
   "source": [
    "#elif\n",
    "age=int(input(\"Enter Age:\"))\n",
    "if(age>=60):\n",
    "    print(\"Senior citizen\")\n",
    "elif (age>=18):\n",
    "    print(\"it is adult\")\n",
    "else:\n",
    "    print(\"it is child\")"
   ]
  },
  {
   "cell_type": "code",
   "execution_count": 17,
   "id": "9fd105bb-5acd-4a12-b5e8-12ebfdfc30a0",
   "metadata": {},
   "outputs": [
    {
     "name": "stdin",
     "output_type": "stream",
     "text": [
      "Enter a number: -5\n"
     ]
    },
    {
     "name": "stdout",
     "output_type": "stream",
     "text": [
      "It is negative\n"
     ]
    }
   ],
   "source": [
    "#accept the number from user it is positive,negative or zero\n",
    "n=int(input(\"Enter a number:\"))\n",
    "if(n>0):\n",
    "    print(\"It is positive\")\n",
    "elif(n==0):\n",
    "    print(\"It is a zero\")\n",
    "else:\n",
    "    print(\"It is negative\")"
   ]
  },
  {
   "cell_type": "code",
   "execution_count": 20,
   "id": "c721650c-2906-4dec-95ad-890d8ff45902",
   "metadata": {},
   "outputs": [
    {
     "name": "stdin",
     "output_type": "stream",
     "text": [
      "Enter a Name: Vishal Parshuram Jadhav\n"
     ]
    }
   ],
   "source": [
    "n=(input(\"Enter a Name:\"))"
   ]
  },
  {
   "cell_type": "code",
   "execution_count": null,
   "id": "db96236d-4d9a-4488-81a4-97f76c9ce95c",
   "metadata": {},
   "outputs": [],
   "source": [
    "#nested if-if inside another if\n",
    "#if(condition)\n",
    "   #if(condition)\n",
    "   #statement"
   ]
  },
  {
   "cell_type": "code",
   "execution_count": 22,
   "id": "026b9c53-ac96-4e1a-9e63-234b52427638",
   "metadata": {},
   "outputs": [
    {
     "name": "stdin",
     "output_type": "stream",
     "text": [
      "Enter a number 70\n"
     ]
    },
    {
     "name": "stdout",
     "output_type": "stream",
     "text": [
      "First Class\n"
     ]
    }
   ],
   "source": [
    "#neasted if\n",
    "marks=int(input(\"Enter a number\"))\n",
    "if (marks>=35):\n",
    "    if (marks>=60):\n",
    "        print(\"First Class\")\n",
    "    else:\n",
    "        print(\"Pass Class\")\n",
    "else:\n",
    "    print(\"Fail\")"
   ]
  },
  {
   "cell_type": "code",
   "execution_count": 1,
   "id": "0d5be8c0-12de-4bb1-8235-46be9d31821e",
   "metadata": {},
   "outputs": [
    {
     "name": "stdin",
     "output_type": "stream",
     "text": [
      "Enter your username:  Vishal_jadhav9696\n",
      "Enter your password:  Vishal@9696\n"
     ]
    },
    {
     "name": "stdout",
     "output_type": "stream",
     "text": [
      "Login successful! Welcome, Vishal JAdhav\n"
     ]
    }
   ],
   "source": [
    "# Password and Username Checking\n",
    "username = input(\"Enter your username: \")\n",
    "password = input(\"Enter your password: \")\n",
    "\n",
    "if username == \"Vishal_9696\":\n",
    "    if password == \"454154\":\n",
    "        print(\"Login successful! Welcome, Vishal Jadhav\")\n",
    "    elif password == \"12345\":\n",
    "        print(\"Weak password. Please reset your password.\")\n",
    "    else:\n",
    "        print(\"Incorrect password. Please try again.\")\n",
    "else:\n",
    "    if username == \"Vishal_jadhav9696\":\n",
    "        if password == \"Vishal@9696\":\n",
    "            print(\"Login successful! Welcome, Vishal JAdhav\")\n",
    "        else:\n",
    "            print(\"Incorrect password. Please try again.\")\n",
    "    else:\n",
    "        print(\"Unknown user. Please try again.\")"
   ]
  },
  {
   "cell_type": "code",
   "execution_count": 1,
   "id": "57ef7d8d-1ff7-4224-9e71-8b2dcf8acccf",
   "metadata": {},
   "outputs": [
    {
     "name": "stdin",
     "output_type": "stream",
     "text": [
      "Enter number for a: 52\n",
      "Enter number for b: 26\n",
      "Enter number for c: 3\n"
     ]
    },
    {
     "name": "stdout",
     "output_type": "stream",
     "text": [
      "a is grether than b and c\n"
     ]
    }
   ],
   "source": [
    "a=int(input(\"Enter number for a:\"))\n",
    "b=int(input(\"Enter number for b:\"))\n",
    "c=int(input(\"Enter number for c:\"))\n",
    "if a>b and a>c:\n",
    "    print(\"a is grether than b and c\")\n",
    "elif b>a and b>c:\n",
    "    print(\"b is grether than a and c\")\n",
    "elif c>a and c>b:\n",
    "    print(\"c is grether than a and b\")\n",
    "else:\n",
    "    print(\"a,b,c are same\")"
   ]
  },
  {
   "cell_type": "code",
   "execution_count": 33,
   "id": "99993ceb-5f3a-440d-9a98-f76ad503cb6a",
   "metadata": {},
   "outputs": [
    {
     "name": "stdin",
     "output_type": "stream",
     "text": [
      "Enter a city: Pune\n"
     ]
    },
    {
     "name": "stdout",
     "output_type": "stream",
     "text": [
      "U R from Big city\n"
     ]
    }
   ],
   "source": [
    "city=input(\"Enter a city:\")\n",
    "if city==\"Mumbai\" or city==\"Pune\":\n",
    "    print(\"U R from Big city\")\n",
    "else:\n",
    "    print(\"U R from small city\")\n",
    "\n"
   ]
  },
  {
   "cell_type": "code",
   "execution_count": 2,
   "id": "8f79b42b-5270-43ba-b2b4-1c90a59b4da0",
   "metadata": {},
   "outputs": [
    {
     "name": "stdin",
     "output_type": "stream",
     "text": [
      "Enter a name : Vishal\n"
     ]
    }
   ],
   "source": [
    "#Accept a charcter from a user and check wether it is vowel or not\n",
    "n=input(\"Enter a name :\")\n",
    "if ( n==\"a\" or n==\"e\" or n==\"i\" or n==\"o\" or n==\"u\"):\n",
    "    print(\"It is vowel\")\n"
   ]
  },
  {
   "cell_type": "code",
   "execution_count": 34,
   "id": "522480d2-534d-44f7-bf36-72166448b1b9",
   "metadata": {},
   "outputs": [
    {
     "name": "stdin",
     "output_type": "stream",
     "text": [
      "Enter a name : b\n"
     ]
    },
    {
     "name": "stdout",
     "output_type": "stream",
     "text": [
      "It is not Vowel\n"
     ]
    }
   ],
   "source": [
    "n=input(\"Enter a latter :\")\n",
    "if n in (\"a\",\"e\",\"i\",\"o\",\"u\",\"A\",\"E\",\"I\",\"O\",\"U\"):\n",
    "    print(\"It is Vowel\")\n",
    "else:\n",
    "    print(\"It is not Vowel\")"
   ]
  },
  {
   "cell_type": "code",
   "execution_count": 8,
   "id": "e051d400-b2c2-4d31-8d99-1c537715b3c1",
   "metadata": {},
   "outputs": [
    {
     "name": "stdin",
     "output_type": "stream",
     "text": [
      "Enter a number: 7\n"
     ]
    },
    {
     "name": "stdout",
     "output_type": "stream",
     "text": [
      "It is odd\n"
     ]
    }
   ],
   "source": [
    "#Accept number from user and check even or odd\n",
    "n=int(input(\"Enter a number:\"))\n",
    "if (n%2==0):\n",
    "    print(\"It is even\")\n",
    "else:\n",
    "    print(\"It is odd\")"
   ]
  },
  {
   "cell_type": "code",
   "execution_count": 22,
   "id": "f351f621-2f6b-4657-8e5f-6b0ca0a88aa4",
   "metadata": {},
   "outputs": [
    {
     "name": "stdin",
     "output_type": "stream",
     "text": [
      "Enter your amount: 50000\n",
      "Enter your pin: 454154\n",
      "Enter your Mpin: 1393\n"
     ]
    },
    {
     "name": "stdout",
     "output_type": "stream",
     "text": [
      "Transition is successfulll\n"
     ]
    }
   ],
   "source": [
    "\n",
    "amount=int(input(\"Enter your amount:\"))\n",
    "pin=int(input(\"Enter your pin:\"))\n",
    "mpin=int(input(\"Enter your Mpin:\"))\n",
    "if(pin==454154 and mpin==1393):\n",
    "    print(\"Transition is successfulll\")\n",
    "else:\n",
    "     print(\"Transition is Fail\")    \n"
   ]
  },
  {
   "cell_type": "code",
   "execution_count": 28,
   "id": "888987f9-5f00-4323-9e59-040829fdd4a2",
   "metadata": {},
   "outputs": [
    {
     "name": "stdin",
     "output_type": "stream",
     "text": [
      "Enter your name Vishal Jadhav\n",
      "Enter email Id jadhavvishalp19@gmail.com\n",
      "Enter Your password: 534333\n"
     ]
    },
    {
     "name": "stdout",
     "output_type": "stream",
     "text": [
      "Password must be at least 8 characters long\n"
     ]
    }
   ],
   "source": [
    "name=input(\"Enter your name\")\n",
    "email=input(\"Enter email Id\")\n",
    "password=(input(\"Enter Your password:\"))\n",
    "if(name==\"\"):\n",
    "    print(\"Invalid Name\")\n",
    "else:\n",
    "    if \"@\" not in email:\n",
    "        print(\"Invalid email\")\n",
    "    else:\n",
    "        if len(password) < 8:\n",
    "            print(\"Password must be at least 8 characters long\")\n",
    "        else:\n",
    "            print(\"Registation Successfull\")\n",
    "    "
   ]
  },
  {
   "cell_type": "code",
   "execution_count": 3,
   "id": "b0665e27-230b-4da4-9fa5-cb00579ba52d",
   "metadata": {},
   "outputs": [
    {
     "name": "stdout",
     "output_type": "stream",
     "text": [
      "Adult\n"
     ]
    }
   ],
   "source": [
    "#short hand if\n",
    "age=25\n",
    "if(age>=18): print(\"Adult\")"
   ]
  },
  {
   "cell_type": "code",
   "execution_count": 5,
   "id": "9c7586fc-100e-4312-9783-48ce550851bb",
   "metadata": {},
   "outputs": [
    {
     "name": "stdout",
     "output_type": "stream",
     "text": [
      "child\n"
     ]
    }
   ],
   "source": [
    "age=2\n",
    "print(\"Adult\") if age>=18 else print(\"child\")"
   ]
  },
  {
   "cell_type": "code",
   "execution_count": null,
   "id": "c626d394-39d1-4aa9-a03a-4aae07843f95",
   "metadata": {},
   "outputs": [],
   "source": []
  },
  {
   "cell_type": "code",
   "execution_count": null,
   "id": "873e7f98-efc4-4673-a4ad-77fea6bf80a0",
   "metadata": {},
   "outputs": [],
   "source": []
  },
  {
   "cell_type": "code",
   "execution_count": 6,
   "id": "5868177d-fd63-439c-9d6d-4f1f07651e9d",
   "metadata": {},
   "outputs": [],
   "source": [
    "#blanck if \n",
    "#use pass\n",
    "age=55\n",
    "if age>=25:\n",
    "    pass"
   ]
  },
  {
   "cell_type": "code",
   "execution_count": 2,
   "id": "7392ab41-02d0-4eb0-a0cb-4c275b9a1f70",
   "metadata": {},
   "outputs": [
    {
     "name": "stdin",
     "output_type": "stream",
     "text": [
      "Enter a user name : Vishal@9696\n",
      "Enter password : 454154\n"
     ]
    }
   ],
   "source": [
    "user =input(\"Enter a user name :\")\n",
    "password=int(input(\"Enter password :\"))\n",
    "if user==\"Vishal@9696\":\n",
    "    if password==\"454154\":\n",
    "        print(\"Login complete\")\n",
    "else:\n",
    "    print(\"Login error\")\n",
    "   "
   ]
  },
  {
   "cell_type": "code",
   "execution_count": 8,
   "id": "d180cf36-05a0-4a77-90ba-6e1a79182d2e",
   "metadata": {},
   "outputs": [
    {
     "ename": "SyntaxError",
     "evalue": "invalid syntax (1216065600.py, line 4)",
     "output_type": "error",
     "traceback": [
      "\u001b[1;36m  Cell \u001b[1;32mIn[8], line 4\u001b[1;36m\u001b[0m\n\u001b[1;33m    elif password==\"454154\":\u001b[0m\n\u001b[1;37m    ^\u001b[0m\n\u001b[1;31mSyntaxError\u001b[0m\u001b[1;31m:\u001b[0m invalid syntax\n"
     ]
    }
   ],
   "source": [
    "user=int(input(\"Enter a user name :\"))\n",
    "password=int(input(\"Enter password :\"))\n",
    "if user==\"12345\":\n",
    "    if password==\"454154\":\n",
    "        print(\"Login complete\")\n",
    "else:\n",
    "    print(\"Login fail\")\n"
   ]
  },
  {
   "cell_type": "code",
   "execution_count": null,
   "id": "5fd38771-aba9-424d-8bd5-887d4e745156",
   "metadata": {},
   "outputs": [],
   "source": []
  },
  {
   "cell_type": "code",
   "execution_count": null,
   "id": "f5f8e814-9da0-4686-9863-2db6097448e3",
   "metadata": {},
   "outputs": [],
   "source": []
  },
  {
   "cell_type": "code",
   "execution_count": null,
   "id": "cc3ec22d-acbc-48ac-82b6-c94542816999",
   "metadata": {},
   "outputs": [],
   "source": []
  },
  {
   "cell_type": "code",
   "execution_count": null,
   "id": "56f4c2c9-66d3-4176-a99a-97d600eca294",
   "metadata": {},
   "outputs": [],
   "source": []
  },
  {
   "cell_type": "code",
   "execution_count": null,
   "id": "56610317-9e3f-4303-bf96-0562552b7e51",
   "metadata": {},
   "outputs": [],
   "source": []
  }
 ],
 "metadata": {
  "kernelspec": {
   "display_name": "Python 3 (ipykernel)",
   "language": "python",
   "name": "python3"
  },
  "language_info": {
   "codemirror_mode": {
    "name": "ipython",
    "version": 3
   },
   "file_extension": ".py",
   "mimetype": "text/x-python",
   "name": "python",
   "nbconvert_exporter": "python",
   "pygments_lexer": "ipython3",
   "version": "3.11.9"
  }
 },
 "nbformat": 4,
 "nbformat_minor": 5
}
