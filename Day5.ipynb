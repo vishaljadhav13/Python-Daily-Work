{
 "cells": [
  {
   "cell_type": "code",
   "execution_count": null,
   "id": "b00a6250-bfb7-4f5b-88f3-f50ac0821725",
   "metadata": {},
   "outputs": [],
   "source": [
    "#looping \n",
    "#for loop\n",
    "#it is use for sequential traversal\n",
    "#it is use to itrate over iterable\n",
    "#seq-list,tuple,string,set\n",
    "#Syntax\n",
    "\n",
    "#for item in sequence:\n",
    "       #statements(repeated task)"
   ]
  },
  {
   "cell_type": "code",
   "execution_count": 1,
   "id": "3e283aab-15c1-44bc-ac7e-807746f59d42",
   "metadata": {},
   "outputs": [
    {
     "name": "stdout",
     "output_type": "stream",
     "text": [
      "2\n",
      "8\n",
      "6\n",
      "5\n",
      "9\n",
      "8\n",
      "5\n",
      "8\n",
      "6\n",
      "6\n",
      "5\n"
     ]
    }
   ],
   "source": [
    "list=[2,8,6,5,9,8,5,8,6,6,5]\n",
    "for data in list:\n",
    "    print(data)"
   ]
  },
  {
   "cell_type": "code",
   "execution_count": 5,
   "id": "9797bc82-b4bf-4f17-9a12-d518ed93068c",
   "metadata": {},
   "outputs": [
    {
     "name": "stdout",
     "output_type": "stream",
     "text": [
      "V\n",
      "i\n",
      "s\n",
      "h\n",
      "a\n",
      "l\n",
      " \n",
      "j\n",
      "a\n",
      "d\n",
      "h\n",
      "a\n",
      "v\n"
     ]
    }
   ],
   "source": [
    "name=(\"Vishal jadhav\")\n",
    "for i in name:\n",
    "    print(i)"
   ]
  },
  {
   "cell_type": "code",
   "execution_count": 6,
   "id": "4b55a7bd-3d23-447c-97de-08f7eda27f4e",
   "metadata": {},
   "outputs": [
    {
     "name": "stdout",
     "output_type": "stream",
     "text": [
      "25\n",
      "26\n",
      "35\n",
      "85\n",
      "68\n",
      "522\n",
      "52\n",
      "85\n"
     ]
    }
   ],
   "source": [
    "t=(25,26,35,85,68,522,52,85)\n",
    "for i in t:\n",
    "    print(i)"
   ]
  },
  {
   "cell_type": "code",
   "execution_count": 7,
   "id": "08effc3b-05e1-4282-adb7-8e86b6027ec5",
   "metadata": {},
   "outputs": [
    {
     "name": "stdout",
     "output_type": "stream",
     "text": [
      "0\n",
      "1\n",
      "2\n",
      "3\n",
      "4\n",
      "5\n",
      "6\n",
      "7\n",
      "8\n",
      "9\n"
     ]
    }
   ],
   "source": [
    "i=0\n",
    "for i in range (10):\n",
    "    print(i)"
   ]
  },
  {
   "cell_type": "code",
   "execution_count": 8,
   "id": "3d7fcfd8-ea9b-4a3c-b2c4-09735cc0a923",
   "metadata": {},
   "outputs": [
    {
     "name": "stdout",
     "output_type": "stream",
     "text": [
      "(0, 25)\n",
      "(1, 26)\n",
      "(2, 35)\n",
      "(3, 85)\n",
      "(4, 68)\n",
      "(5, 522)\n",
      "(6, 52)\n",
      "(7, 85)\n"
     ]
    }
   ],
   "source": [
    "# for loop using enumerate\n",
    "#to use access or keep track of index of perticular sequence \n",
    "t=(25,26,35,85,68,522,52,85)\n",
    "for data in enumerate(t):\n",
    "    print(data)\n"
   ]
  },
  {
   "cell_type": "code",
   "execution_count": 11,
   "id": "a167c2bc-e428-45eb-a140-3daa1809508e",
   "metadata": {},
   "outputs": [
    {
     "name": "stdout",
     "output_type": "stream",
     "text": [
      "1 25\n",
      "2 26\n",
      "3 35\n",
      "4 85\n",
      "5 68\n",
      "6 522\n",
      "7 52\n",
      "8 85\n"
     ]
    }
   ],
   "source": [
    "t=(25,26,35,85,68,522,52,85)\n",
    "for index,data in enumerate(t,start=1):\n",
    "    print(index,data)\n"
   ]
  },
  {
   "cell_type": "code",
   "execution_count": 15,
   "id": "4dabe3a1-c8d3-4370-94ca-100841b4eceb",
   "metadata": {},
   "outputs": [
    {
     "name": "stdout",
     "output_type": "stream",
     "text": [
      "0\n",
      "1\n",
      "2\n",
      "3\n",
      "4\n",
      "5\n",
      "6\n",
      "7\n",
      "8\n",
      "9\n"
     ]
    }
   ],
   "source": [
    "#print 1 to 10 mnumber no's using rang \n",
    "#range(start,end,step)\n",
    "#default range start with zero\n",
    "i=0\n",
    "for i in range (0,11,1):\n",
    "    print(i)"
   ]
  },
  {
   "cell_type": "code",
   "execution_count": 17,
   "id": "10a3aafe-3107-4075-97f2-72fd53a1e7fb",
   "metadata": {},
   "outputs": [
    {
     "name": "stdout",
     "output_type": "stream",
     "text": [
      "0\n",
      "2\n",
      "4\n",
      "6\n",
      "8\n",
      "10\n",
      "12\n",
      "14\n",
      "16\n",
      "18\n",
      "20\n"
     ]
    }
   ],
   "source": [
    "for i in range(0,21,2):\n",
    "    print(i)"
   ]
  },
  {
   "cell_type": "code",
   "execution_count": 18,
   "id": "f54d4cab-d35d-4f3b-90ea-d0198822954b",
   "metadata": {},
   "outputs": [
    {
     "name": "stdout",
     "output_type": "stream",
     "text": [
      "10\n",
      "9\n",
      "8\n",
      "7\n",
      "6\n",
      "5\n",
      "4\n",
      "3\n",
      "2\n",
      "1\n"
     ]
    }
   ],
   "source": [
    "#print 10 to 0\n",
    "for i in range(10,0,-1):\n",
    "    print(i)"
   ]
  },
  {
   "cell_type": "code",
   "execution_count": 23,
   "id": "13c4f710-9fed-49fc-8482-30f364702472",
   "metadata": {},
   "outputs": [
    {
     "name": "stdin",
     "output_type": "stream",
     "text": [
      "Enter a number: 5\n"
     ]
    },
    {
     "name": "stdout",
     "output_type": "stream",
     "text": [
      "5 * 1 = 5\n",
      "5 * 2 = 10\n",
      "5 * 3 = 15\n",
      "5 * 4 = 20\n",
      "5 * 5 = 25\n",
      "5 * 6 = 30\n",
      "5 * 7 = 35\n",
      "5 * 8 = 40\n",
      "5 * 9 = 45\n",
      "5 * 10 = 50\n"
     ]
    }
   ],
   "source": [
    "#accept the number from the user and print its table\n",
    "n=int(input(\"Enter a number:\"))\n",
    "for i in range(1,11,1):\n",
    "    print(n,\"*\",i,\"=\",i*n)\n",
    "    "
   ]
  },
  {
   "cell_type": "code",
   "execution_count": null,
   "id": "5ac6f233-755b-4901-8a9d-4e79e1862a34",
   "metadata": {},
   "outputs": [],
   "source": [
    "#print odd number between 30to 40"
   ]
  },
  {
   "cell_type": "code",
   "execution_count": 28,
   "id": "282c898c-d8c4-405b-8596-33808759c7fe",
   "metadata": {},
   "outputs": [
    {
     "name": "stdout",
     "output_type": "stream",
     "text": [
      "1\n",
      "3\n",
      "5\n",
      "7\n",
      "9\n",
      "11\n",
      "13\n",
      "15\n",
      "17\n",
      "19\n"
     ]
    }
   ],
   "source": [
    "for i in range(0,21):\n",
    "    if i%2!=0:\n",
    "        print(i)\n",
    "     "
   ]
  },
  {
   "cell_type": "code",
   "execution_count": 29,
   "id": "984dd74b-47c3-4980-8dd5-5dbe983d23e9",
   "metadata": {},
   "outputs": [
    {
     "name": "stdout",
     "output_type": "stream",
     "text": [
      "0\n",
      "2\n",
      "4\n",
      "6\n",
      "8\n",
      "10\n",
      "12\n",
      "14\n",
      "16\n",
      "18\n",
      "20\n"
     ]
    }
   ],
   "source": [
    "for i in range(0,21):\n",
    "    if i%2==0:\n",
    "        print(i)"
   ]
  },
  {
   "cell_type": "code",
   "execution_count": 3,
   "id": "ffc268b9-9c1e-4937-bdd1-e8da11e2b767",
   "metadata": {},
   "outputs": [
    {
     "name": "stdin",
     "output_type": "stream",
     "text": [
      "Enter a number : 4\n"
     ]
    },
    {
     "name": "stdout",
     "output_type": "stream",
     "text": [
      "24\n"
     ]
    }
   ],
   "source": [
    "#Accept a number from user and print its factorial\n",
    "n=int(input(\"Enter a number :\"))\n",
    "fact=1\n",
    "for i in range (1,n+1):\n",
    "    fact=fact*i\n",
    "print(fact)"
   ]
  },
  {
   "cell_type": "code",
   "execution_count": null,
   "id": "a14046e7-470f-45cb-b9a4-24da38b0aa99",
   "metadata": {},
   "outputs": [],
   "source": []
  },
  {
   "cell_type": "code",
   "execution_count": null,
   "id": "55aa5fc0-dcb1-4732-a9df-0d4032391977",
   "metadata": {},
   "outputs": [],
   "source": []
  },
  {
   "cell_type": "code",
   "execution_count": null,
   "id": "5fbe0bba-711e-480a-8744-52abc3ebb515",
   "metadata": {},
   "outputs": [],
   "source": []
  },
  {
   "cell_type": "code",
   "execution_count": null,
   "id": "42b97205-8a30-40fa-a47e-cdd0b34c0e8c",
   "metadata": {},
   "outputs": [],
   "source": []
  },
  {
   "cell_type": "code",
   "execution_count": null,
   "id": "47e6ccf6-327a-490e-98d6-191f90a9ac41",
   "metadata": {},
   "outputs": [],
   "source": []
  },
  {
   "cell_type": "code",
   "execution_count": null,
   "id": "dd3e9d13-78c9-4bc2-9549-436cbbd0ba7a",
   "metadata": {},
   "outputs": [],
   "source": []
  },
  {
   "cell_type": "code",
   "execution_count": null,
   "id": "0574b38d-63d9-4520-9706-3774f74b05a9",
   "metadata": {},
   "outputs": [],
   "source": []
  }
 ],
 "metadata": {
  "kernelspec": {
   "display_name": "Python 3 (ipykernel)",
   "language": "python",
   "name": "python3"
  },
  "language_info": {
   "codemirror_mode": {
    "name": "ipython",
    "version": 3
   },
   "file_extension": ".py",
   "mimetype": "text/x-python",
   "name": "python",
   "nbconvert_exporter": "python",
   "pygments_lexer": "ipython3",
   "version": "3.11.9"
  }
 },
 "nbformat": 4,
 "nbformat_minor": 5
}
