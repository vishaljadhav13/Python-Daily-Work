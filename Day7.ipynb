{
 "cells": [
  {
   "cell_type": "code",
   "execution_count": 3,
   "id": "d34c0e83-7a45-423e-bd9d-8e767a9c8d28",
   "metadata": {},
   "outputs": [
    {
     "name": "stdout",
     "output_type": "stream",
     "text": [
      "1 2 3 4 5 6 \n",
      "1 2 3 4 5 6 \n",
      "1 2 3 4 5 6 \n",
      "1 2 3 4 5 6 \n"
     ]
    }
   ],
   "source": [
    "for i in range(1,5):\n",
    "    for j in range(1,7):\n",
    "        print(j,end=\" \")\n",
    "    print()"
   ]
  },
  {
   "cell_type": "code",
   "execution_count": 20,
   "id": "92433c0f-e8be-405a-8001-e7ff7f567ed3",
   "metadata": {},
   "outputs": [
    {
     "name": "stdin",
     "output_type": "stream",
     "text": [
      "Enter a number 1\n"
     ]
    }
   ],
   "source": [
    "#Prime numbertr or not\n",
    "n=int(input(\"Enter a number\"))\n",
    "if n>1:\n",
    "    for i in range(2,n):\n",
    "        if(n%i)==0 or n==1:\n",
    "            print(n,\"Is not a prime nuber\")\n",
    "            break\n",
    "    else:\n",
    "         print(n,\"It is not prime number\")\n"
   ]
  },
  {
   "cell_type": "code",
   "execution_count": 24,
   "id": "31d72bc8-4cba-4fca-b1d7-69c144436903",
   "metadata": {},
   "outputs": [
    {
     "name": "stdin",
     "output_type": "stream",
     "text": [
      "Enter a number: 95\n"
     ]
    },
    {
     "name": "stdout",
     "output_type": "stream",
     "text": [
      "Sum of number is: 14\n"
     ]
    }
   ],
   "source": [
    "#sum of number\n",
    "num=int(input(\"Enter a number:\"))\n",
    "sum=0\n",
    "while num>0:\n",
    "    rem=num%10\n",
    "    sum=sum+rem\n",
    "    num=num//10\n",
    "print(\"Sum of number is:\",sum)"
   ]
  },
  {
   "cell_type": "code",
   "execution_count": 4,
   "id": "3872d358-382a-47c5-94c9-54671b38bd4f",
   "metadata": {},
   "outputs": [
    {
     "name": "stdout",
     "output_type": "stream",
     "text": [
      "      * \n",
      "     * * \n",
      "    * * * \n",
      "   * * * * \n",
      "  * * * * * \n",
      " * * * * * * \n",
      "* * * * * * * \n"
     ]
    }
   ],
   "source": [
    "#print right angle tringle\n",
    "for i in range(7,0,-1):\n",
    "    for j in range(1,i):\n",
    "        print(\" \",end=\"\")\n",
    "    for k in range(i-1,7):\n",
    "        print(\"*\",end=\" \")\n",
    "    print()"
   ]
  },
  {
   "cell_type": "code",
   "execution_count": 38,
   "id": "a90a0bcf-c73c-46fd-b85d-e00f1c029575",
   "metadata": {},
   "outputs": [
    {
     "name": "stdout",
     "output_type": "stream",
     "text": [
      "      * * * * * * \n",
      "     * * * * * * \n",
      "    * * * * * * \n",
      "   * * * * * * \n",
      "  * * * * * * \n",
      " * * * * * * \n",
      "* * * * * * \n"
     ]
    }
   ],
   "source": [
    "#print opposite of up code\n",
    "for i in range(7,0,-1):\n",
    "    for j in range(1,i):\n",
    "        print(\" \",end=\"\")\n",
    "    for k in range(i-1,7):\n",
    "        print(\"*\",end=\" \")\n",
    "    print()"
   ]
  },
  {
   "cell_type": "code",
   "execution_count": 43,
   "id": "e37734d6-3af3-4ff7-ac6c-87a1dd505ffa",
   "metadata": {},
   "outputs": [
    {
     "name": "stdin",
     "output_type": "stream",
     "text": [
      "Enter how many number: 4\n",
      "Enter a number: 45\n",
      "Enter a number: 35\n",
      "Enter a number: 65\n",
      "Enter a number: 56\n"
     ]
    },
    {
     "name": "stdout",
     "output_type": "stream",
     "text": [
      "[45, 35, 65, 56]\n"
     ]
    }
   ],
   "source": [
    "#print list from user\n",
    "x=[]\n",
    "n=int(input(\"Enter how many number:\"))\n",
    "for i in range(n):\n",
    "    a=int(input(\"Enter a number:\"))\n",
    "    x.append(a)\n",
    "print(x)"
   ]
  },
  {
   "cell_type": "code",
   "execution_count": 46,
   "id": "f7911ccc-0ef6-4057-b233-37f953d135c8",
   "metadata": {},
   "outputs": [
    {
     "name": "stdout",
     "output_type": "stream",
     "text": [
      "[65, 95, 85, 745, 52, 54]\n"
     ]
    }
   ],
   "source": [
    "#print > 50\n",
    "list=[25,36,65,95,85,745,52,2,54,26]\n",
    "list1=[]\n",
    "for i in list:\n",
    "    if i>50:\n",
    "       list1.append(i)\n",
    "print(list1)\n",
    "         "
   ]
  },
  {
   "cell_type": "code",
   "execution_count": 53,
   "id": "152dc904-9c78-4003-8653-a0f87a6e3ef5",
   "metadata": {},
   "outputs": [
    {
     "data": {
      "text/plain": [
       "[65, 95, 85, 745, 52, 54]"
      ]
     },
     "execution_count": 53,
     "metadata": {},
     "output_type": "execute_result"
    }
   ],
   "source": [
    "list=[25,36,65,95,85,745,52,2,54,26]\n",
    "[i for i in list if i>50] #list compretion"
   ]
  },
  {
   "cell_type": "code",
   "execution_count": 49,
   "id": "4b88ca98-539a-47d7-a5f5-55e36a778a2c",
   "metadata": {},
   "outputs": [
    {
     "data": {
      "text/plain": [
       "[50, 72, 130, 190, 170, 1490, 104, 4, 108, 52]"
      ]
     },
     "execution_count": 49,
     "metadata": {},
     "output_type": "execute_result"
    }
   ],
   "source": [
    "list=[25,36,65,95,85,745,52,2,54,26]\n",
    "[i*2 for i in list ]"
   ]
  },
  {
   "cell_type": "code",
   "execution_count": 51,
   "id": "c769ca2c-9107-4e0c-9a80-2b5ddc5f336b",
   "metadata": {},
   "outputs": [
    {
     "data": {
      "text/plain": [
       "[36, 52, 2, 54, 26]"
      ]
     },
     "execution_count": 51,
     "metadata": {},
     "output_type": "execute_result"
    }
   ],
   "source": [
    "list=[25,36,65,95,85,745,52,2,54,26]\n",
    "[i for i in list if i%2!=0 ] #odd number"
   ]
  },
  {
   "cell_type": "code",
   "execution_count": 52,
   "id": "6282655e-1a7f-42f8-97ae-d5f042716b00",
   "metadata": {},
   "outputs": [
    {
     "data": {
      "text/plain": [
       "[72, 104, 4, 108, 52]"
      ]
     },
     "execution_count": 52,
     "metadata": {},
     "output_type": "execute_result"
    }
   ],
   "source": [
    "list=[25,36,65,95,85,745,52,2,54,26]\n",
    "[i*2 for i in list if i%2==0] #Even number"
   ]
  },
  {
   "cell_type": "code",
   "execution_count": 58,
   "id": "cfb3e862-cfec-4bb3-bc17-bfea8ecd2fee",
   "metadata": {
    "scrolled": true
   },
   "outputs": [
    {
     "data": {
      "text/plain": [
       "['25 Odd',\n",
       " '36 Even',\n",
       " '65 Odd',\n",
       " '95 Odd',\n",
       " '85 Odd',\n",
       " '745 Odd',\n",
       " '52 Even',\n",
       " '2 Even',\n",
       " '54 Even',\n",
       " '26 Even']"
      ]
     },
     "execution_count": 58,
     "metadata": {},
     "output_type": "execute_result"
    }
   ],
   "source": [
    "list=[25,36,65,95,85,745,52,2,54,26] #comprsion\n",
    "[f'{i} Even' if i%2==0 else f'{i} Odd' for i in list]"
   ]
  },
  {
   "cell_type": "code",
   "execution_count": 57,
   "id": "6480388c-2d03-4534-a2c4-4898c9a09c18",
   "metadata": {},
   "outputs": [
    {
     "name": "stdin",
     "output_type": "stream",
     "text": [
      "Enter a number: 5\n"
     ]
    },
    {
     "name": "stdout",
     "output_type": "stream",
     "text": [
      "5 number is not present in list\n"
     ]
    }
   ],
   "source": [
    "#Accept number from user and check whether present in list or not\n",
    "list=[25,36,65,95,85,745,52,2,54,26]\n",
    "flag=0\n",
    "n=int(input(\"Enter a number:\"))\n",
    "for i in range(len(list)):\n",
    "    if list[i]==n:\n",
    "        flag=1\n",
    "        break;\n",
    "if flag==1:\n",
    "    print(n,\"number is present in list\")\n",
    "else:\n",
    "    print(n,\"number is not present in list\")"
   ]
  },
  {
   "cell_type": "code",
   "execution_count": null,
   "id": "aa128956-4f67-416a-b550-bf7ae59fc788",
   "metadata": {},
   "outputs": [],
   "source": [
    "#Accept number from user and check whether it is armstrong or not"
   ]
  },
  {
   "cell_type": "code",
   "execution_count": null,
   "id": "1045c988-f3b1-4ab7-a811-adab82af6240",
   "metadata": {},
   "outputs": [],
   "source": []
  },
  {
   "cell_type": "code",
   "execution_count": null,
   "id": "49417485-a574-45b6-ac54-474273c4215d",
   "metadata": {},
   "outputs": [],
   "source": []
  },
  {
   "cell_type": "code",
   "execution_count": null,
   "id": "39e8c597-6602-4960-8fc9-eefcd8fdb4d0",
   "metadata": {},
   "outputs": [],
   "source": []
  }
 ],
 "metadata": {
  "kernelspec": {
   "display_name": "Python 3 (ipykernel)",
   "language": "python",
   "name": "python3"
  },
  "language_info": {
   "codemirror_mode": {
    "name": "ipython",
    "version": 3
   },
   "file_extension": ".py",
   "mimetype": "text/x-python",
   "name": "python",
   "nbconvert_exporter": "python",
   "pygments_lexer": "ipython3",
   "version": "3.11.9"
  }
 },
 "nbformat": 4,
 "nbformat_minor": 5
}
