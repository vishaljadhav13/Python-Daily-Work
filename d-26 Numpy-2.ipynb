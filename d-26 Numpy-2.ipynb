{
 "cells": [
  {
   "cell_type": "code",
   "execution_count": null,
   "id": "cb02517f-dad3-4c9d-b3bd-dc5a658e6d7e",
   "metadata": {},
   "outputs": [],
   "source": []
  },
  {
   "cell_type": "code",
   "execution_count": 2,
   "id": "cbc51266-ae3c-46c7-a450-152fec876939",
   "metadata": {},
   "outputs": [],
   "source": [
    "import numpy as np"
   ]
  },
  {
   "cell_type": "code",
   "execution_count": 10,
   "id": "f09a924d-5083-4130-a1a9-f321039260fc",
   "metadata": {
    "scrolled": true
   },
   "outputs": [
    {
     "name": "stdout",
     "output_type": "stream",
     "text": [
      "Size of array : 8\n",
      "Manual determination of size of array : 8\n",
      "Number of row and column: 2 4\n"
     ]
    }
   ],
   "source": [
    "a=np.array([[5,10,15,6],[20,25,30,0]])\n",
    "print('Size of array :',a.size)\n",
    "print('Manual determination of size of array :',a.shape[0]*a.shape[1])\n",
    "print(\"Number of row and column:\",a.shape[0],a.shape[1])"
   ]
  },
  {
   "cell_type": "code",
   "execution_count": 13,
   "id": "6c462f46-0ba4-4e59-9b53-c5c384eb0bec",
   "metadata": {},
   "outputs": [
    {
     "name": "stdout",
     "output_type": "stream",
     "text": [
      "(4,)\n"
     ]
    },
    {
     "data": {
      "text/plain": [
       "numpy.ndarray"
      ]
     },
     "execution_count": 13,
     "metadata": {},
     "output_type": "execute_result"
    }
   ],
   "source": [
    "a=np.array([5,10,15,25])\n",
    "k=a.shape\n",
    "print(k)\n",
    "type(a)"
   ]
  },
  {
   "cell_type": "code",
   "execution_count": 18,
   "id": "8feed476-bd2d-44c4-af0c-79f3e8fc3224",
   "metadata": {},
   "outputs": [
    {
     "name": "stdout",
     "output_type": "stream",
     "text": [
      "[ 3  6  9 12 23 55 25 86]\n"
     ]
    },
    {
     "data": {
      "text/plain": [
       "array([[ 3,  6,  9, 12],\n",
       "       [23, 55, 25, 86]])"
      ]
     },
     "execution_count": 18,
     "metadata": {},
     "output_type": "execute_result"
    }
   ],
   "source": [
    "# reshape\n",
    "a=np.array([3,6,9,12,23,55,25,86])\n",
    "print(a)\n",
    "np.reshape(a,(2,4))# reshaped the ndarray from a 1-D to a 2-D ndarray."
   ]
  },
  {
   "cell_type": "code",
   "execution_count": 19,
   "id": "560b431a-8b84-49da-ab62-888ef598f119",
   "metadata": {},
   "outputs": [
    {
     "name": "stdout",
     "output_type": "stream",
     "text": [
      "Three rows : \n",
      " [[ 3  6  9 12]\n",
      " [18 24 19 56]]\n"
     ]
    }
   ],
   "source": [
    "a=np.array([3,6,9,12,18,24,19,56])\n",
    "print('Three rows :','\\n',np.reshape(a,(2,-1)))"
   ]
  },
  {
   "cell_type": "code",
   "execution_count": 24,
   "id": "29b38754-fd98-4434-b704-4e869668fc28",
   "metadata": {},
   "outputs": [
    {
     "name": "stdout",
     "output_type": "stream",
     "text": [
      "Three rows : \n",
      " [[ 3  6  9 12]\n",
      " [18 24 19 56]]\n"
     ]
    }
   ],
   "source": [
    "a=np.array([3,6,9,12,18,24,19,56])\n",
    "print('Three rows :','\\n',np.reshape(a,(2,-2)))"
   ]
  },
  {
   "cell_type": "code",
   "execution_count": 26,
   "id": "e7ccae38-4f60-42df-ad97-f2cf82e62497",
   "metadata": {},
   "outputs": [
    {
     "name": "stdout",
     "output_type": "stream",
     "text": [
      "Three columns : \n",
      " [[ 3  6]\n",
      " [ 9 12]\n",
      " [18 24]\n",
      " [19 56]]\n"
     ]
    }
   ],
   "source": [
    "print('Three columns :','\\n',np.reshape(a,(-2,2)))"
   ]
  },
  {
   "cell_type": "code",
   "execution_count": 28,
   "id": "eca04fd8-a597-483d-9e2e-25916fd33496",
   "metadata": {},
   "outputs": [
    {
     "name": "stdout",
     "output_type": "stream",
     "text": [
      "Original shape : (2, 3)\n",
      "Array : \n",
      " [[1. 1. 1.]\n",
      " [1. 1. 1.]]\n",
      "Shape after flatten : (6,)\n",
      "Array : \n",
      " [1. 1. 1. 1. 1. 1.]\n",
      "Shape after ravel : (6,)\n",
      "Array : \n",
      " [1. 1. 1. 1. 1. 1.]\n"
     ]
    }
   ],
   "source": [
    "a = np.ones((2,3))\n",
    "b = a.flatten()\n",
    "c = a.ravel()\n",
    "print('Original shape :', a.shape)\n",
    "print('Array :','\\n', a)\n",
    "print('Shape after flatten :',b.shape)\n",
    "print('Array :','\\n', b)\n",
    "print('Shape after ravel :',c.shape)\n",
    "print('Array :','\\n', c)"
   ]
  },
  {
   "cell_type": "code",
   "execution_count": 31,
   "id": "55c4d8dd-dd6f-497f-8e1a-994263b43e82",
   "metadata": {},
   "outputs": [
    {
     "name": "stdout",
     "output_type": "stream",
     "text": [
      "[[ 3  6  9 12]\n",
      " [18 24 19 56]]\n"
     ]
    }
   ],
   "source": [
    "a=np.array([[3,6,9,12],[18,24,19,56]])\n",
    "print(a)"
   ]
  },
  {
   "cell_type": "code",
   "execution_count": 32,
   "id": "59348d57-77b9-4a49-9b6b-4c859843751d",
   "metadata": {},
   "outputs": [
    {
     "data": {
      "text/plain": [
       "array([ 3,  6,  9, 12, 18, 24, 19, 56])"
      ]
     },
     "execution_count": 32,
     "metadata": {},
     "output_type": "execute_result"
    }
   ],
   "source": [
    "a.flatten()"
   ]
  },
  {
   "cell_type": "code",
   "execution_count": 34,
   "id": "ba10fbce-bf88-40e0-b8a4-33c4011896d7",
   "metadata": {},
   "outputs": [
    {
     "name": "stdout",
     "output_type": "stream",
     "text": [
      "[[2 3 4 5 6]\n",
      " [5 8 9 6 3]]\n"
     ]
    }
   ],
   "source": [
    "b=np.array([[2,3,4,5,6],[5,8,9,6,3]])\n",
    "print(b)"
   ]
  },
  {
   "cell_type": "code",
   "execution_count": 35,
   "id": "aa31e5a0-c0e1-46fa-928d-4d9f3ac51284",
   "metadata": {},
   "outputs": [
    {
     "data": {
      "text/plain": [
       "array([2, 3, 4, 5, 6, 5, 8, 9, 6, 3])"
      ]
     },
     "execution_count": 35,
     "metadata": {},
     "output_type": "execute_result"
    }
   ],
   "source": [
    "b.flatten()"
   ]
  },
  {
   "cell_type": "code",
   "execution_count": 36,
   "id": "ce286754-2df8-4431-ade3-381dcf2da5c1",
   "metadata": {},
   "outputs": [
    {
     "name": "stdout",
     "output_type": "stream",
     "text": [
      "[[ 3  6  9 12]\n",
      " [18 24 19 56]]\n"
     ]
    }
   ],
   "source": [
    "b[0]=0# deep copy\n",
    "print(a)"
   ]
  },
  {
   "cell_type": "code",
   "execution_count": 37,
   "id": "b7253251-40f5-43ad-8eb2-f1ddab17c766",
   "metadata": {},
   "outputs": [
    {
     "name": "stdout",
     "output_type": "stream",
     "text": [
      "[[ 3  6  9 12]\n",
      " [18 24 19 56]]\n"
     ]
    }
   ],
   "source": [
    "c[0]=0# shallow copy\n",
    "print(a)"
   ]
  },
  {
   "cell_type": "code",
   "execution_count": 39,
   "id": "1a9bec24-fe3e-4ea8-9245-91661ab91241",
   "metadata": {},
   "outputs": [
    {
     "data": {
      "text/plain": [
       "[1, 2, 3, 4]"
      ]
     },
     "execution_count": 39,
     "metadata": {},
     "output_type": "execute_result"
    }
   ],
   "source": [
    "a=[1,2,3,4]\n",
    "a"
   ]
  },
  {
   "cell_type": "code",
   "execution_count": 40,
   "id": "b0311f24-eb36-4132-9a24-da6de773b880",
   "metadata": {},
   "outputs": [],
   "source": [
    "c=a"
   ]
  },
  {
   "cell_type": "code",
   "execution_count": 42,
   "id": "02c277d8-0563-4e97-a625-37dde84af841",
   "metadata": {},
   "outputs": [
    {
     "ename": "IndexError",
     "evalue": "list assignment index out of range",
     "output_type": "error",
     "traceback": [
      "\u001b[1;31m---------------------------------------------------------------------------\u001b[0m",
      "\u001b[1;31mIndexError\u001b[0m                                Traceback (most recent call last)",
      "Cell \u001b[1;32mIn[42], line 1\u001b[0m\n\u001b[1;32m----> 1\u001b[0m c[\u001b[38;5;241m100\u001b[39m]\u001b[38;5;241m=\u001b[39m\u001b[38;5;241m100\u001b[39m\n",
      "\u001b[1;31mIndexError\u001b[0m: list assignment index out of range"
     ]
    }
   ],
   "source": []
  },
  {
   "cell_type": "code",
   "execution_count": 43,
   "id": "a1566885-12b0-4243-b9cb-a98b0cfdd260",
   "metadata": {},
   "outputs": [
    {
     "name": "stdout",
     "output_type": "stream",
     "text": [
      "Original \n",
      " Shape (2, 3) \n",
      " [[1 2 3]\n",
      " [4 5 6]]\n",
      "Expand along columns: \n",
      " Shape (3, 2) \n",
      " [[1 4]\n",
      " [2 5]\n",
      " [3 6]]\n"
     ]
    }
   ],
   "source": [
    "a = np.array([[1,2,3],[4,5,6]])\n",
    "b = np.transpose(a)\n",
    "print('Original','\\n','Shape',a.shape,'\\n',a)\n",
    "print('Expand along columns:','\\n','Shape',b.shape,'\\n',b)"
   ]
  },
  {
   "cell_type": "code",
   "execution_count": 44,
   "id": "01950621-0186-4544-ad76-6e4b155ce383",
   "metadata": {},
   "outputs": [
    {
     "name": "stdout",
     "output_type": "stream",
     "text": [
      "Original: \n",
      " Shape (3,) \n",
      " [1 2 3]\n",
      "Expand along rows: \n",
      " Shape (1, 3) \n",
      " [[1 2 3]]\n",
      "Expand along columns: \n",
      " Shape (3, 1) \n",
      " [[1]\n",
      " [2]\n",
      " [3]]\n"
     ]
    }
   ],
   "source": [
    "# expand dimensions\n",
    "a = np.array([1,2,3])\n",
    "b = np.expand_dims(a,axis=0)#expand row\n",
    "c = np.expand_dims(a,axis=1)#expand col\n",
    "print('Original:','\\n','Shape',a.shape,'\\n',a)\n",
    "print('Expand along rows:','\\n','Shape',b.shape,'\\n',b)\n",
    "print('Expand along columns:','\\n','Shape',c.shape,'\\n',c)"
   ]
  },
  {
   "cell_type": "code",
   "execution_count": 45,
   "id": "c7ee80e0-9540-4511-8013-367990fe2c64",
   "metadata": {},
   "outputs": [
    {
     "name": "stdout",
     "output_type": "stream",
     "text": [
      "Original \n",
      " Shape (1, 2, 3) \n",
      " [[[1 2 3]\n",
      "  [4 5 6]]]\n",
      "Squeeze array: \n",
      " Shape (2, 3) \n",
      " [[1 2 3]\n",
      " [4 5 6]]\n"
     ]
    }
   ],
   "source": [
    "\n",
    "a=np.array([[[1,2,3],[4,5,6]]])\n",
    "b=np.squeeze(a, axis=0)#minimize dimension\n",
    "print('Original','\\n','Shape',a.shape,'\\n',a)\n",
    "print('Squeeze array:','\\n','Shape',b.shape,'\\n',b)"
   ]
  },
  {
   "cell_type": "code",
   "execution_count": null,
   "id": "8c0125c9-099b-426e-8490-2c62406de7d7",
   "metadata": {},
   "outputs": [],
   "source": []
  }
 ],
 "metadata": {
  "kernelspec": {
   "display_name": "Python 3 (ipykernel)",
   "language": "python",
   "name": "python3"
  },
  "language_info": {
   "codemirror_mode": {
    "name": "ipython",
    "version": 3
   },
   "file_extension": ".py",
   "mimetype": "text/x-python",
   "name": "python",
   "nbconvert_exporter": "python",
   "pygments_lexer": "ipython3",
   "version": "3.11.9"
  }
 },
 "nbformat": 4,
 "nbformat_minor": 5
}
